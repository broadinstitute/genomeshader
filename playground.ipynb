{
 "cells": [
  {
   "cell_type": "code",
   "execution_count": 1,
   "metadata": {},
   "outputs": [],
   "source": [
    "import genomeshader as gs"
   ]
  },
  {
   "cell_type": "code",
   "execution_count": 2,
   "metadata": {},
   "outputs": [],
   "source": [
    "s = gs.init()"
   ]
  },
  {
   "cell_type": "code",
   "execution_count": 3,
   "metadata": {},
   "outputs": [],
   "source": [
    "s.attach_bams([\n",
    "    'gs://fc-8c3900db-633f-477f-96b3-fb31ae265c44/results/PBFlowcell/m84175_231021_212604_s2/reads/ccs/aligned/m84175_231021_212604_s2.bam',\n",
    "    'gs://fc-8c3900db-633f-477f-96b3-fb31ae265c44/results/PBFlowcell/m84175_231021_215710_s3/reads/ccs/aligned/m84175_231021_215710_s3.bam',\n",
    "    'gs://fc-8c3900db-633f-477f-96b3-fb31ae265c44/results/PBFlowcell/m84175_231021_222816_s4/reads/ccs/aligned/m84175_231021_222816_s4.bam',\n",
    "])"
   ]
  },
  {
   "cell_type": "code",
   "execution_count": 4,
   "metadata": {},
   "outputs": [],
   "source": [
    "s.attach_loci([\n",
    "    'chr15:23,960,193-23,963,918',\n",
    "])"
   ]
  },
  {
   "cell_type": "code",
   "execution_count": 5,
   "metadata": {},
   "outputs": [],
   "source": [
    "s.stage()"
   ]
  },
  {
   "cell_type": "code",
   "execution_count": 6,
   "metadata": {},
   "outputs": [
    {
     "name": "stdout",
     "output_type": "stream",
     "text": [
      "BAMs:\n",
      " - gs://fc-8c3900db-633f-477f-96b3-fb31ae265c44/results/PBFlowcell/m84175_231021_212604_s2/reads/ccs/aligned/m84175_231021_212604_s2.bam\n",
      " - gs://fc-8c3900db-633f-477f-96b3-fb31ae265c44/results/PBFlowcell/m84175_231021_215710_s3/reads/ccs/aligned/m84175_231021_215710_s3.bam\n",
      " - gs://fc-8c3900db-633f-477f-96b3-fb31ae265c44/results/PBFlowcell/m84175_231021_222816_s4/reads/ccs/aligned/m84175_231021_222816_s4.bam\n",
      "Loci:\n",
      " - (\"chr15\", 23960193, 23963918)\n",
      "Staging:\n",
      " - chr15:23960193-23963918 : \"/var/folders/jp/l0z21gnj4f531jw12fvm0bx80000gq/T/chr15_23960193_23963918.parquet\"\n"
     ]
    }
   ],
   "source": [
    "s.print()"
   ]
  },
  {
   "cell_type": "code",
   "execution_count": 7,
   "metadata": {},
   "outputs": [
    {
     "data": {
      "text/html": [
       "<div><style>\n",
       ".dataframe > thead > tr > th,\n",
       ".dataframe > tbody > tr > td {\n",
       "  text-align: right;\n",
       "}\n",
       "</style>\n",
       "<small>shape: (1_093, 9)</small><table border=\"1\" class=\"dataframe\"><thead><tr><th>reference_contig</th><th>reference_start</th><th>reference_end</th><th>is_forward</th><th>query_name</th><th>read_group</th><th>sample_name</th><th>element_type</th><th>sequence</th></tr><tr><td>str</td><td>u32</td><td>u32</td><td>bool</td><td>str</td><td>str</td><td>str</td><td>u8</td><td>str</td></tr></thead><tbody><tr><td>&quot;chr15&quot;</td><td>23941696</td><td>23960621</td><td>true</td><td>&quot;m84175_231021_…</td><td>&quot;0a758968/17--1…</td><td>&quot;CP-102020-50&quot;</td><td>0</td><td>&quot;&quot;</td></tr><tr><td>&quot;chr15&quot;</td><td>23941755</td><td>23941756</td><td>true</td><td>&quot;m84175_231021_…</td><td>&quot;0a758968/17--1…</td><td>&quot;CP-102020-50&quot;</td><td>2</td><td>&quot;T&quot;</td></tr><tr><td>&quot;chr15&quot;</td><td>23941807</td><td>23941808</td><td>true</td><td>&quot;m84175_231021_…</td><td>&quot;0a758968/17--1…</td><td>&quot;CP-102020-50&quot;</td><td>2</td><td>&quot;G&quot;</td></tr><tr><td>&quot;chr15&quot;</td><td>23942168</td><td>23942169</td><td>true</td><td>&quot;m84175_231021_…</td><td>&quot;0a758968/17--1…</td><td>&quot;CP-102020-50&quot;</td><td>2</td><td>&quot;T&quot;</td></tr><tr><td>&quot;chr15&quot;</td><td>23942237</td><td>23942238</td><td>true</td><td>&quot;m84175_231021_…</td><td>&quot;0a758968/17--1…</td><td>&quot;CP-102020-50&quot;</td><td>3</td><td>&quot;&quot;</td></tr><tr><td>&quot;chr15&quot;</td><td>23942383</td><td>23942384</td><td>true</td><td>&quot;m84175_231021_…</td><td>&quot;0a758968/17--1…</td><td>&quot;CP-102020-50&quot;</td><td>1</td><td>&quot;T&quot;</td></tr><tr><td>&quot;chr15&quot;</td><td>23942619</td><td>23942620</td><td>true</td><td>&quot;m84175_231021_…</td><td>&quot;0a758968/17--1…</td><td>&quot;CP-102020-50&quot;</td><td>1</td><td>&quot;T&quot;</td></tr><tr><td>&quot;chr15&quot;</td><td>23943295</td><td>23943296</td><td>true</td><td>&quot;m84175_231021_…</td><td>&quot;0a758968/17--1…</td><td>&quot;CP-102020-50&quot;</td><td>3</td><td>&quot;&quot;</td></tr><tr><td>&quot;chr15&quot;</td><td>23943300</td><td>23943301</td><td>true</td><td>&quot;m84175_231021_…</td><td>&quot;0a758968/17--1…</td><td>&quot;CP-102020-50&quot;</td><td>1</td><td>&quot;T&quot;</td></tr><tr><td>&quot;chr15&quot;</td><td>23943592</td><td>23943593</td><td>true</td><td>&quot;m84175_231021_…</td><td>&quot;0a758968/17--1…</td><td>&quot;CP-102020-50&quot;</td><td>2</td><td>&quot;A&quot;</td></tr><tr><td>&quot;chr15&quot;</td><td>23943733</td><td>23943734</td><td>true</td><td>&quot;m84175_231021_…</td><td>&quot;0a758968/17--1…</td><td>&quot;CP-102020-50&quot;</td><td>2</td><td>&quot;C&quot;</td></tr><tr><td>&quot;chr15&quot;</td><td>23943769</td><td>23943770</td><td>true</td><td>&quot;m84175_231021_…</td><td>&quot;0a758968/17--1…</td><td>&quot;CP-102020-50&quot;</td><td>2</td><td>&quot;T&quot;</td></tr><tr><td>&hellip;</td><td>&hellip;</td><td>&hellip;</td><td>&hellip;</td><td>&hellip;</td><td>&hellip;</td><td>&hellip;</td><td>&hellip;</td><td>&hellip;</td></tr><tr><td>&quot;chr15&quot;</td><td>23977613</td><td>23977614</td><td>true</td><td>&quot;m84175_231021_…</td><td>&quot;d89a85f2/13--1…</td><td>&quot;CP-10202023-84…</td><td>3</td><td>&quot;&quot;</td></tr><tr><td>&quot;chr15&quot;</td><td>23977692</td><td>23977693</td><td>true</td><td>&quot;m84175_231021_…</td><td>&quot;d89a85f2/13--1…</td><td>&quot;CP-10202023-84…</td><td>1</td><td>&quot;T&quot;</td></tr><tr><td>&quot;chr15&quot;</td><td>23977693</td><td>23977694</td><td>true</td><td>&quot;m84175_231021_…</td><td>&quot;d89a85f2/13--1…</td><td>&quot;CP-10202023-84…</td><td>2</td><td>&quot;TA&quot;</td></tr><tr><td>&quot;chr15&quot;</td><td>23977938</td><td>23977939</td><td>true</td><td>&quot;m84175_231021_…</td><td>&quot;d89a85f2/13--1…</td><td>&quot;CP-10202023-84…</td><td>1</td><td>&quot;T&quot;</td></tr><tr><td>&quot;chr15&quot;</td><td>23978082</td><td>23978083</td><td>true</td><td>&quot;m84175_231021_…</td><td>&quot;d89a85f2/13--1…</td><td>&quot;CP-10202023-84…</td><td>3</td><td>&quot;&quot;</td></tr><tr><td>&quot;chr15&quot;</td><td>23978090</td><td>23978091</td><td>true</td><td>&quot;m84175_231021_…</td><td>&quot;d89a85f2/13--1…</td><td>&quot;CP-10202023-84…</td><td>3</td><td>&quot;&quot;</td></tr><tr><td>&quot;chr15&quot;</td><td>23978181</td><td>23978182</td><td>true</td><td>&quot;m84175_231021_…</td><td>&quot;d89a85f2/13--1…</td><td>&quot;CP-10202023-84…</td><td>1</td><td>&quot;G&quot;</td></tr><tr><td>&quot;chr15&quot;</td><td>23978222</td><td>23978223</td><td>true</td><td>&quot;m84175_231021_…</td><td>&quot;d89a85f2/13--1…</td><td>&quot;CP-10202023-84…</td><td>1</td><td>&quot;T&quot;</td></tr><tr><td>&quot;chr15&quot;</td><td>23978238</td><td>23978239</td><td>true</td><td>&quot;m84175_231021_…</td><td>&quot;d89a85f2/13--1…</td><td>&quot;CP-10202023-84…</td><td>3</td><td>&quot;&quot;</td></tr><tr><td>&quot;chr15&quot;</td><td>23978262</td><td>23978263</td><td>true</td><td>&quot;m84175_231021_…</td><td>&quot;d89a85f2/13--1…</td><td>&quot;CP-10202023-84…</td><td>1</td><td>&quot;C&quot;</td></tr><tr><td>&quot;chr15&quot;</td><td>23978378</td><td>23978379</td><td>true</td><td>&quot;m84175_231021_…</td><td>&quot;d89a85f2/13--1…</td><td>&quot;CP-10202023-84…</td><td>1</td><td>&quot;C&quot;</td></tr><tr><td>&quot;chr15&quot;</td><td>23978484</td><td>23978485</td><td>true</td><td>&quot;m84175_231021_…</td><td>&quot;d89a85f2/13--1…</td><td>&quot;CP-10202023-84…</td><td>3</td><td>&quot;&quot;</td></tr></tbody></table></div>"
      ],
      "text/plain": [
       "shape: (1_093, 9)\n",
       "┌────────────┬────────────┬────────────┬──────────┬───┬──────────┬───────────┬────────────┬──────────┐\n",
       "│ reference_ ┆ reference_ ┆ reference_ ┆ is_forwa ┆ … ┆ read_gro ┆ sample_na ┆ element_ty ┆ sequence │\n",
       "│ contig     ┆ start      ┆ end        ┆ rd       ┆   ┆ up       ┆ me        ┆ pe         ┆ ---      │\n",
       "│ ---        ┆ ---        ┆ ---        ┆ ---      ┆   ┆ ---      ┆ ---       ┆ ---        ┆ str      │\n",
       "│ str        ┆ u32        ┆ u32        ┆ bool     ┆   ┆ str      ┆ str       ┆ u8         ┆          │\n",
       "╞════════════╪════════════╪════════════╪══════════╪═══╪══════════╪═══════════╪════════════╪══════════╡\n",
       "│ chr15      ┆ 23941696   ┆ 23960621   ┆ true     ┆ … ┆ 0a758968 ┆ CP-102020 ┆ 0          ┆          │\n",
       "│            ┆            ┆            ┆          ┆   ┆ /17--17  ┆ -50       ┆            ┆          │\n",
       "│ chr15      ┆ 23941755   ┆ 23941756   ┆ true     ┆ … ┆ 0a758968 ┆ CP-102020 ┆ 2          ┆ T        │\n",
       "│            ┆            ┆            ┆          ┆   ┆ /17--17  ┆ -50       ┆            ┆          │\n",
       "│ chr15      ┆ 23941807   ┆ 23941808   ┆ true     ┆ … ┆ 0a758968 ┆ CP-102020 ┆ 2          ┆ G        │\n",
       "│            ┆            ┆            ┆          ┆   ┆ /17--17  ┆ -50       ┆            ┆          │\n",
       "│ chr15      ┆ 23942168   ┆ 23942169   ┆ true     ┆ … ┆ 0a758968 ┆ CP-102020 ┆ 2          ┆ T        │\n",
       "│            ┆            ┆            ┆          ┆   ┆ /17--17  ┆ -50       ┆            ┆          │\n",
       "│ …          ┆ …          ┆ …          ┆ …        ┆ … ┆ …        ┆ …         ┆ …          ┆ …        │\n",
       "│ chr15      ┆ 23978238   ┆ 23978239   ┆ true     ┆ … ┆ d89a85f2 ┆ CP-102020 ┆ 3          ┆          │\n",
       "│            ┆            ┆            ┆          ┆   ┆ /13--13  ┆ 23-84     ┆            ┆          │\n",
       "│ chr15      ┆ 23978262   ┆ 23978263   ┆ true     ┆ … ┆ d89a85f2 ┆ CP-102020 ┆ 1          ┆ C        │\n",
       "│            ┆            ┆            ┆          ┆   ┆ /13--13  ┆ 23-84     ┆            ┆          │\n",
       "│ chr15      ┆ 23978378   ┆ 23978379   ┆ true     ┆ … ┆ d89a85f2 ┆ CP-102020 ┆ 1          ┆ C        │\n",
       "│            ┆            ┆            ┆          ┆   ┆ /13--13  ┆ 23-84     ┆            ┆          │\n",
       "│ chr15      ┆ 23978484   ┆ 23978485   ┆ true     ┆ … ┆ d89a85f2 ┆ CP-102020 ┆ 3          ┆          │\n",
       "│            ┆            ┆            ┆          ┆   ┆ /13--13  ┆ 23-84     ┆            ┆          │\n",
       "└────────────┴────────────┴────────────┴──────────┴───┴──────────┴───────────┴────────────┴──────────┘"
      ]
     },
     "execution_count": 7,
     "metadata": {},
     "output_type": "execute_result"
    }
   ],
   "source": [
    "df = s.get_staged_locus('chr15:23,960,193-23,963,918')\n",
    "df"
   ]
  },
  {
   "cell_type": "code",
   "execution_count": 8,
   "metadata": {},
   "outputs": [
    {
     "data": {
      "text/plain": [
       "'CP-102020-50'"
      ]
     },
     "execution_count": 8,
     "metadata": {},
     "output_type": "execute_result"
    }
   ],
   "source": [
    "df['sample_name'][0]"
   ]
  },
  {
   "cell_type": "code",
   "execution_count": 9,
   "metadata": {},
   "outputs": [
    {
     "name": "stderr",
     "output_type": "stream",
     "text": [
      "thread '<unnamed>' panicked at src/app.rs:145:33:\n",
      "called `Option::unwrap()` on a `None` value\n",
      "note: run with `RUST_BACKTRACE=1` environment variable to display a backtrace\n"
     ]
    },
    {
     "ename": "PanicException",
     "evalue": "called `Option::unwrap()` on a `None` value",
     "output_type": "error",
     "traceback": [
      "\u001b[0;31m---------------------------------------------------------------------------\u001b[0m",
      "\u001b[0;31mPanicException\u001b[0m                            Traceback (most recent call last)",
      "\u001b[0;32m/var/folders/jp/l0z21gnj4f531jw12fvm0bx80000gq/T/ipykernel_81579/2065401471.py\u001b[0m in \u001b[0;36m<module>\u001b[0;34m\u001b[0m\n\u001b[0;32m----> 1\u001b[0;31m \u001b[0ms\u001b[0m\u001b[0;34m.\u001b[0m\u001b[0mdisplay\u001b[0m\u001b[0;34m(\u001b[0m\u001b[0mdf\u001b[0m\u001b[0;34m)\u001b[0m\u001b[0;34m\u001b[0m\u001b[0;34m\u001b[0m\u001b[0m\n\u001b[0m",
      "\u001b[0;31mPanicException\u001b[0m: called `Option::unwrap()` on a `None` value"
     ]
    }
   ],
   "source": [
    "s.display(df)"
   ]
  }
 ],
 "metadata": {
  "kernelspec": {
   "display_name": "venv",
   "language": "python",
   "name": "python3"
  },
  "language_info": {
   "codemirror_mode": {
    "name": "ipython",
    "version": 3
   },
   "file_extension": ".py",
   "mimetype": "text/x-python",
   "name": "python",
   "nbconvert_exporter": "python",
   "pygments_lexer": "ipython3",
   "version": "3.7.9"
  }
 },
 "nbformat": 4,
 "nbformat_minor": 2
}
