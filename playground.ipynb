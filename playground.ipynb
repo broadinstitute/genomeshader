{
 "cells": [
  {
   "cell_type": "code",
   "execution_count": 1,
   "metadata": {},
   "outputs": [],
   "source": [
    "import genomeshader as gs"
   ]
  },
  {
   "cell_type": "code",
   "execution_count": 2,
   "metadata": {},
   "outputs": [],
   "source": [
    "s = gs.init()"
   ]
  },
  {
   "cell_type": "code",
   "execution_count": 3,
   "metadata": {},
   "outputs": [],
   "source": [
    "s.attach_bams([\n",
    "    'gs://fc-8c3900db-633f-477f-96b3-fb31ae265c44/results/PBFlowcell/m84175_231021_212604_s2/reads/ccs/aligned/m84175_231021_212604_s2.bam',\n",
    "    'gs://fc-8c3900db-633f-477f-96b3-fb31ae265c44/results/PBFlowcell/m84175_231021_215710_s3/reads/ccs/aligned/m84175_231021_215710_s3.bam',\n",
    "    'gs://fc-8c3900db-633f-477f-96b3-fb31ae265c44/results/PBFlowcell/m84175_231021_222816_s4/reads/ccs/aligned/m84175_231021_222816_s4.bam',\n",
    "])"
   ]
  },
  {
   "cell_type": "code",
   "execution_count": 4,
   "metadata": {},
   "outputs": [],
   "source": [
    "s.attach_loci([\n",
    "    'chr15:23,960,193-23,963,918',\n",
    "])"
   ]
  },
  {
   "cell_type": "code",
   "execution_count": 5,
   "metadata": {},
   "outputs": [],
   "source": [
    "s.stage()"
   ]
  },
  {
   "cell_type": "code",
   "execution_count": 6,
   "metadata": {},
   "outputs": [
    {
     "name": "stdout",
     "output_type": "stream",
     "text": [
      "BAMs:\n",
      " - gs://fc-8c3900db-633f-477f-96b3-fb31ae265c44/results/PBFlowcell/m84175_231021_212604_s2/reads/ccs/aligned/m84175_231021_212604_s2.bam\n",
      " - gs://fc-8c3900db-633f-477f-96b3-fb31ae265c44/results/PBFlowcell/m84175_231021_215710_s3/reads/ccs/aligned/m84175_231021_215710_s3.bam\n",
      " - gs://fc-8c3900db-633f-477f-96b3-fb31ae265c44/results/PBFlowcell/m84175_231021_222816_s4/reads/ccs/aligned/m84175_231021_222816_s4.bam\n",
      "Loci:\n",
      " - (\"chr15\", 23960193, 23963918)\n",
      "Staging:\n",
      " - chr15:23960193-23963918 : \"/var/folders/jp/l0z21gnj4f531jw12fvm0bx80000gq/T/chr15_23960193_23963918.parquet\"\n"
     ]
    }
   ],
   "source": [
    "s.print()"
   ]
  },
  {
   "cell_type": "code",
   "execution_count": 7,
   "metadata": {},
   "outputs": [
    {
     "data": {
      "text/html": [
       "<div><style>\n",
       ".dataframe > thead > tr > th,\n",
       ".dataframe > tbody > tr > td {\n",
       "  text-align: right;\n",
       "}\n",
       "</style>\n",
       "<small>shape: (1_093, 9)</small><table border=\"1\" class=\"dataframe\"><thead><tr><th>reference_contig</th><th>reference_start</th><th>reference_end</th><th>is_forward</th><th>query_name</th><th>read_group</th><th>sample_name</th><th>element_type</th><th>sequence</th></tr><tr><td>str</td><td>u32</td><td>u32</td><td>bool</td><td>str</td><td>str</td><td>str</td><td>u8</td><td>str</td></tr></thead><tbody><tr><td>&quot;chr15&quot;</td><td>23945231</td><td>23961433</td><td>false</td><td>&quot;m84175_231021_…</td><td>&quot;d89a85f2/13--1…</td><td>&quot;CP-10202023-84…</td><td>0</td><td>&quot;&quot;</td></tr><tr><td>&quot;chr15&quot;</td><td>23945835</td><td>23945836</td><td>false</td><td>&quot;m84175_231021_…</td><td>&quot;d89a85f2/13--1…</td><td>&quot;CP-10202023-84…</td><td>2</td><td>&quot;T&quot;</td></tr><tr><td>&quot;chr15&quot;</td><td>23945852</td><td>23945853</td><td>false</td><td>&quot;m84175_231021_…</td><td>&quot;d89a85f2/13--1…</td><td>&quot;CP-10202023-84…</td><td>3</td><td>&quot;&quot;</td></tr><tr><td>&quot;chr15&quot;</td><td>23946099</td><td>23946100</td><td>false</td><td>&quot;m84175_231021_…</td><td>&quot;d89a85f2/13--1…</td><td>&quot;CP-10202023-84…</td><td>1</td><td>&quot;G&quot;</td></tr><tr><td>&quot;chr15&quot;</td><td>23946133</td><td>23946134</td><td>false</td><td>&quot;m84175_231021_…</td><td>&quot;d89a85f2/13--1…</td><td>&quot;CP-10202023-84…</td><td>1</td><td>&quot;C&quot;</td></tr><tr><td>&quot;chr15&quot;</td><td>23946149</td><td>23946150</td><td>false</td><td>&quot;m84175_231021_…</td><td>&quot;d89a85f2/13--1…</td><td>&quot;CP-10202023-84…</td><td>1</td><td>&quot;A&quot;</td></tr><tr><td>&quot;chr15&quot;</td><td>23946242</td><td>23946243</td><td>false</td><td>&quot;m84175_231021_…</td><td>&quot;d89a85f2/13--1…</td><td>&quot;CP-10202023-84…</td><td>1</td><td>&quot;C&quot;</td></tr><tr><td>&quot;chr15&quot;</td><td>23946537</td><td>23946538</td><td>false</td><td>&quot;m84175_231021_…</td><td>&quot;d89a85f2/13--1…</td><td>&quot;CP-10202023-84…</td><td>1</td><td>&quot;C&quot;</td></tr><tr><td>&quot;chr15&quot;</td><td>23947202</td><td>23947203</td><td>false</td><td>&quot;m84175_231021_…</td><td>&quot;d89a85f2/13--1…</td><td>&quot;CP-10202023-84…</td><td>2</td><td>&quot;TTTTTTTTTT&quot;</td></tr><tr><td>&quot;chr15&quot;</td><td>23947337</td><td>23947338</td><td>false</td><td>&quot;m84175_231021_…</td><td>&quot;d89a85f2/13--1…</td><td>&quot;CP-10202023-84…</td><td>2</td><td>&quot;G&quot;</td></tr><tr><td>&quot;chr15&quot;</td><td>23947707</td><td>23947708</td><td>false</td><td>&quot;m84175_231021_…</td><td>&quot;d89a85f2/13--1…</td><td>&quot;CP-10202023-84…</td><td>1</td><td>&quot;G&quot;</td></tr><tr><td>&quot;chr15&quot;</td><td>23947835</td><td>23947836</td><td>false</td><td>&quot;m84175_231021_…</td><td>&quot;d89a85f2/13--1…</td><td>&quot;CP-10202023-84…</td><td>1</td><td>&quot;A&quot;</td></tr><tr><td>&hellip;</td><td>&hellip;</td><td>&hellip;</td><td>&hellip;</td><td>&hellip;</td><td>&hellip;</td><td>&hellip;</td><td>&hellip;</td><td>&hellip;</td></tr><tr><td>&quot;chr15&quot;</td><td>23965332</td><td>23965333</td><td>true</td><td>&quot;m84175_231021_…</td><td>&quot;3d130404/11--1…</td><td>&quot;CP-102020-03&quot;</td><td>3</td><td>&quot;&quot;</td></tr><tr><td>&quot;chr15&quot;</td><td>23965414</td><td>23965415</td><td>true</td><td>&quot;m84175_231021_…</td><td>&quot;3d130404/11--1…</td><td>&quot;CP-102020-03&quot;</td><td>1</td><td>&quot;G&quot;</td></tr><tr><td>&quot;chr15&quot;</td><td>23965985</td><td>23965986</td><td>true</td><td>&quot;m84175_231021_…</td><td>&quot;3d130404/11--1…</td><td>&quot;CP-102020-03&quot;</td><td>1</td><td>&quot;A&quot;</td></tr><tr><td>&quot;chr15&quot;</td><td>23966207</td><td>23966208</td><td>true</td><td>&quot;m84175_231021_…</td><td>&quot;3d130404/11--1…</td><td>&quot;CP-102020-03&quot;</td><td>1</td><td>&quot;G&quot;</td></tr><tr><td>&quot;chr15&quot;</td><td>23966370</td><td>23966371</td><td>true</td><td>&quot;m84175_231021_…</td><td>&quot;3d130404/11--1…</td><td>&quot;CP-102020-03&quot;</td><td>1</td><td>&quot;G&quot;</td></tr><tr><td>&quot;chr15&quot;</td><td>23967266</td><td>23967267</td><td>true</td><td>&quot;m84175_231021_…</td><td>&quot;3d130404/11--1…</td><td>&quot;CP-102020-03&quot;</td><td>1</td><td>&quot;C&quot;</td></tr><tr><td>&quot;chr15&quot;</td><td>23967462</td><td>23967463</td><td>true</td><td>&quot;m84175_231021_…</td><td>&quot;3d130404/11--1…</td><td>&quot;CP-102020-03&quot;</td><td>1</td><td>&quot;C&quot;</td></tr><tr><td>&quot;chr15&quot;</td><td>23967901</td><td>23967902</td><td>true</td><td>&quot;m84175_231021_…</td><td>&quot;3d130404/11--1…</td><td>&quot;CP-102020-03&quot;</td><td>1</td><td>&quot;G&quot;</td></tr><tr><td>&quot;chr15&quot;</td><td>23968286</td><td>23968287</td><td>true</td><td>&quot;m84175_231021_…</td><td>&quot;3d130404/11--1…</td><td>&quot;CP-102020-03&quot;</td><td>1</td><td>&quot;G&quot;</td></tr><tr><td>&quot;chr15&quot;</td><td>23968640</td><td>23968641</td><td>true</td><td>&quot;m84175_231021_…</td><td>&quot;3d130404/11--1…</td><td>&quot;CP-102020-03&quot;</td><td>2</td><td>&quot;T&quot;</td></tr><tr><td>&quot;chr15&quot;</td><td>23968801</td><td>23968802</td><td>true</td><td>&quot;m84175_231021_…</td><td>&quot;3d130404/11--1…</td><td>&quot;CP-102020-03&quot;</td><td>1</td><td>&quot;A&quot;</td></tr><tr><td>&quot;chr15&quot;</td><td>23968872</td><td>23968873</td><td>true</td><td>&quot;m84175_231021_…</td><td>&quot;3d130404/11--1…</td><td>&quot;CP-102020-03&quot;</td><td>1</td><td>&quot;G&quot;</td></tr></tbody></table></div>"
      ],
      "text/plain": [
       "shape: (1_093, 9)\n",
       "┌────────────┬────────────┬────────────┬──────────┬───┬──────────┬───────────┬────────────┬──────────┐\n",
       "│ reference_ ┆ reference_ ┆ reference_ ┆ is_forwa ┆ … ┆ read_gro ┆ sample_na ┆ element_ty ┆ sequence │\n",
       "│ contig     ┆ start      ┆ end        ┆ rd       ┆   ┆ up       ┆ me        ┆ pe         ┆ ---      │\n",
       "│ ---        ┆ ---        ┆ ---        ┆ ---      ┆   ┆ ---      ┆ ---       ┆ ---        ┆ str      │\n",
       "│ str        ┆ u32        ┆ u32        ┆ bool     ┆   ┆ str      ┆ str       ┆ u8         ┆          │\n",
       "╞════════════╪════════════╪════════════╪══════════╪═══╪══════════╪═══════════╪════════════╪══════════╡\n",
       "│ chr15      ┆ 23945231   ┆ 23961433   ┆ false    ┆ … ┆ d89a85f2 ┆ CP-102020 ┆ 0          ┆          │\n",
       "│            ┆            ┆            ┆          ┆   ┆ /13--13  ┆ 23-84     ┆            ┆          │\n",
       "│ chr15      ┆ 23945835   ┆ 23945836   ┆ false    ┆ … ┆ d89a85f2 ┆ CP-102020 ┆ 2          ┆ T        │\n",
       "│            ┆            ┆            ┆          ┆   ┆ /13--13  ┆ 23-84     ┆            ┆          │\n",
       "│ chr15      ┆ 23945852   ┆ 23945853   ┆ false    ┆ … ┆ d89a85f2 ┆ CP-102020 ┆ 3          ┆          │\n",
       "│            ┆            ┆            ┆          ┆   ┆ /13--13  ┆ 23-84     ┆            ┆          │\n",
       "│ chr15      ┆ 23946099   ┆ 23946100   ┆ false    ┆ … ┆ d89a85f2 ┆ CP-102020 ┆ 1          ┆ G        │\n",
       "│            ┆            ┆            ┆          ┆   ┆ /13--13  ┆ 23-84     ┆            ┆          │\n",
       "│ …          ┆ …          ┆ …          ┆ …        ┆ … ┆ …        ┆ …         ┆ …          ┆ …        │\n",
       "│ chr15      ┆ 23968286   ┆ 23968287   ┆ true     ┆ … ┆ 3d130404 ┆ CP-102020 ┆ 1          ┆ G        │\n",
       "│            ┆            ┆            ┆          ┆   ┆ /11--11  ┆ -03       ┆            ┆          │\n",
       "│ chr15      ┆ 23968640   ┆ 23968641   ┆ true     ┆ … ┆ 3d130404 ┆ CP-102020 ┆ 2          ┆ T        │\n",
       "│            ┆            ┆            ┆          ┆   ┆ /11--11  ┆ -03       ┆            ┆          │\n",
       "│ chr15      ┆ 23968801   ┆ 23968802   ┆ true     ┆ … ┆ 3d130404 ┆ CP-102020 ┆ 1          ┆ A        │\n",
       "│            ┆            ┆            ┆          ┆   ┆ /11--11  ┆ -03       ┆            ┆          │\n",
       "│ chr15      ┆ 23968872   ┆ 23968873   ┆ true     ┆ … ┆ 3d130404 ┆ CP-102020 ┆ 1          ┆ G        │\n",
       "│            ┆            ┆            ┆          ┆   ┆ /11--11  ┆ -03       ┆            ┆          │\n",
       "└────────────┴────────────┴────────────┴──────────┴───┴──────────┴───────────┴────────────┴──────────┘"
      ]
     },
     "execution_count": 7,
     "metadata": {},
     "output_type": "execute_result"
    }
   ],
   "source": [
    "df = s.get_staged_locus('chr15:23,960,193-23,963,918')\n",
    "df"
   ]
  },
  {
   "cell_type": "code",
   "execution_count": 8,
   "metadata": {},
   "outputs": [
    {
     "ename": "",
     "evalue": "",
     "output_type": "error",
     "traceback": [
      "\u001b[1;31mThe Kernel crashed while executing code in the the current cell or a previous cell. Please review the code in the cell(s) to identify a possible cause of the failure. Click <a href='https://aka.ms/vscodeJupyterKernelCrash'>here</a> for more info. View Jupyter <a href='command:jupyter.viewOutput'>log</a> for further details."
     ]
    }
   ],
   "source": [
    "s.display(df)"
   ]
  }
 ],
 "metadata": {
  "kernelspec": {
   "display_name": "venv",
   "language": "python",
   "name": "python3"
  },
  "language_info": {
   "codemirror_mode": {
    "name": "ipython",
    "version": 3
   },
   "file_extension": ".py",
   "mimetype": "text/x-python",
   "name": "python",
   "nbconvert_exporter": "python",
   "pygments_lexer": "ipython3",
   "version": "3.7.9"
  }
 },
 "nbformat": 4,
 "nbformat_minor": 2
}
