{
 "cells": [
  {
   "cell_type": "code",
   "execution_count": 1,
   "metadata": {},
   "outputs": [],
   "source": [
    "import genomeshader as gs"
   ]
  },
  {
   "cell_type": "code",
   "execution_count": 2,
   "metadata": {},
   "outputs": [],
   "source": [
    "s = gs.init()"
   ]
  },
  {
   "cell_type": "code",
   "execution_count": 3,
   "metadata": {},
   "outputs": [],
   "source": [
    "# s.attach_bams([\n",
    "#     'gs://fc-8c3900db-633f-477f-96b3-fb31ae265c44/results/PBFlowcell/m84175_231021_212604_s2/reads/ccs/aligned/m84175_231021_212604_s2.bam',\n",
    "#     'gs://fc-8c3900db-633f-477f-96b3-fb31ae265c44/results/PBFlowcell/m84175_231021_215710_s3/reads/ccs/aligned/m84175_231021_215710_s3.bam',\n",
    "#     'gs://fc-8c3900db-633f-477f-96b3-fb31ae265c44/results/PBFlowcell/m84175_231021_222816_s4/reads/ccs/aligned/m84175_231021_222816_s4.bam',\n",
    "# ])"
   ]
  },
  {
   "cell_type": "code",
   "execution_count": 4,
   "metadata": {},
   "outputs": [],
   "source": [
    "s.attach_bams([\n",
    "    'gs://fc-8c3900db-633f-477f-96b3-fb31ae265c44/results/PBFlowcell/m84060_230907_210011_s2/reads/ccs/aligned/m84060_230907_210011_s2.bam',\n",
    "    'gs://fc-8c3900db-633f-477f-96b3-fb31ae265c44/results/PBFlowcell/m84043_230901_211947_s1/reads/ccs/aligned/m84043_230901_211947_s1.bam',\n",
    "    'gs://fc-8c3900db-633f-477f-96b3-fb31ae265c44/results/PBFlowcell/m84043_230906_201655_s1/reads/ccs/aligned/m84043_230906_201655_s1.bam',\n",
    "    'gs://fc-8c3900db-633f-477f-96b3-fb31ae265c44/results/PBFlowcell/m84060_230911_201403_s4/reads/ccs/aligned/m84060_230911_201403_s4.bam',\n",
    "    'gs://fc-8c3900db-633f-477f-96b3-fb31ae265c44/results/PBFlowcell/m84056_230829_203026_s1/reads/ccs/aligned/m84056_230829_203026_s1.bam',\n",
    "    'gs://fc-8c3900db-633f-477f-96b3-fb31ae265c44/results/PBFlowcell/m84043_230907_202641_s1/reads/ccs/aligned/m84043_230907_202641_s1.bam',\n",
    "    'gs://fc-8c3900db-633f-477f-96b3-fb31ae265c44/results/PBFlowcell/m84056_230906_212009_s3/reads/ccs/aligned/m84056_230906_212009_s3.bam',\n",
    "    'gs://fc-8c3900db-633f-477f-96b3-fb31ae265c44/results/PBFlowcell/m84063_230911_193237_s1/reads/ccs/aligned/m84063_230911_193237_s1.bam',\n",
    "    'gs://fc-8c3900db-633f-477f-96b3-fb31ae265c44/results/PBFlowcell/m84056_230907_213037_s3/reads/ccs/aligned/m84056_230907_213037_s3.bam',\n",
    "    'gs://fc-8c3900db-633f-477f-96b3-fb31ae265c44/results/PBFlowcell/m84060_230907_213117_s3/reads/ccs/aligned/m84060_230907_213117_s3.bam',\n",
    "    'gs://fc-8c3900db-633f-477f-96b3-fb31ae265c44/results/PBFlowcell/m84056_230911_184019_s1/reads/ccs/aligned/m84056_230911_184019_s1.bam',\n",
    "    'gs://fc-8c3900db-633f-477f-96b3-fb31ae265c44/results/PBFlowcell/m84060_230829_210144_s2/reads/ccs/aligned/m84060_230829_210144_s2.bam',\n",
    "    'gs://fc-8c3900db-633f-477f-96b3-fb31ae265c44/results/PBFlowcell/m84056_230906_201842_s1/reads/ccs/aligned/m84056_230906_201842_s1.bam',\n",
    "    'gs://fc-8c3900db-633f-477f-96b3-fb31ae265c44/results/PBFlowcell/m84060_230829_220357_s4/reads/ccs/aligned/m84060_230829_220357_s4.bam',\n",
    "    'gs://fc-8c3900db-633f-477f-96b3-fb31ae265c44/results/PBFlowcell/m84056_230909_164146_s1/reads/ccs/aligned/m84056_230909_164146_s1.bam',\n",
    "    'gs://fc-8c3900db-633f-477f-96b3-fb31ae265c44/results/PBFlowcell/m84056_230828_202039_s1/reads/ccs/aligned/m84056_230828_202039_s1.bam',\n",
    "    'gs://fc-8c3900db-633f-477f-96b3-fb31ae265c44/results/PBFlowcell/m84056_230829_220344_s4/reads/ccs/aligned/m84056_230829_220344_s4.bam',\n",
    "    'gs://fc-8c3900db-633f-477f-96b3-fb31ae265c44/results/PBFlowcell/m84063_230906_215238_s3/reads/ccs/aligned/m84063_230906_215238_s3.bam',\n",
    "    'gs://fc-8c3900db-633f-477f-96b3-fb31ae265c44/results/PBFlowcell/m84043_230907_212853_s3/reads/ccs/aligned/m84043_230907_212853_s3.bam',\n",
    "    'gs://fc-8c3900db-633f-477f-96b3-fb31ae265c44/results/PBFlowcell/m84063_230909_174409_s2/reads/ccs/aligned/m84063_230909_174409_s2.bam',\n",
    "    'gs://fc-8c3900db-633f-477f-96b3-fb31ae265c44/results/PBFlowcell/m84060_230909_174319_s3/reads/ccs/aligned/m84060_230909_174319_s3.bam',\n",
    "    'gs://fc-8c3900db-633f-477f-96b3-fb31ae265c44/results/PBFlowcell/m84063_230909_164235_s4/reads/ccs/aligned/m84063_230909_164235_s4.bam',\n",
    "    'gs://fc-8c3900db-633f-477f-96b3-fb31ae265c44/results/PBFlowcell/m84063_230909_181515_s3/reads/ccs/aligned/m84063_230909_181515_s3.bam',\n",
    "    'gs://fc-8c3900db-633f-477f-96b3-fb31ae265c44/results/PBFlowcell/m84063_230907_210055_s1/reads/ccs/aligned/m84063_230907_210055_s1.bam',\n",
    "    'gs://fc-8c3900db-633f-477f-96b3-fb31ae265c44/results/PBFlowcell/m84056_230907_202825_s1/reads/ccs/aligned/m84056_230907_202825_s1.bam',\n",
    "    'gs://fc-8c3900db-633f-477f-96b3-fb31ae265c44/results/PBFlowcell/m84043_230911_191037_s2/reads/ccs/aligned/m84043_230911_191037_s2.bam',\n",
    "    'gs://fc-8c3900db-633f-477f-96b3-fb31ae265c44/results/PBFlowcell/m84060_230911_194257_s3/reads/ccs/aligned/m84060_230911_194257_s3.bam',\n",
    "    'gs://fc-8c3900db-633f-477f-96b3-fb31ae265c44/results/PBFlowcell/m84056_230828_205059_s2/reads/ccs/aligned/m84056_230828_205059_s2.bam',\n",
    "    'gs://fc-8c3900db-633f-477f-96b3-fb31ae265c44/results/PBFlowcell/m84060_230911_184131_s1/reads/ccs/aligned/m84060_230911_184131_s1.bam',\n",
    "    'gs://fc-8c3900db-633f-477f-96b3-fb31ae265c44/results/PBFlowcell/m84060_230906_201922_s1/reads/ccs/aligned/m84060_230906_201922_s1.bam',\n",
    "    'gs://fc-8c3900db-633f-477f-96b3-fb31ae265c44/results/PBFlowcell/m84060_230907_220223_s4/reads/ccs/aligned/m84060_230907_220223_s4.bam',\n",
    "    'gs://fc-8c3900db-633f-477f-96b3-fb31ae265c44/results/PBFlowcell/m84056_230909_174313_s3/reads/ccs/aligned/m84056_230909_174313_s3.bam',\n",
    "    'gs://fc-8c3900db-633f-477f-96b3-fb31ae265c44/results/PBFlowcell/m84056_230828_215311_s4/reads/ccs/aligned/m84056_230828_215311_s4.bam',\n",
    "    'gs://fc-8c3900db-633f-477f-96b3-fb31ae265c44/results/PBFlowcell/m84043_230901_215053_s2/reads/ccs/aligned/m84043_230901_215053_s2.bam',\n",
    "    'gs://fc-8c3900db-633f-477f-96b3-fb31ae265c44/results/PBFlowcell/m84056_230906_204902_s2/reads/ccs/aligned/m84056_230906_204902_s2.bam',\n",
    "    'gs://fc-8c3900db-633f-477f-96b3-fb31ae265c44/results/PBFlowcell/m84060_230909_171213_s2/reads/ccs/aligned/m84060_230909_171213_s2.bam',\n",
    "    'gs://fc-8c3900db-633f-477f-96b3-fb31ae265c44/results/PBFlowcell/m84043_230906_204717_s2/reads/ccs/aligned/m84043_230906_204717_s2.bam',\n",
    "    'gs://fc-8c3900db-633f-477f-96b3-fb31ae265c44/results/PBFlowcell/m84060_230909_164149_s1/reads/ccs/aligned/m84060_230909_164149_s1.bam',\n",
    "    'gs://fc-8c3900db-633f-477f-96b3-fb31ae265c44/results/PBFlowcell/m84063_230906_212132_s2/reads/ccs/aligned/m84063_230906_212132_s2.bam',\n",
    "    'gs://fc-8c3900db-633f-477f-96b3-fb31ae265c44/results/PBFlowcell/m84060_230828_202101_s1/reads/ccs/aligned/m84060_230828_202101_s1.bam',\n",
    "    'gs://fc-8c3900db-633f-477f-96b3-fb31ae265c44/results/PBFlowcell/m84063_230906_205026_s1/reads/ccs/aligned/m84063_230906_205026_s1.bam',\n",
    "    'gs://fc-8c3900db-633f-477f-96b3-fb31ae265c44/results/PBFlowcell/m84056_230906_215115_s4/reads/ccs/aligned/m84056_230906_215115_s4.bam',\n",
    "    'gs://fc-8c3900db-633f-477f-96b3-fb31ae265c44/results/PBFlowcell/m84063_230911_200343_s2/reads/ccs/aligned/m84063_230911_200343_s2.bam',\n",
    "    'gs://fc-8c3900db-633f-477f-96b3-fb31ae265c44/results/PBFlowcell/m84056_230907_220143_s4/reads/ccs/aligned/m84056_230907_220143_s4.bam',\n",
    "    'gs://fc-8c3900db-633f-477f-96b3-fb31ae265c44/results/PBFlowcell/m84043_230907_215959_s4/reads/ccs/aligned/m84043_230907_215959_s4.bam',\n",
    "    'gs://fc-8c3900db-633f-477f-96b3-fb31ae265c44/results/PBFlowcell/m84043_230911_201249_s4/reads/ccs/aligned/m84043_230911_201249_s4.bam',\n",
    "    'gs://fc-8c3900db-633f-477f-96b3-fb31ae265c44/results/PBFlowcell/m84063_230907_202949_s4/reads/ccs/aligned/m84063_230907_202949_s4.bam',\n",
    "    'gs://fc-8c3900db-633f-477f-96b3-fb31ae265c44/results/PBFlowcell/m84056_230911_194146_s3/reads/ccs/aligned/m84056_230911_194146_s3.bam',\n",
    "    'gs://fc-8c3900db-633f-477f-96b3-fb31ae265c44/results/PBFlowcell/m84056_230829_210132_s2/reads/ccs/aligned/m84056_230829_210132_s2.bam',\n",
    "    'gs://fc-8c3900db-633f-477f-96b3-fb31ae265c44/results/PBFlowcell/m84063_230911_190209_s4/reads/ccs/aligned/m84063_230911_190209_s4.bam',\n",
    "    'gs://fc-8c3900db-633f-477f-96b3-fb31ae265c44/results/PBFlowcell/m84060_230906_215200_s4/reads/ccs/aligned/m84060_230906_215200_s4.bam',\n",
    "    'gs://fc-8c3900db-633f-477f-96b3-fb31ae265c44/results/PBFlowcell/m84063_230909_171303_s1/reads/ccs/aligned/m84063_230909_171303_s1.bam',\n",
    "    'gs://fc-8c3900db-633f-477f-96b3-fb31ae265c44/results/PBFlowcell/m84063_230907_220307_s3/reads/ccs/aligned/m84063_230907_220307_s3.bam',\n",
    "    'gs://fc-8c3900db-633f-477f-96b3-fb31ae265c44/results/PBFlowcell/m84056_230911_191040_s2/reads/ccs/aligned/m84056_230911_191040_s2.bam',\n",
    "    'gs://fc-8c3900db-633f-477f-96b3-fb31ae265c44/results/PBFlowcell/m84060_230906_212054_s3/reads/ccs/aligned/m84060_230906_212054_s3.bam',\n",
    "    'gs://fc-8c3900db-633f-477f-96b3-fb31ae265c44/results/PBFlowcell/m84060_230907_202905_s1/reads/ccs/aligned/m84060_230907_202905_s1.bam',\n",
    "    'gs://fc-8c3900db-633f-477f-96b3-fb31ae265c44/results/PBFlowcell/m84060_230829_203038_s1/reads/ccs/aligned/m84060_230829_203038_s1.bam',\n",
    "    'gs://fc-8c3900db-633f-477f-96b3-fb31ae265c44/results/PBFlowcell/m84056_230829_213238_s3/reads/ccs/aligned/m84056_230829_213238_s3.bam',\n",
    "    'gs://fc-8c3900db-633f-477f-96b3-fb31ae265c44/results/PBFlowcell/m84060_230828_205127_s2/reads/ccs/aligned/m84060_230828_205127_s2.bam',\n",
    "    'gs://fc-8c3900db-633f-477f-96b3-fb31ae265c44/results/PBFlowcell/m84056_230909_171207_s2/reads/ccs/aligned/m84056_230909_171207_s2.bam',\n",
    "    'gs://fc-8c3900db-633f-477f-96b3-fb31ae265c44/results/PBFlowcell/m84063_230906_201957_s4/reads/ccs/aligned/m84063_230906_201957_s4.bam',\n",
    "    'gs://fc-8c3900db-633f-477f-96b3-fb31ae265c44/results/PBFlowcell/m84060_230828_212233_s3/reads/ccs/aligned/m84060_230828_212233_s3.bam',\n",
    "    'gs://fc-8c3900db-633f-477f-96b3-fb31ae265c44/results/PBFlowcell/m84060_230829_213250_s3/reads/ccs/aligned/m84060_230829_213250_s3.bam',\n",
    "    'gs://fc-8c3900db-633f-477f-96b3-fb31ae265c44/results/PBFlowcell/m84056_230909_181419_s4/reads/ccs/aligned/m84056_230909_181419_s4.bam',\n",
    "    'gs://fc-8c3900db-633f-477f-96b3-fb31ae265c44/results/PBFlowcell/m84043_230901_222159_s3/reads/ccs/aligned/m84043_230901_222159_s3.bam',\n",
    "    'gs://fc-8c3900db-633f-477f-96b3-fb31ae265c44/results/PBFlowcell/m84056_230911_201252_s4/reads/ccs/aligned/m84056_230911_201252_s4.bam',\n",
    "    'gs://fc-8c3900db-633f-477f-96b3-fb31ae265c44/results/PBFlowcell/m84060_230911_191151_s2/reads/ccs/aligned/m84060_230911_191151_s2.bam',\n",
    "    'gs://fc-8c3900db-633f-477f-96b3-fb31ae265c44/results/PBFlowcell/m84043_230901_225305_s4/reads/ccs/aligned/m84043_230901_225305_s4.bam',\n",
    "    'gs://fc-8c3900db-633f-477f-96b3-fb31ae265c44/results/PBFlowcell/m84063_230911_203449_s3/reads/ccs/aligned/m84063_230911_203449_s3.bam',\n",
    "    'gs://fc-8c3900db-633f-477f-96b3-fb31ae265c44/results/PBFlowcell/m84063_230907_213201_s2/reads/ccs/aligned/m84063_230907_213201_s2.bam',\n",
    "    'gs://fc-8c3900db-633f-477f-96b3-fb31ae265c44/results/PBFlowcell/m84056_230907_205931_s2/reads/ccs/aligned/m84056_230907_205931_s2.bam',\n",
    "    'gs://fc-8c3900db-633f-477f-96b3-fb31ae265c44/results/PBFlowcell/m84060_230828_215339_s4/reads/ccs/aligned/m84060_230828_215339_s4.bam',\n",
    "    'gs://fc-8c3900db-633f-477f-96b3-fb31ae265c44/results/PBFlowcell/m84043_230911_184014_s1/reads/ccs/aligned/m84043_230911_184014_s1.bam',\n",
    "    'gs://fc-8c3900db-633f-477f-96b3-fb31ae265c44/results/PBFlowcell/m84056_230828_212205_s3/reads/ccs/aligned/m84056_230828_212205_s3.bam',\n",
    "    'gs://fc-8c3900db-633f-477f-96b3-fb31ae265c44/results/PBFlowcell/m84043_230907_205747_s2/reads/ccs/aligned/m84043_230907_205747_s2.bam',\n",
    "    'gs://fc-8c3900db-633f-477f-96b3-fb31ae265c44/results/PBFlowcell/m84043_230906_214929_s4/reads/ccs/aligned/m84043_230906_214929_s4.bam',\n",
    "    'gs://fc-8c3900db-633f-477f-96b3-fb31ae265c44/results/PBFlowcell/m84060_230906_204947_s2/reads/ccs/aligned/m84060_230906_204947_s2.bam',\n",
    "    'gs://fc-8c3900db-633f-477f-96b3-fb31ae265c44/results/PBFlowcell/m84043_230911_194143_s3/reads/ccs/aligned/m84043_230911_194143_s3.bam',\n",
    "    'gs://fc-8c3900db-633f-477f-96b3-fb31ae265c44/results/PBFlowcell/m84060_230909_181425_s4/reads/ccs/aligned/m84060_230909_181425_s4.bam',\n",
    "])"
   ]
  },
  {
   "cell_type": "code",
   "execution_count": 5,
   "metadata": {},
   "outputs": [],
   "source": [
    "s.attach_loci([\n",
    "    'chr15:23,960,193-23,963,918',\n",
    "])"
   ]
  },
  {
   "cell_type": "code",
   "execution_count": 6,
   "metadata": {},
   "outputs": [],
   "source": [
    "import time\n",
    "start_time = time.time()\n",
    "\n",
    "s.stage()\n",
    "\n",
    "print(\"Execution time: %s seconds\" % (time.time() - start_time))"
   ]
  },
  {
   "cell_type": "code",
   "execution_count": 7,
   "metadata": {},
   "outputs": [
    {
     "name": "stdout",
     "output_type": "stream",
     "text": [
      "BAMs:\n",
      " - gs://fc-8c3900db-633f-477f-96b3-fb31ae265c44/results/PBFlowcell/m84043_230901_211947_s1/reads/ccs/aligned/m84043_230901_211947_s1.bam\n",
      " - gs://fc-8c3900db-633f-477f-96b3-fb31ae265c44/results/PBFlowcell/m84060_230828_205127_s2/reads/ccs/aligned/m84060_230828_205127_s2.bam\n",
      " - gs://fc-8c3900db-633f-477f-96b3-fb31ae265c44/results/PBFlowcell/m84056_230907_205931_s2/reads/ccs/aligned/m84056_230907_205931_s2.bam\n",
      " - gs://fc-8c3900db-633f-477f-96b3-fb31ae265c44/results/PBFlowcell/m84063_230911_200343_s2/reads/ccs/aligned/m84063_230911_200343_s2.bam\n",
      " - gs://fc-8c3900db-633f-477f-96b3-fb31ae265c44/results/PBFlowcell/m84056_230909_171207_s2/reads/ccs/aligned/m84056_230909_171207_s2.bam\n",
      " - gs://fc-8c3900db-633f-477f-96b3-fb31ae265c44/results/PBFlowcell/m84060_230911_184131_s1/reads/ccs/aligned/m84060_230911_184131_s1.bam\n",
      " - gs://fc-8c3900db-633f-477f-96b3-fb31ae265c44/results/PBFlowcell/m84060_230909_174319_s3/reads/ccs/aligned/m84060_230909_174319_s3.bam\n",
      " - gs://fc-8c3900db-633f-477f-96b3-fb31ae265c44/results/PBFlowcell/m84063_230907_220307_s3/reads/ccs/aligned/m84063_230907_220307_s3.bam\n",
      " - gs://fc-8c3900db-633f-477f-96b3-fb31ae265c44/results/PBFlowcell/m84056_230906_201842_s1/reads/ccs/aligned/m84056_230906_201842_s1.bam\n",
      " - gs://fc-8c3900db-633f-477f-96b3-fb31ae265c44/results/PBFlowcell/m84060_230907_220223_s4/reads/ccs/aligned/m84060_230907_220223_s4.bam\n",
      " - gs://fc-8c3900db-633f-477f-96b3-fb31ae265c44/results/PBFlowcell/m84063_230907_210055_s1/reads/ccs/aligned/m84063_230907_210055_s1.bam\n",
      " - gs://fc-8c3900db-633f-477f-96b3-fb31ae265c44/results/PBFlowcell/m84060_230911_194257_s3/reads/ccs/aligned/m84060_230911_194257_s3.bam\n",
      " - gs://fc-8c3900db-633f-477f-96b3-fb31ae265c44/results/PBFlowcell/m84043_230911_184014_s1/reads/ccs/aligned/m84043_230911_184014_s1.bam\n",
      " - gs://fc-8c3900db-633f-477f-96b3-fb31ae265c44/results/PBFlowcell/m84063_230906_215238_s3/reads/ccs/aligned/m84063_230906_215238_s3.bam\n",
      " - gs://fc-8c3900db-633f-477f-96b3-fb31ae265c44/results/PBFlowcell/m84063_230906_205026_s1/reads/ccs/aligned/m84063_230906_205026_s1.bam\n",
      " - gs://fc-8c3900db-633f-477f-96b3-fb31ae265c44/results/PBFlowcell/m84060_230911_191151_s2/reads/ccs/aligned/m84060_230911_191151_s2.bam\n",
      " - gs://fc-8c3900db-633f-477f-96b3-fb31ae265c44/results/PBFlowcell/m84056_230829_203026_s1/reads/ccs/aligned/m84056_230829_203026_s1.bam\n",
      " - gs://fc-8c3900db-633f-477f-96b3-fb31ae265c44/results/PBFlowcell/m84060_230906_212054_s3/reads/ccs/aligned/m84060_230906_212054_s3.bam\n",
      " - gs://fc-8c3900db-633f-477f-96b3-fb31ae265c44/results/PBFlowcell/m84056_230829_213238_s3/reads/ccs/aligned/m84056_230829_213238_s3.bam\n",
      " - gs://fc-8c3900db-633f-477f-96b3-fb31ae265c44/results/PBFlowcell/m84056_230828_205059_s2/reads/ccs/aligned/m84056_230828_205059_s2.bam\n",
      " - gs://fc-8c3900db-633f-477f-96b3-fb31ae265c44/results/PBFlowcell/m84043_230907_215959_s4/reads/ccs/aligned/m84043_230907_215959_s4.bam\n",
      " - gs://fc-8c3900db-633f-477f-96b3-fb31ae265c44/results/PBFlowcell/m84056_230828_212205_s3/reads/ccs/aligned/m84056_230828_212205_s3.bam\n",
      " - gs://fc-8c3900db-633f-477f-96b3-fb31ae265c44/results/PBFlowcell/m84043_230906_201655_s1/reads/ccs/aligned/m84043_230906_201655_s1.bam\n",
      " - gs://fc-8c3900db-633f-477f-96b3-fb31ae265c44/results/PBFlowcell/m84060_230829_220357_s4/reads/ccs/aligned/m84060_230829_220357_s4.bam\n",
      " - gs://fc-8c3900db-633f-477f-96b3-fb31ae265c44/results/PBFlowcell/m84060_230907_202905_s1/reads/ccs/aligned/m84060_230907_202905_s1.bam\n",
      " - gs://fc-8c3900db-633f-477f-96b3-fb31ae265c44/results/PBFlowcell/m84056_230829_210132_s2/reads/ccs/aligned/m84056_230829_210132_s2.bam\n",
      " - gs://fc-8c3900db-633f-477f-96b3-fb31ae265c44/results/PBFlowcell/m84056_230909_174313_s3/reads/ccs/aligned/m84056_230909_174313_s3.bam\n",
      " - gs://fc-8c3900db-633f-477f-96b3-fb31ae265c44/results/PBFlowcell/m84043_230906_204717_s2/reads/ccs/aligned/m84043_230906_204717_s2.bam\n",
      " - gs://fc-8c3900db-633f-477f-96b3-fb31ae265c44/results/PBFlowcell/m84056_230911_191040_s2/reads/ccs/aligned/m84056_230911_191040_s2.bam\n",
      " - gs://fc-8c3900db-633f-477f-96b3-fb31ae265c44/results/PBFlowcell/m84056_230907_220143_s4/reads/ccs/aligned/m84056_230907_220143_s4.bam\n",
      " - gs://fc-8c3900db-633f-477f-96b3-fb31ae265c44/results/PBFlowcell/m84060_230909_164149_s1/reads/ccs/aligned/m84060_230909_164149_s1.bam\n",
      " - gs://fc-8c3900db-633f-477f-96b3-fb31ae265c44/results/PBFlowcell/m84060_230829_203038_s1/reads/ccs/aligned/m84060_230829_203038_s1.bam\n",
      " - gs://fc-8c3900db-633f-477f-96b3-fb31ae265c44/results/PBFlowcell/m84060_230906_204947_s2/reads/ccs/aligned/m84060_230906_204947_s2.bam\n",
      " - gs://fc-8c3900db-633f-477f-96b3-fb31ae265c44/results/PBFlowcell/m84063_230906_201957_s4/reads/ccs/aligned/m84063_230906_201957_s4.bam\n",
      " - gs://fc-8c3900db-633f-477f-96b3-fb31ae265c44/results/PBFlowcell/m84056_230907_213037_s3/reads/ccs/aligned/m84056_230907_213037_s3.bam\n",
      " - gs://fc-8c3900db-633f-477f-96b3-fb31ae265c44/results/PBFlowcell/m84056_230828_202039_s1/reads/ccs/aligned/m84056_230828_202039_s1.bam\n",
      " - gs://fc-8c3900db-633f-477f-96b3-fb31ae265c44/results/PBFlowcell/m84043_230907_205747_s2/reads/ccs/aligned/m84043_230907_205747_s2.bam\n",
      " - gs://fc-8c3900db-633f-477f-96b3-fb31ae265c44/results/PBFlowcell/m84043_230911_194143_s3/reads/ccs/aligned/m84043_230911_194143_s3.bam\n",
      " - gs://fc-8c3900db-633f-477f-96b3-fb31ae265c44/results/PBFlowcell/m84063_230909_164235_s4/reads/ccs/aligned/m84063_230909_164235_s4.bam\n",
      " - gs://fc-8c3900db-633f-477f-96b3-fb31ae265c44/results/PBFlowcell/m84056_230906_212009_s3/reads/ccs/aligned/m84056_230906_212009_s3.bam\n",
      " - gs://fc-8c3900db-633f-477f-96b3-fb31ae265c44/results/PBFlowcell/m84060_230828_215339_s4/reads/ccs/aligned/m84060_230828_215339_s4.bam\n",
      " - gs://fc-8c3900db-633f-477f-96b3-fb31ae265c44/results/PBFlowcell/m84060_230911_201403_s4/reads/ccs/aligned/m84060_230911_201403_s4.bam\n",
      " - gs://fc-8c3900db-633f-477f-96b3-fb31ae265c44/results/PBFlowcell/m84043_230907_212853_s3/reads/ccs/aligned/m84043_230907_212853_s3.bam\n",
      " - gs://fc-8c3900db-633f-477f-96b3-fb31ae265c44/results/PBFlowcell/m84063_230906_212132_s2/reads/ccs/aligned/m84063_230906_212132_s2.bam\n",
      " - gs://fc-8c3900db-633f-477f-96b3-fb31ae265c44/results/PBFlowcell/m84056_230911_184019_s1/reads/ccs/aligned/m84056_230911_184019_s1.bam\n",
      " - gs://fc-8c3900db-633f-477f-96b3-fb31ae265c44/results/PBFlowcell/m84043_230907_202641_s1/reads/ccs/aligned/m84043_230907_202641_s1.bam\n",
      " - gs://fc-8c3900db-633f-477f-96b3-fb31ae265c44/results/PBFlowcell/m84056_230909_164146_s1/reads/ccs/aligned/m84056_230909_164146_s1.bam\n",
      " - gs://fc-8c3900db-633f-477f-96b3-fb31ae265c44/results/PBFlowcell/m84056_230906_204902_s2/reads/ccs/aligned/m84056_230906_204902_s2.bam\n",
      " - gs://fc-8c3900db-633f-477f-96b3-fb31ae265c44/results/PBFlowcell/m84060_230828_202101_s1/reads/ccs/aligned/m84060_230828_202101_s1.bam\n",
      " - gs://fc-8c3900db-633f-477f-96b3-fb31ae265c44/results/PBFlowcell/m84056_230828_215311_s4/reads/ccs/aligned/m84056_230828_215311_s4.bam\n",
      " - gs://fc-8c3900db-633f-477f-96b3-fb31ae265c44/results/PBFlowcell/m84056_230829_220344_s4/reads/ccs/aligned/m84056_230829_220344_s4.bam\n",
      " - gs://fc-8c3900db-633f-477f-96b3-fb31ae265c44/results/PBFlowcell/m84043_230901_215053_s2/reads/ccs/aligned/m84043_230901_215053_s2.bam\n",
      " - gs://fc-8c3900db-633f-477f-96b3-fb31ae265c44/results/PBFlowcell/m84043_230911_201249_s4/reads/ccs/aligned/m84043_230911_201249_s4.bam\n",
      " - gs://fc-8c3900db-633f-477f-96b3-fb31ae265c44/results/PBFlowcell/m84063_230907_202949_s4/reads/ccs/aligned/m84063_230907_202949_s4.bam\n",
      " - gs://fc-8c3900db-633f-477f-96b3-fb31ae265c44/results/PBFlowcell/m84063_230911_190209_s4/reads/ccs/aligned/m84063_230911_190209_s4.bam\n",
      " - gs://fc-8c3900db-633f-477f-96b3-fb31ae265c44/results/PBFlowcell/m84043_230901_225305_s4/reads/ccs/aligned/m84043_230901_225305_s4.bam\n",
      " - gs://fc-8c3900db-633f-477f-96b3-fb31ae265c44/results/PBFlowcell/m84060_230909_181425_s4/reads/ccs/aligned/m84060_230909_181425_s4.bam\n",
      " - gs://fc-8c3900db-633f-477f-96b3-fb31ae265c44/results/PBFlowcell/m84043_230901_222159_s3/reads/ccs/aligned/m84043_230901_222159_s3.bam\n",
      " - gs://fc-8c3900db-633f-477f-96b3-fb31ae265c44/results/PBFlowcell/m84056_230911_201252_s4/reads/ccs/aligned/m84056_230911_201252_s4.bam\n",
      " - gs://fc-8c3900db-633f-477f-96b3-fb31ae265c44/results/PBFlowcell/m84063_230909_174409_s2/reads/ccs/aligned/m84063_230909_174409_s2.bam\n",
      " - gs://fc-8c3900db-633f-477f-96b3-fb31ae265c44/results/PBFlowcell/m84063_230909_181515_s3/reads/ccs/aligned/m84063_230909_181515_s3.bam\n",
      " - gs://fc-8c3900db-633f-477f-96b3-fb31ae265c44/results/PBFlowcell/m84060_230829_210144_s2/reads/ccs/aligned/m84060_230829_210144_s2.bam\n",
      " - gs://fc-8c3900db-633f-477f-96b3-fb31ae265c44/results/PBFlowcell/m84060_230829_213250_s3/reads/ccs/aligned/m84060_230829_213250_s3.bam\n",
      " - gs://fc-8c3900db-633f-477f-96b3-fb31ae265c44/results/PBFlowcell/m84063_230911_193237_s1/reads/ccs/aligned/m84063_230911_193237_s1.bam\n",
      " - gs://fc-8c3900db-633f-477f-96b3-fb31ae265c44/results/PBFlowcell/m84060_230906_201922_s1/reads/ccs/aligned/m84060_230906_201922_s1.bam\n",
      " - gs://fc-8c3900db-633f-477f-96b3-fb31ae265c44/results/PBFlowcell/m84060_230907_210011_s2/reads/ccs/aligned/m84060_230907_210011_s2.bam\n",
      " - gs://fc-8c3900db-633f-477f-96b3-fb31ae265c44/results/PBFlowcell/m84060_230909_171213_s2/reads/ccs/aligned/m84060_230909_171213_s2.bam\n",
      " - gs://fc-8c3900db-633f-477f-96b3-fb31ae265c44/results/PBFlowcell/m84056_230906_215115_s4/reads/ccs/aligned/m84056_230906_215115_s4.bam\n",
      " - gs://fc-8c3900db-633f-477f-96b3-fb31ae265c44/results/PBFlowcell/m84060_230907_213117_s3/reads/ccs/aligned/m84060_230907_213117_s3.bam\n",
      " - gs://fc-8c3900db-633f-477f-96b3-fb31ae265c44/results/PBFlowcell/m84063_230911_203449_s3/reads/ccs/aligned/m84063_230911_203449_s3.bam\n",
      " - gs://fc-8c3900db-633f-477f-96b3-fb31ae265c44/results/PBFlowcell/m84060_230906_215200_s4/reads/ccs/aligned/m84060_230906_215200_s4.bam\n",
      " - gs://fc-8c3900db-633f-477f-96b3-fb31ae265c44/results/PBFlowcell/m84043_230906_214929_s4/reads/ccs/aligned/m84043_230906_214929_s4.bam\n",
      " - gs://fc-8c3900db-633f-477f-96b3-fb31ae265c44/results/PBFlowcell/m84063_230907_213201_s2/reads/ccs/aligned/m84063_230907_213201_s2.bam\n",
      " - gs://fc-8c3900db-633f-477f-96b3-fb31ae265c44/results/PBFlowcell/m84060_230828_212233_s3/reads/ccs/aligned/m84060_230828_212233_s3.bam\n",
      " - gs://fc-8c3900db-633f-477f-96b3-fb31ae265c44/results/PBFlowcell/m84056_230907_202825_s1/reads/ccs/aligned/m84056_230907_202825_s1.bam\n",
      " - gs://fc-8c3900db-633f-477f-96b3-fb31ae265c44/results/PBFlowcell/m84056_230911_194146_s3/reads/ccs/aligned/m84056_230911_194146_s3.bam\n",
      " - gs://fc-8c3900db-633f-477f-96b3-fb31ae265c44/results/PBFlowcell/m84063_230909_171303_s1/reads/ccs/aligned/m84063_230909_171303_s1.bam\n",
      " - gs://fc-8c3900db-633f-477f-96b3-fb31ae265c44/results/PBFlowcell/m84056_230909_181419_s4/reads/ccs/aligned/m84056_230909_181419_s4.bam\n",
      " - gs://fc-8c3900db-633f-477f-96b3-fb31ae265c44/results/PBFlowcell/m84043_230911_191037_s2/reads/ccs/aligned/m84043_230911_191037_s2.bam\n",
      "Loci:\n",
      " - (\"chr15\", 23960193, 23963918)\n",
      "Staging:\n",
      " - chr15:23960193-23963918 : \"/var/folders/jp/l0z21gnj4f531jw12fvm0bx80000gq/T/chr15_23960193_23963918.parquet\"\n"
     ]
    }
   ],
   "source": [
    "s.print()"
   ]
  },
  {
   "cell_type": "code",
   "execution_count": 8,
   "metadata": {},
   "outputs": [
    {
     "data": {
      "text/html": [
       "<div><style>\n",
       ".dataframe > thead > tr > th,\n",
       ".dataframe > tbody > tr > td {\n",
       "  text-align: right;\n",
       "}\n",
       "</style>\n",
       "<small>shape: (427_655, 10)</small><table border=\"1\" class=\"dataframe\"><thead><tr><th>reference_contig</th><th>reference_start</th><th>reference_end</th><th>is_forward</th><th>query_name</th><th>read_group</th><th>sample_name</th><th>element_type</th><th>sequence</th><th>column_width</th></tr><tr><td>str</td><td>u32</td><td>u32</td><td>bool</td><td>str</td><td>str</td><td>str</td><td>u8</td><td>str</td><td>u32</td></tr></thead><tbody><tr><td>&quot;chr15&quot;</td><td>23947377</td><td>23960338</td><td>true</td><td>&quot;m84060_230909_…</td><td>&quot;c88892f0/74--7…</td><td>&quot;RGP_2176_3&quot;</td><td>0</td><td>&quot;&quot;</td><td>1</td></tr><tr><td>&quot;chr15&quot;</td><td>23947707</td><td>23947708</td><td>true</td><td>&quot;m84060_230909_…</td><td>&quot;c88892f0/74--7…</td><td>&quot;RGP_2176_3&quot;</td><td>1</td><td>&quot;G&quot;</td><td>1</td></tr><tr><td>&quot;chr15&quot;</td><td>23948941</td><td>23948942</td><td>true</td><td>&quot;m84060_230909_…</td><td>&quot;c88892f0/74--7…</td><td>&quot;RGP_2176_3&quot;</td><td>2</td><td>&quot;AAA&quot;</td><td>4</td></tr><tr><td>&quot;chr15&quot;</td><td>23950318</td><td>23950322</td><td>true</td><td>&quot;m84060_230909_…</td><td>&quot;c88892f0/74--7…</td><td>&quot;RGP_2176_3&quot;</td><td>3</td><td>&quot;&quot;</td><td>8</td></tr><tr><td>&quot;chr15&quot;</td><td>23951274</td><td>23951275</td><td>true</td><td>&quot;m84060_230909_…</td><td>&quot;c88892f0/74--7…</td><td>&quot;RGP_2176_3&quot;</td><td>1</td><td>&quot;C&quot;</td><td>1</td></tr><tr><td>&quot;chr15&quot;</td><td>23951305</td><td>23951306</td><td>true</td><td>&quot;m84060_230909_…</td><td>&quot;c88892f0/74--7…</td><td>&quot;RGP_2176_3&quot;</td><td>1</td><td>&quot;A&quot;</td><td>1</td></tr><tr><td>&quot;chr15&quot;</td><td>23951571</td><td>23951572</td><td>true</td><td>&quot;m84060_230909_…</td><td>&quot;c88892f0/74--7…</td><td>&quot;RGP_2176_3&quot;</td><td>1</td><td>&quot;G&quot;</td><td>1</td></tr><tr><td>&quot;chr15&quot;</td><td>23953109</td><td>23953110</td><td>true</td><td>&quot;m84060_230909_…</td><td>&quot;c88892f0/74--7…</td><td>&quot;RGP_2176_3&quot;</td><td>1</td><td>&quot;T&quot;</td><td>1</td></tr><tr><td>&quot;chr15&quot;</td><td>23953150</td><td>23953151</td><td>true</td><td>&quot;m84060_230909_…</td><td>&quot;c88892f0/74--7…</td><td>&quot;RGP_2176_3&quot;</td><td>1</td><td>&quot;T&quot;</td><td>1</td></tr><tr><td>&quot;chr15&quot;</td><td>23953484</td><td>23953485</td><td>true</td><td>&quot;m84060_230909_…</td><td>&quot;c88892f0/74--7…</td><td>&quot;RGP_2176_3&quot;</td><td>2</td><td>&quot;TT&quot;</td><td>3</td></tr><tr><td>&quot;chr15&quot;</td><td>23953565</td><td>23953566</td><td>true</td><td>&quot;m84060_230909_…</td><td>&quot;c88892f0/74--7…</td><td>&quot;RGP_2176_3&quot;</td><td>1</td><td>&quot;A&quot;</td><td>1</td></tr><tr><td>&quot;chr15&quot;</td><td>23954360</td><td>23954361</td><td>true</td><td>&quot;m84060_230909_…</td><td>&quot;c88892f0/74--7…</td><td>&quot;RGP_2176_3&quot;</td><td>1</td><td>&quot;A&quot;</td><td>1</td></tr><tr><td>&hellip;</td><td>&hellip;</td><td>&hellip;</td><td>&hellip;</td><td>&hellip;</td><td>&hellip;</td><td>&hellip;</td><td>&hellip;</td><td>&hellip;</td><td>&hellip;</td></tr><tr><td>&quot;chr15&quot;</td><td>23975368</td><td>23975369</td><td>true</td><td>&quot;m84060_230828_…</td><td>&quot;022cb8cb/75--7…</td><td>&quot;RGP_1780_3&quot;</td><td>1</td><td>&quot;C&quot;</td><td>1</td></tr><tr><td>&quot;chr15&quot;</td><td>23975671</td><td>23975672</td><td>true</td><td>&quot;m84060_230828_…</td><td>&quot;022cb8cb/75--7…</td><td>&quot;RGP_1780_3&quot;</td><td>1</td><td>&quot;G&quot;</td><td>1</td></tr><tr><td>&quot;chr15&quot;</td><td>23975679</td><td>23975680</td><td>true</td><td>&quot;m84060_230828_…</td><td>&quot;022cb8cb/75--7…</td><td>&quot;RGP_1780_3&quot;</td><td>1</td><td>&quot;A&quot;</td><td>1</td></tr><tr><td>&quot;chr15&quot;</td><td>23975939</td><td>23975940</td><td>true</td><td>&quot;m84060_230828_…</td><td>&quot;022cb8cb/75--7…</td><td>&quot;RGP_1780_3&quot;</td><td>1</td><td>&quot;C&quot;</td><td>1</td></tr><tr><td>&quot;chr15&quot;</td><td>23976000</td><td>23976001</td><td>true</td><td>&quot;m84060_230828_…</td><td>&quot;022cb8cb/75--7…</td><td>&quot;RGP_1780_3&quot;</td><td>1</td><td>&quot;A&quot;</td><td>1</td></tr><tr><td>&quot;chr15&quot;</td><td>23976004</td><td>23976005</td><td>true</td><td>&quot;m84060_230828_…</td><td>&quot;022cb8cb/75--7…</td><td>&quot;RGP_1780_3&quot;</td><td>1</td><td>&quot;A&quot;</td><td>1</td></tr><tr><td>&quot;chr15&quot;</td><td>23976030</td><td>23976031</td><td>true</td><td>&quot;m84060_230828_…</td><td>&quot;022cb8cb/75--7…</td><td>&quot;RGP_1780_3&quot;</td><td>1</td><td>&quot;T&quot;</td><td>1</td></tr><tr><td>&quot;chr15&quot;</td><td>23976573</td><td>23976574</td><td>true</td><td>&quot;m84060_230828_…</td><td>&quot;022cb8cb/75--7…</td><td>&quot;RGP_1780_3&quot;</td><td>1</td><td>&quot;C&quot;</td><td>1</td></tr><tr><td>&quot;chr15&quot;</td><td>23976598</td><td>23976599</td><td>true</td><td>&quot;m84060_230828_…</td><td>&quot;022cb8cb/75--7…</td><td>&quot;RGP_1780_3&quot;</td><td>1</td><td>&quot;G&quot;</td><td>1</td></tr><tr><td>&quot;chr15&quot;</td><td>23976654</td><td>23976655</td><td>true</td><td>&quot;m84060_230828_…</td><td>&quot;022cb8cb/75--7…</td><td>&quot;RGP_1780_3&quot;</td><td>1</td><td>&quot;A&quot;</td><td>1</td></tr><tr><td>&quot;chr15&quot;</td><td>23976705</td><td>23976706</td><td>true</td><td>&quot;m84060_230828_…</td><td>&quot;022cb8cb/75--7…</td><td>&quot;RGP_1780_3&quot;</td><td>1</td><td>&quot;T&quot;</td><td>1</td></tr><tr><td>&quot;chr15&quot;</td><td>23976727</td><td>23976728</td><td>true</td><td>&quot;m84060_230828_…</td><td>&quot;022cb8cb/75--7…</td><td>&quot;RGP_1780_3&quot;</td><td>1</td><td>&quot;T&quot;</td><td>1</td></tr></tbody></table></div>"
      ],
      "text/plain": [
       "shape: (427_655, 10)\n",
       "┌────────────┬────────────┬────────────┬──────────┬───┬───────────┬────────────┬──────────┬────────────┐\n",
       "│ reference_ ┆ reference_ ┆ reference_ ┆ is_forwa ┆ … ┆ sample_na ┆ element_ty ┆ sequence ┆ column_wid │\n",
       "│ contig     ┆ start      ┆ end        ┆ rd       ┆   ┆ me        ┆ pe         ┆ ---      ┆ th         │\n",
       "│ ---        ┆ ---        ┆ ---        ┆ ---      ┆   ┆ ---       ┆ ---        ┆ str      ┆ ---        │\n",
       "│ str        ┆ u32        ┆ u32        ┆ bool     ┆   ┆ str       ┆ u8         ┆          ┆ u32        │\n",
       "╞════════════╪════════════╪════════════╪══════════╪═══╪═══════════╪════════════╪══════════╪════════════╡\n",
       "│ chr15      ┆ 23947377   ┆ 23960338   ┆ true     ┆ … ┆ RGP_2176_ ┆ 0          ┆          ┆ 1          │\n",
       "│            ┆            ┆            ┆          ┆   ┆ 3         ┆            ┆          ┆            │\n",
       "│ chr15      ┆ 23947707   ┆ 23947708   ┆ true     ┆ … ┆ RGP_2176_ ┆ 1          ┆ G        ┆ 1          │\n",
       "│            ┆            ┆            ┆          ┆   ┆ 3         ┆            ┆          ┆            │\n",
       "│ chr15      ┆ 23948941   ┆ 23948942   ┆ true     ┆ … ┆ RGP_2176_ ┆ 2          ┆ AAA      ┆ 4          │\n",
       "│            ┆            ┆            ┆          ┆   ┆ 3         ┆            ┆          ┆            │\n",
       "│ chr15      ┆ 23950318   ┆ 23950322   ┆ true     ┆ … ┆ RGP_2176_ ┆ 3          ┆          ┆ 8          │\n",
       "│            ┆            ┆            ┆          ┆   ┆ 3         ┆            ┆          ┆            │\n",
       "│ …          ┆ …          ┆ …          ┆ …        ┆ … ┆ …         ┆ …          ┆ …        ┆ …          │\n",
       "│ chr15      ┆ 23976598   ┆ 23976599   ┆ true     ┆ … ┆ RGP_1780_ ┆ 1          ┆ G        ┆ 1          │\n",
       "│            ┆            ┆            ┆          ┆   ┆ 3         ┆            ┆          ┆            │\n",
       "│ chr15      ┆ 23976654   ┆ 23976655   ┆ true     ┆ … ┆ RGP_1780_ ┆ 1          ┆ A        ┆ 1          │\n",
       "│            ┆            ┆            ┆          ┆   ┆ 3         ┆            ┆          ┆            │\n",
       "│ chr15      ┆ 23976705   ┆ 23976706   ┆ true     ┆ … ┆ RGP_1780_ ┆ 1          ┆ T        ┆ 1          │\n",
       "│            ┆            ┆            ┆          ┆   ┆ 3         ┆            ┆          ┆            │\n",
       "│ chr15      ┆ 23976727   ┆ 23976728   ┆ true     ┆ … ┆ RGP_1780_ ┆ 1          ┆ T        ┆ 1          │\n",
       "│            ┆            ┆            ┆          ┆   ┆ 3         ┆            ┆          ┆            │\n",
       "└────────────┴────────────┴────────────┴──────────┴───┴───────────┴────────────┴──────────┴────────────┘"
      ]
     },
     "execution_count": 8,
     "metadata": {},
     "output_type": "execute_result"
    }
   ],
   "source": [
    "df = s.get_staged_locus('chr15:23,960,193-23,963,918')\n",
    "df"
   ]
  },
  {
   "cell_type": "code",
   "execution_count": 9,
   "metadata": {},
   "outputs": [
    {
     "data": {
      "text/html": [
       "<div><style>\n",
       ".dataframe > thead > tr > th,\n",
       ".dataframe > tbody > tr > td {\n",
       "  text-align: right;\n",
       "}\n",
       "</style>\n",
       "<small>shape: (639, 10)</small><table border=\"1\" class=\"dataframe\"><thead><tr><th>reference_contig</th><th>reference_start</th><th>reference_end</th><th>is_forward</th><th>query_name</th><th>read_group</th><th>sample_name</th><th>element_type</th><th>sequence</th><th>column_width</th></tr><tr><td>str</td><td>u32</td><td>u32</td><td>bool</td><td>str</td><td>str</td><td>str</td><td>u8</td><td>str</td><td>u32</td></tr></thead><tbody><tr><td>&quot;chr15&quot;</td><td>23965041</td><td>23965042</td><td>true</td><td>&quot;m84060_230909_…</td><td>&quot;c88892f0/74--7…</td><td>&quot;RGP_2176_3&quot;</td><td>2</td><td>&quot;TTG&quot;</td><td>3</td></tr><tr><td>&quot;chr15&quot;</td><td>23965041</td><td>23965042</td><td>true</td><td>&quot;m84060_230909_…</td><td>&quot;c88892f0/74--7…</td><td>&quot;RGP_2176_3&quot;</td><td>2</td><td>&quot;TTG&quot;</td><td>3</td></tr><tr><td>&quot;chr15&quot;</td><td>23965041</td><td>23965042</td><td>false</td><td>&quot;m84060_230909_…</td><td>&quot;c88892f0/74--7…</td><td>&quot;RGP_2176_3&quot;</td><td>2</td><td>&quot;TTG&quot;</td><td>3</td></tr><tr><td>&quot;chr15&quot;</td><td>23965041</td><td>23965042</td><td>false</td><td>&quot;m84060_230909_…</td><td>&quot;c88892f0/74--7…</td><td>&quot;RGP_2176_3&quot;</td><td>2</td><td>&quot;TTG&quot;</td><td>3</td></tr><tr><td>&quot;chr15&quot;</td><td>23965041</td><td>23965042</td><td>false</td><td>&quot;m84056_230828_…</td><td>&quot;f7b68285/68--6…</td><td>&quot;RGP_101_2&quot;</td><td>2</td><td>&quot;TTG&quot;</td><td>4</td></tr><tr><td>&quot;chr15&quot;</td><td>23965041</td><td>23965042</td><td>false</td><td>&quot;m84056_230828_…</td><td>&quot;f7b68285/68--6…</td><td>&quot;RGP_101_2&quot;</td><td>2</td><td>&quot;TG&quot;</td><td>4</td></tr><tr><td>&quot;chr15&quot;</td><td>23965041</td><td>23965042</td><td>true</td><td>&quot;m84056_230828_…</td><td>&quot;f7b68285/68--6…</td><td>&quot;RGP_101_2&quot;</td><td>2</td><td>&quot;TTG&quot;</td><td>4</td></tr><tr><td>&quot;chr15&quot;</td><td>23965041</td><td>23965042</td><td>false</td><td>&quot;m84056_230828_…</td><td>&quot;f7b68285/68--6…</td><td>&quot;RGP_101_2&quot;</td><td>2</td><td>&quot;TTG&quot;</td><td>4</td></tr><tr><td>&quot;chr15&quot;</td><td>23965041</td><td>23965042</td><td>true</td><td>&quot;m84056_230828_…</td><td>&quot;f7b68285/68--6…</td><td>&quot;RGP_101_2&quot;</td><td>2</td><td>&quot;TTG&quot;</td><td>4</td></tr><tr><td>&quot;chr15&quot;</td><td>23965041</td><td>23965042</td><td>false</td><td>&quot;m84056_230828_…</td><td>&quot;f7b68285/68--6…</td><td>&quot;RGP_101_2&quot;</td><td>2</td><td>&quot;TTG&quot;</td><td>4</td></tr><tr><td>&quot;chr15&quot;</td><td>23965041</td><td>23965042</td><td>false</td><td>&quot;m84056_230828_…</td><td>&quot;f7b68285/68--6…</td><td>&quot;RGP_101_2&quot;</td><td>2</td><td>&quot;TG&quot;</td><td>4</td></tr><tr><td>&quot;chr15&quot;</td><td>23965041</td><td>23965042</td><td>false</td><td>&quot;m84056_230828_…</td><td>&quot;f7b68285/68--6…</td><td>&quot;RGP_101_2&quot;</td><td>2</td><td>&quot;TTG&quot;</td><td>4</td></tr><tr><td>&hellip;</td><td>&hellip;</td><td>&hellip;</td><td>&hellip;</td><td>&hellip;</td><td>&hellip;</td><td>&hellip;</td><td>&hellip;</td><td>&hellip;</td><td>&hellip;</td></tr><tr><td>&quot;chr15&quot;</td><td>23965041</td><td>23965042</td><td>true</td><td>&quot;m84043_230901_…</td><td>&quot;c82d6ba9/85--8…</td><td>&quot;RGP_1598_3&quot;</td><td>2</td><td>&quot;TTG&quot;</td><td>4</td></tr><tr><td>&quot;chr15&quot;</td><td>23965041</td><td>23965042</td><td>true</td><td>&quot;m84043_230901_…</td><td>&quot;c82d6ba9/85--8…</td><td>&quot;RGP_1598_3&quot;</td><td>2</td><td>&quot;TTTG&quot;</td><td>4</td></tr><tr><td>&quot;chr15&quot;</td><td>23965041</td><td>23965042</td><td>true</td><td>&quot;m84043_230901_…</td><td>&quot;c82d6ba9/85--8…</td><td>&quot;RGP_1598_3&quot;</td><td>2</td><td>&quot;TTG&quot;</td><td>4</td></tr><tr><td>&quot;chr15&quot;</td><td>23965041</td><td>23965042</td><td>true</td><td>&quot;m84043_230901_…</td><td>&quot;c82d6ba9/85--8…</td><td>&quot;RGP_1598_3&quot;</td><td>2</td><td>&quot;TTG&quot;</td><td>4</td></tr><tr><td>&quot;chr15&quot;</td><td>23965041</td><td>23965042</td><td>true</td><td>&quot;m84043_230901_…</td><td>&quot;c82d6ba9/85--8…</td><td>&quot;RGP_1598_3&quot;</td><td>2</td><td>&quot;TTG&quot;</td><td>4</td></tr><tr><td>&quot;chr15&quot;</td><td>23965041</td><td>23965042</td><td>true</td><td>&quot;m84043_230901_…</td><td>&quot;c82d6ba9/85--8…</td><td>&quot;RGP_1598_3&quot;</td><td>2</td><td>&quot;TTG&quot;</td><td>4</td></tr><tr><td>&quot;chr15&quot;</td><td>23965041</td><td>23965042</td><td>true</td><td>&quot;m84043_230901_…</td><td>&quot;c82d6ba9/85--8…</td><td>&quot;RGP_1598_3&quot;</td><td>2</td><td>&quot;TTG&quot;</td><td>4</td></tr><tr><td>&quot;chr15&quot;</td><td>23965041</td><td>23965042</td><td>false</td><td>&quot;m84043_230901_…</td><td>&quot;c82d6ba9/85--8…</td><td>&quot;RGP_1598_3&quot;</td><td>2</td><td>&quot;TTG&quot;</td><td>4</td></tr><tr><td>&quot;chr15&quot;</td><td>23965041</td><td>23965042</td><td>false</td><td>&quot;m84043_230901_…</td><td>&quot;c82d6ba9/85--8…</td><td>&quot;RGP_1598_3&quot;</td><td>2</td><td>&quot;TTTG&quot;</td><td>4</td></tr><tr><td>&quot;chr15&quot;</td><td>23965041</td><td>23965042</td><td>false</td><td>&quot;m84043_230901_…</td><td>&quot;c82d6ba9/85--8…</td><td>&quot;RGP_1598_3&quot;</td><td>2</td><td>&quot;TTG&quot;</td><td>4</td></tr><tr><td>&quot;chr15&quot;</td><td>23965041</td><td>23965042</td><td>true</td><td>&quot;m84043_230901_…</td><td>&quot;c82d6ba9/85--8…</td><td>&quot;RGP_1598_3&quot;</td><td>2</td><td>&quot;TTG&quot;</td><td>4</td></tr><tr><td>&quot;chr15&quot;</td><td>23965041</td><td>23965042</td><td>false</td><td>&quot;m84056_230906_…</td><td>&quot;8aed0ce6/8--8&quot;</td><td>&quot;RGP_1706_3&quot;</td><td>4</td><td>&quot;A&quot;</td><td>1</td></tr></tbody></table></div>"
      ],
      "text/plain": [
       "shape: (639, 10)\n",
       "┌────────────┬────────────┬────────────┬──────────┬───┬───────────┬────────────┬──────────┬────────────┐\n",
       "│ reference_ ┆ reference_ ┆ reference_ ┆ is_forwa ┆ … ┆ sample_na ┆ element_ty ┆ sequence ┆ column_wid │\n",
       "│ contig     ┆ start      ┆ end        ┆ rd       ┆   ┆ me        ┆ pe         ┆ ---      ┆ th         │\n",
       "│ ---        ┆ ---        ┆ ---        ┆ ---      ┆   ┆ ---       ┆ ---        ┆ str      ┆ ---        │\n",
       "│ str        ┆ u32        ┆ u32        ┆ bool     ┆   ┆ str       ┆ u8         ┆          ┆ u32        │\n",
       "╞════════════╪════════════╪════════════╪══════════╪═══╪═══════════╪════════════╪══════════╪════════════╡\n",
       "│ chr15      ┆ 23965041   ┆ 23965042   ┆ true     ┆ … ┆ RGP_2176_ ┆ 2          ┆ TTG      ┆ 3          │\n",
       "│            ┆            ┆            ┆          ┆   ┆ 3         ┆            ┆          ┆            │\n",
       "│ chr15      ┆ 23965041   ┆ 23965042   ┆ true     ┆ … ┆ RGP_2176_ ┆ 2          ┆ TTG      ┆ 3          │\n",
       "│            ┆            ┆            ┆          ┆   ┆ 3         ┆            ┆          ┆            │\n",
       "│ chr15      ┆ 23965041   ┆ 23965042   ┆ false    ┆ … ┆ RGP_2176_ ┆ 2          ┆ TTG      ┆ 3          │\n",
       "│            ┆            ┆            ┆          ┆   ┆ 3         ┆            ┆          ┆            │\n",
       "│ chr15      ┆ 23965041   ┆ 23965042   ┆ false    ┆ … ┆ RGP_2176_ ┆ 2          ┆ TTG      ┆ 3          │\n",
       "│            ┆            ┆            ┆          ┆   ┆ 3         ┆            ┆          ┆            │\n",
       "│ …          ┆ …          ┆ …          ┆ …        ┆ … ┆ …         ┆ …          ┆ …        ┆ …          │\n",
       "│ chr15      ┆ 23965041   ┆ 23965042   ┆ false    ┆ … ┆ RGP_1598_ ┆ 2          ┆ TTTG     ┆ 4          │\n",
       "│            ┆            ┆            ┆          ┆   ┆ 3         ┆            ┆          ┆            │\n",
       "│ chr15      ┆ 23965041   ┆ 23965042   ┆ false    ┆ … ┆ RGP_1598_ ┆ 2          ┆ TTG      ┆ 4          │\n",
       "│            ┆            ┆            ┆          ┆   ┆ 3         ┆            ┆          ┆            │\n",
       "│ chr15      ┆ 23965041   ┆ 23965042   ┆ true     ┆ … ┆ RGP_1598_ ┆ 2          ┆ TTG      ┆ 4          │\n",
       "│            ┆            ┆            ┆          ┆   ┆ 3         ┆            ┆          ┆            │\n",
       "│ chr15      ┆ 23965041   ┆ 23965042   ┆ false    ┆ … ┆ RGP_1706_ ┆ 4          ┆ A        ┆ 1          │\n",
       "│            ┆            ┆            ┆          ┆   ┆ 3         ┆            ┆          ┆            │\n",
       "└────────────┴────────────┴────────────┴──────────┴───┴───────────┴────────────┴──────────┴────────────┘"
      ]
     },
     "execution_count": 9,
     "metadata": {},
     "output_type": "execute_result"
    }
   ],
   "source": [
    "df.filter(df[\"reference_start\"] == 23965041)"
   ]
  },
  {
   "cell_type": "code",
   "execution_count": 10,
   "metadata": {},
   "outputs": [
    {
     "ename": "",
     "evalue": "",
     "output_type": "error",
     "traceback": [
      "\u001b[1;31mThe Kernel crashed while executing code in the the current cell or a previous cell. Please review the code in the cell(s) to identify a possible cause of the failure. Click <a href='https://aka.ms/vscodeJupyterKernelCrash'>here</a> for more info. View Jupyter <a href='command:jupyter.viewOutput'>log</a> for further details."
     ]
    }
   ],
   "source": [
    "s.display(df)"
   ]
  }
 ],
 "metadata": {
  "kernelspec": {
   "display_name": "venv",
   "language": "python",
   "name": "python3"
  },
  "language_info": {
   "codemirror_mode": {
    "name": "ipython",
    "version": 3
   },
   "file_extension": ".py",
   "mimetype": "text/x-python",
   "name": "python",
   "nbconvert_exporter": "python",
   "pygments_lexer": "ipython3",
   "version": "3.7.9"
  }
 },
 "nbformat": 4,
 "nbformat_minor": 2
}
