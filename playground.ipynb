{
 "cells": [
  {
   "cell_type": "code",
   "execution_count": 1,
   "metadata": {},
   "outputs": [],
   "source": [
    "import genomeshader as gs"
   ]
  },
  {
   "cell_type": "code",
   "execution_count": 2,
   "metadata": {},
   "outputs": [],
   "source": [
    "s = gs.init()"
   ]
  },
  {
   "cell_type": "code",
   "execution_count": 3,
   "metadata": {},
   "outputs": [],
   "source": [
    "s.attach_bams([\n",
    "    'gs://fc-8c3900db-633f-477f-96b3-fb31ae265c44/results/PBFlowcell/m84175_231021_212604_s2/reads/ccs/aligned/m84175_231021_212604_s2.bam',\n",
    "    'gs://fc-8c3900db-633f-477f-96b3-fb31ae265c44/results/PBFlowcell/m84175_231021_215710_s3/reads/ccs/aligned/m84175_231021_215710_s3.bam',\n",
    "    'gs://fc-8c3900db-633f-477f-96b3-fb31ae265c44/results/PBFlowcell/m84175_231021_222816_s4/reads/ccs/aligned/m84175_231021_222816_s4.bam',\n",
    "])"
   ]
  },
  {
   "cell_type": "code",
   "execution_count": 4,
   "metadata": {},
   "outputs": [],
   "source": [
    "s.attach_loci([\n",
    "    'chr15:23,960,193-23,963,918',\n",
    "])"
   ]
  },
  {
   "cell_type": "code",
   "execution_count": 5,
   "metadata": {},
   "outputs": [],
   "source": [
    "s.stage()"
   ]
  },
  {
   "cell_type": "code",
   "execution_count": 6,
   "metadata": {},
   "outputs": [
    {
     "name": "stdout",
     "output_type": "stream",
     "text": [
      "BAMs:\n",
      " - gs://fc-8c3900db-633f-477f-96b3-fb31ae265c44/results/PBFlowcell/m84175_231021_212604_s2/reads/ccs/aligned/m84175_231021_212604_s2.bam\n",
      " - gs://fc-8c3900db-633f-477f-96b3-fb31ae265c44/results/PBFlowcell/m84175_231021_222816_s4/reads/ccs/aligned/m84175_231021_222816_s4.bam\n",
      " - gs://fc-8c3900db-633f-477f-96b3-fb31ae265c44/results/PBFlowcell/m84175_231021_215710_s3/reads/ccs/aligned/m84175_231021_215710_s3.bam\n",
      "Loci:\n",
      " - (\"chr15\", 23960193, 23963918)\n",
      "Staging:\n",
      " - chr15:23960193-23963918 : \"/var/folders/jp/l0z21gnj4f531jw12fvm0bx80000gq/T/chr15_23960193_23963918.parquet\"\n"
     ]
    }
   ],
   "source": [
    "s.print()"
   ]
  },
  {
   "cell_type": "code",
   "execution_count": 7,
   "metadata": {},
   "outputs": [
    {
     "data": {
      "text/html": [
       "<div><style>\n",
       ".dataframe > thead > tr > th,\n",
       ".dataframe > tbody > tr > td {\n",
       "  text-align: right;\n",
       "}\n",
       "</style>\n",
       "<small>shape: (1_093, 9)</small><table border=\"1\" class=\"dataframe\"><thead><tr><th>reference_contig</th><th>reference_start</th><th>reference_end</th><th>is_forward</th><th>query_name</th><th>read_group</th><th>sample_name</th><th>element_type</th><th>sequence</th></tr><tr><td>str</td><td>u32</td><td>u32</td><td>bool</td><td>str</td><td>str</td><td>str</td><td>u8</td><td>str</td></tr></thead><tbody><tr><td>&quot;chr15&quot;</td><td>23949731</td><td>23980709</td><td>true</td><td>&quot;m84175_231021_…</td><td>&quot;3d130404/11--1…</td><td>&quot;CP-102020-03&quot;</td><td>0</td><td>&quot;&quot;</td></tr><tr><td>&quot;chr15&quot;</td><td>23950043</td><td>23950044</td><td>true</td><td>&quot;m84175_231021_…</td><td>&quot;3d130404/11--1…</td><td>&quot;CP-102020-03&quot;</td><td>3</td><td>&quot;&quot;</td></tr><tr><td>&quot;chr15&quot;</td><td>23950179</td><td>23950180</td><td>true</td><td>&quot;m84175_231021_…</td><td>&quot;3d130404/11--1…</td><td>&quot;CP-102020-03&quot;</td><td>2</td><td>&quot;A&quot;</td></tr><tr><td>&quot;chr15&quot;</td><td>23950242</td><td>23950243</td><td>true</td><td>&quot;m84175_231021_…</td><td>&quot;3d130404/11--1…</td><td>&quot;CP-102020-03&quot;</td><td>3</td><td>&quot;&quot;</td></tr><tr><td>&quot;chr15&quot;</td><td>23950315</td><td>23950316</td><td>true</td><td>&quot;m84175_231021_…</td><td>&quot;3d130404/11--1…</td><td>&quot;CP-102020-03&quot;</td><td>3</td><td>&quot;&quot;</td></tr><tr><td>&quot;chr15&quot;</td><td>23950338</td><td>23950339</td><td>true</td><td>&quot;m84175_231021_…</td><td>&quot;3d130404/11--1…</td><td>&quot;CP-102020-03&quot;</td><td>3</td><td>&quot;&quot;</td></tr><tr><td>&quot;chr15&quot;</td><td>23950343</td><td>23950346</td><td>true</td><td>&quot;m84175_231021_…</td><td>&quot;3d130404/11--1…</td><td>&quot;CP-102020-03&quot;</td><td>3</td><td>&quot;&quot;</td></tr><tr><td>&quot;chr15&quot;</td><td>23950990</td><td>23950991</td><td>true</td><td>&quot;m84175_231021_…</td><td>&quot;3d130404/11--1…</td><td>&quot;CP-102020-03&quot;</td><td>2</td><td>&quot;G&quot;</td></tr><tr><td>&quot;chr15&quot;</td><td>23951019</td><td>23951020</td><td>true</td><td>&quot;m84175_231021_…</td><td>&quot;3d130404/11--1…</td><td>&quot;CP-102020-03&quot;</td><td>3</td><td>&quot;&quot;</td></tr><tr><td>&quot;chr15&quot;</td><td>23951036</td><td>23951037</td><td>true</td><td>&quot;m84175_231021_…</td><td>&quot;3d130404/11--1…</td><td>&quot;CP-102020-03&quot;</td><td>3</td><td>&quot;&quot;</td></tr><tr><td>&quot;chr15&quot;</td><td>23951274</td><td>23951275</td><td>true</td><td>&quot;m84175_231021_…</td><td>&quot;3d130404/11--1…</td><td>&quot;CP-102020-03&quot;</td><td>1</td><td>&quot;C&quot;</td></tr><tr><td>&quot;chr15&quot;</td><td>23951305</td><td>23951306</td><td>true</td><td>&quot;m84175_231021_…</td><td>&quot;3d130404/11--1…</td><td>&quot;CP-102020-03&quot;</td><td>1</td><td>&quot;A&quot;</td></tr><tr><td>&hellip;</td><td>&hellip;</td><td>&hellip;</td><td>&hellip;</td><td>&hellip;</td><td>&hellip;</td><td>&hellip;</td><td>&hellip;</td><td>&hellip;</td></tr><tr><td>&quot;chr15&quot;</td><td>23974554</td><td>23974555</td><td>true</td><td>&quot;m84175_231021_…</td><td>&quot;0a758968/17--1…</td><td>&quot;CP-102020-50&quot;</td><td>1</td><td>&quot;C&quot;</td></tr><tr><td>&quot;chr15&quot;</td><td>23974655</td><td>23974656</td><td>true</td><td>&quot;m84175_231021_…</td><td>&quot;0a758968/17--1…</td><td>&quot;CP-102020-50&quot;</td><td>1</td><td>&quot;C&quot;</td></tr><tr><td>&quot;chr15&quot;</td><td>23974726</td><td>23974727</td><td>true</td><td>&quot;m84175_231021_…</td><td>&quot;0a758968/17--1…</td><td>&quot;CP-102020-50&quot;</td><td>1</td><td>&quot;C&quot;</td></tr><tr><td>&quot;chr15&quot;</td><td>23975068</td><td>23975069</td><td>true</td><td>&quot;m84175_231021_…</td><td>&quot;0a758968/17--1…</td><td>&quot;CP-102020-50&quot;</td><td>3</td><td>&quot;&quot;</td></tr><tr><td>&quot;chr15&quot;</td><td>23975368</td><td>23975369</td><td>true</td><td>&quot;m84175_231021_…</td><td>&quot;0a758968/17--1…</td><td>&quot;CP-102020-50&quot;</td><td>1</td><td>&quot;C&quot;</td></tr><tr><td>&quot;chr15&quot;</td><td>23975420</td><td>23975421</td><td>true</td><td>&quot;m84175_231021_…</td><td>&quot;0a758968/17--1…</td><td>&quot;CP-102020-50&quot;</td><td>1</td><td>&quot;G&quot;</td></tr><tr><td>&quot;chr15&quot;</td><td>23975671</td><td>23975672</td><td>true</td><td>&quot;m84175_231021_…</td><td>&quot;0a758968/17--1…</td><td>&quot;CP-102020-50&quot;</td><td>1</td><td>&quot;G&quot;</td></tr><tr><td>&quot;chr15&quot;</td><td>23975679</td><td>23975680</td><td>true</td><td>&quot;m84175_231021_…</td><td>&quot;0a758968/17--1…</td><td>&quot;CP-102020-50&quot;</td><td>1</td><td>&quot;A&quot;</td></tr><tr><td>&quot;chr15&quot;</td><td>23975939</td><td>23975940</td><td>true</td><td>&quot;m84175_231021_…</td><td>&quot;0a758968/17--1…</td><td>&quot;CP-102020-50&quot;</td><td>1</td><td>&quot;C&quot;</td></tr><tr><td>&quot;chr15&quot;</td><td>23976000</td><td>23976001</td><td>true</td><td>&quot;m84175_231021_…</td><td>&quot;0a758968/17--1…</td><td>&quot;CP-102020-50&quot;</td><td>1</td><td>&quot;A&quot;</td></tr><tr><td>&quot;chr15&quot;</td><td>23976004</td><td>23976005</td><td>true</td><td>&quot;m84175_231021_…</td><td>&quot;0a758968/17--1…</td><td>&quot;CP-102020-50&quot;</td><td>1</td><td>&quot;A&quot;</td></tr><tr><td>&quot;chr15&quot;</td><td>23976030</td><td>23976031</td><td>true</td><td>&quot;m84175_231021_…</td><td>&quot;0a758968/17--1…</td><td>&quot;CP-102020-50&quot;</td><td>1</td><td>&quot;T&quot;</td></tr></tbody></table></div>"
      ],
      "text/plain": [
       "shape: (1_093, 9)\n",
       "┌────────────┬────────────┬────────────┬──────────┬───┬──────────┬───────────┬────────────┬──────────┐\n",
       "│ reference_ ┆ reference_ ┆ reference_ ┆ is_forwa ┆ … ┆ read_gro ┆ sample_na ┆ element_ty ┆ sequence │\n",
       "│ contig     ┆ start      ┆ end        ┆ rd       ┆   ┆ up       ┆ me        ┆ pe         ┆ ---      │\n",
       "│ ---        ┆ ---        ┆ ---        ┆ ---      ┆   ┆ ---      ┆ ---       ┆ ---        ┆ str      │\n",
       "│ str        ┆ u32        ┆ u32        ┆ bool     ┆   ┆ str      ┆ str       ┆ u8         ┆          │\n",
       "╞════════════╪════════════╪════════════╪══════════╪═══╪══════════╪═══════════╪════════════╪══════════╡\n",
       "│ chr15      ┆ 23949731   ┆ 23980709   ┆ true     ┆ … ┆ 3d130404 ┆ CP-102020 ┆ 0          ┆          │\n",
       "│            ┆            ┆            ┆          ┆   ┆ /11--11  ┆ -03       ┆            ┆          │\n",
       "│ chr15      ┆ 23950043   ┆ 23950044   ┆ true     ┆ … ┆ 3d130404 ┆ CP-102020 ┆ 3          ┆          │\n",
       "│            ┆            ┆            ┆          ┆   ┆ /11--11  ┆ -03       ┆            ┆          │\n",
       "│ chr15      ┆ 23950179   ┆ 23950180   ┆ true     ┆ … ┆ 3d130404 ┆ CP-102020 ┆ 2          ┆ A        │\n",
       "│            ┆            ┆            ┆          ┆   ┆ /11--11  ┆ -03       ┆            ┆          │\n",
       "│ chr15      ┆ 23950242   ┆ 23950243   ┆ true     ┆ … ┆ 3d130404 ┆ CP-102020 ┆ 3          ┆          │\n",
       "│            ┆            ┆            ┆          ┆   ┆ /11--11  ┆ -03       ┆            ┆          │\n",
       "│ …          ┆ …          ┆ …          ┆ …        ┆ … ┆ …        ┆ …         ┆ …          ┆ …        │\n",
       "│ chr15      ┆ 23975939   ┆ 23975940   ┆ true     ┆ … ┆ 0a758968 ┆ CP-102020 ┆ 1          ┆ C        │\n",
       "│            ┆            ┆            ┆          ┆   ┆ /17--17  ┆ -50       ┆            ┆          │\n",
       "│ chr15      ┆ 23976000   ┆ 23976001   ┆ true     ┆ … ┆ 0a758968 ┆ CP-102020 ┆ 1          ┆ A        │\n",
       "│            ┆            ┆            ┆          ┆   ┆ /17--17  ┆ -50       ┆            ┆          │\n",
       "│ chr15      ┆ 23976004   ┆ 23976005   ┆ true     ┆ … ┆ 0a758968 ┆ CP-102020 ┆ 1          ┆ A        │\n",
       "│            ┆            ┆            ┆          ┆   ┆ /17--17  ┆ -50       ┆            ┆          │\n",
       "│ chr15      ┆ 23976030   ┆ 23976031   ┆ true     ┆ … ┆ 0a758968 ┆ CP-102020 ┆ 1          ┆ T        │\n",
       "│            ┆            ┆            ┆          ┆   ┆ /17--17  ┆ -50       ┆            ┆          │\n",
       "└────────────┴────────────┴────────────┴──────────┴───┴──────────┴───────────┴────────────┴──────────┘"
      ]
     },
     "execution_count": 7,
     "metadata": {},
     "output_type": "execute_result"
    }
   ],
   "source": [
    "df = s.get_staged_locus('chr15:23,960,193-23,963,918')\n",
    "df"
   ]
  },
  {
   "cell_type": "code",
   "execution_count": 8,
   "metadata": {},
   "outputs": [
    {
     "ename": "",
     "evalue": "",
     "output_type": "error",
     "traceback": [
      "\u001b[1;31mThe Kernel crashed while executing code in the the current cell or a previous cell. Please review the code in the cell(s) to identify a possible cause of the failure. Click <a href='https://aka.ms/vscodeJupyterKernelCrash'>here</a> for more info. View Jupyter <a href='command:jupyter.viewOutput'>log</a> for further details."
     ]
    }
   ],
   "source": [
    "s.display(df)"
   ]
  }
 ],
 "metadata": {
  "kernelspec": {
   "display_name": "venv",
   "language": "python",
   "name": "python3"
  },
  "language_info": {
   "codemirror_mode": {
    "name": "ipython",
    "version": 3
   },
   "file_extension": ".py",
   "mimetype": "text/x-python",
   "name": "python",
   "nbconvert_exporter": "python",
   "pygments_lexer": "ipython3",
   "version": "3.7.9"
  }
 },
 "nbformat": 4,
 "nbformat_minor": 2
}
