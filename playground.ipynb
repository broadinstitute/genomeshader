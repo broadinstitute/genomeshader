{
 "cells": [
  {
   "cell_type": "code",
   "execution_count": 1,
   "metadata": {},
   "outputs": [
    {
     "data": {
      "application/javascript": "(function(root) {\n  function now() {\n    return new Date();\n  }\n\n  var force = true;\n  var py_version = '3.3.2'.replace('rc', '-rc.').replace('.dev', '-dev.');\n  var reloading = false;\n  var Bokeh = root.Bokeh;\n\n  if (typeof (root._bokeh_timeout) === \"undefined\" || force) {\n    root._bokeh_timeout = Date.now() + 5000;\n    root._bokeh_failed_load = false;\n  }\n\n  function run_callbacks() {\n    try {\n      root._bokeh_onload_callbacks.forEach(function(callback) {\n        if (callback != null)\n          callback();\n      });\n    } finally {\n      delete root._bokeh_onload_callbacks;\n    }\n    console.debug(\"Bokeh: all callbacks have finished\");\n  }\n\n  function load_libs(css_urls, js_urls, js_modules, js_exports, callback) {\n    if (css_urls == null) css_urls = [];\n    if (js_urls == null) js_urls = [];\n    if (js_modules == null) js_modules = [];\n    if (js_exports == null) js_exports = {};\n\n    root._bokeh_onload_callbacks.push(callback);\n\n    if (root._bokeh_is_loading > 0) {\n      console.debug(\"Bokeh: BokehJS is being loaded, scheduling callback at\", now());\n      return null;\n    }\n    if (js_urls.length === 0 && js_modules.length === 0 && Object.keys(js_exports).length === 0) {\n      run_callbacks();\n      return null;\n    }\n    if (!reloading) {\n      console.debug(\"Bokeh: BokehJS not loaded, scheduling load and callback at\", now());\n    }\n\n    function on_load() {\n      root._bokeh_is_loading--;\n      if (root._bokeh_is_loading === 0) {\n        console.debug(\"Bokeh: all BokehJS libraries/stylesheets loaded\");\n        run_callbacks()\n      }\n    }\n    window._bokeh_on_load = on_load\n\n    function on_error() {\n      console.error(\"failed to load \" + url);\n    }\n\n    var skip = [];\n    if (window.requirejs) {\n      window.requirejs.config({'packages': {}, 'paths': {'jspanel': 'https://cdn.jsdelivr.net/npm/jspanel4@4.12.0/dist/jspanel', 'jspanel-modal': 'https://cdn.jsdelivr.net/npm/jspanel4@4.12.0/dist/extensions/modal/jspanel.modal', 'jspanel-tooltip': 'https://cdn.jsdelivr.net/npm/jspanel4@4.12.0/dist/extensions/tooltip/jspanel.tooltip', 'jspanel-hint': 'https://cdn.jsdelivr.net/npm/jspanel4@4.12.0/dist/extensions/hint/jspanel.hint', 'jspanel-layout': 'https://cdn.jsdelivr.net/npm/jspanel4@4.12.0/dist/extensions/layout/jspanel.layout', 'jspanel-contextmenu': 'https://cdn.jsdelivr.net/npm/jspanel4@4.12.0/dist/extensions/contextmenu/jspanel.contextmenu', 'jspanel-dock': 'https://cdn.jsdelivr.net/npm/jspanel4@4.12.0/dist/extensions/dock/jspanel.dock', 'gridstack': 'https://cdn.jsdelivr.net/npm/gridstack@7.2.3/dist/gridstack-all', 'notyf': 'https://cdn.jsdelivr.net/npm/notyf@3/notyf.min'}, 'shim': {'jspanel': {'exports': 'jsPanel'}, 'gridstack': {'exports': 'GridStack'}}});\n      require([\"jspanel\"], function(jsPanel) {\n\twindow.jsPanel = jsPanel\n\ton_load()\n      })\n      require([\"jspanel-modal\"], function() {\n\ton_load()\n      })\n      require([\"jspanel-tooltip\"], function() {\n\ton_load()\n      })\n      require([\"jspanel-hint\"], function() {\n\ton_load()\n      })\n      require([\"jspanel-layout\"], function() {\n\ton_load()\n      })\n      require([\"jspanel-contextmenu\"], function() {\n\ton_load()\n      })\n      require([\"jspanel-dock\"], function() {\n\ton_load()\n      })\n      require([\"gridstack\"], function(GridStack) {\n\twindow.GridStack = GridStack\n\ton_load()\n      })\n      require([\"notyf\"], function() {\n\ton_load()\n      })\n      root._bokeh_is_loading = css_urls.length + 9;\n    } else {\n      root._bokeh_is_loading = css_urls.length + js_urls.length + js_modules.length + Object.keys(js_exports).length;\n    }\n\n    var existing_stylesheets = []\n    var links = document.getElementsByTagName('link')\n    for (var i = 0; i < links.length; i++) {\n      var link = links[i]\n      if (link.href != null) {\n\texisting_stylesheets.push(link.href)\n      }\n    }\n    for (var i = 0; i < css_urls.length; i++) {\n      var url = css_urls[i];\n      if (existing_stylesheets.indexOf(url) !== -1) {\n\ton_load()\n\tcontinue;\n      }\n      const element = document.createElement(\"link\");\n      element.onload = on_load;\n      element.onerror = on_error;\n      element.rel = \"stylesheet\";\n      element.type = \"text/css\";\n      element.href = url;\n      console.debug(\"Bokeh: injecting link tag for BokehJS stylesheet: \", url);\n      document.body.appendChild(element);\n    }    if (((window['jsPanel'] !== undefined) && (!(window['jsPanel'] instanceof HTMLElement))) || window.requirejs) {\n      var urls = ['https://cdn.holoviz.org/panel/1.3.6/dist/bundled/floatpanel/jspanel4@4.12.0/dist/jspanel.js', 'https://cdn.holoviz.org/panel/1.3.6/dist/bundled/floatpanel/jspanel4@4.12.0/dist/extensions/modal/jspanel.modal.js', 'https://cdn.holoviz.org/panel/1.3.6/dist/bundled/floatpanel/jspanel4@4.12.0/dist/extensions/tooltip/jspanel.tooltip.js', 'https://cdn.holoviz.org/panel/1.3.6/dist/bundled/floatpanel/jspanel4@4.12.0/dist/extensions/hint/jspanel.hint.js', 'https://cdn.holoviz.org/panel/1.3.6/dist/bundled/floatpanel/jspanel4@4.12.0/dist/extensions/layout/jspanel.layout.js', 'https://cdn.holoviz.org/panel/1.3.6/dist/bundled/floatpanel/jspanel4@4.12.0/dist/extensions/contextmenu/jspanel.contextmenu.js', 'https://cdn.holoviz.org/panel/1.3.6/dist/bundled/floatpanel/jspanel4@4.12.0/dist/extensions/dock/jspanel.dock.js'];\n      for (var i = 0; i < urls.length; i++) {\n        skip.push(urls[i])\n      }\n    }    if (((window['GridStack'] !== undefined) && (!(window['GridStack'] instanceof HTMLElement))) || window.requirejs) {\n      var urls = ['https://cdn.holoviz.org/panel/1.3.6/dist/bundled/gridstack/gridstack@7.2.3/dist/gridstack-all.js'];\n      for (var i = 0; i < urls.length; i++) {\n        skip.push(urls[i])\n      }\n    }    if (((window['Notyf'] !== undefined) && (!(window['Notyf'] instanceof HTMLElement))) || window.requirejs) {\n      var urls = ['https://cdn.holoviz.org/panel/1.3.6/dist/bundled/notificationarea/notyf@3/notyf.min.js'];\n      for (var i = 0; i < urls.length; i++) {\n        skip.push(urls[i])\n      }\n    }    var existing_scripts = []\n    var scripts = document.getElementsByTagName('script')\n    for (var i = 0; i < scripts.length; i++) {\n      var script = scripts[i]\n      if (script.src != null) {\n\texisting_scripts.push(script.src)\n      }\n    }\n    for (var i = 0; i < js_urls.length; i++) {\n      var url = js_urls[i];\n      if (skip.indexOf(url) !== -1 || existing_scripts.indexOf(url) !== -1) {\n\tif (!window.requirejs) {\n\t  on_load();\n\t}\n\tcontinue;\n      }\n      var element = document.createElement('script');\n      element.onload = on_load;\n      element.onerror = on_error;\n      element.async = false;\n      element.src = url;\n      console.debug(\"Bokeh: injecting script tag for BokehJS library: \", url);\n      document.head.appendChild(element);\n    }\n    for (var i = 0; i < js_modules.length; i++) {\n      var url = js_modules[i];\n      if (skip.indexOf(url) !== -1 || existing_scripts.indexOf(url) !== -1) {\n\tif (!window.requirejs) {\n\t  on_load();\n\t}\n\tcontinue;\n      }\n      var element = document.createElement('script');\n      element.onload = on_load;\n      element.onerror = on_error;\n      element.async = false;\n      element.src = url;\n      element.type = \"module\";\n      console.debug(\"Bokeh: injecting script tag for BokehJS library: \", url);\n      document.head.appendChild(element);\n    }\n    for (const name in js_exports) {\n      var url = js_exports[name];\n      if (skip.indexOf(url) >= 0 || root[name] != null) {\n\tif (!window.requirejs) {\n\t  on_load();\n\t}\n\tcontinue;\n      }\n      var element = document.createElement('script');\n      element.onerror = on_error;\n      element.async = false;\n      element.type = \"module\";\n      console.debug(\"Bokeh: injecting script tag for BokehJS library: \", url);\n      element.textContent = `\n      import ${name} from \"${url}\"\n      window.${name} = ${name}\n      window._bokeh_on_load()\n      `\n      document.head.appendChild(element);\n    }\n    if (!js_urls.length && !js_modules.length) {\n      on_load()\n    }\n  };\n\n  function inject_raw_css(css) {\n    const element = document.createElement(\"style\");\n    element.appendChild(document.createTextNode(css));\n    document.body.appendChild(element);\n  }\n\n  var js_urls = [\"https://cdn.bokeh.org/bokeh/release/bokeh-3.3.2.min.js\", \"https://cdn.bokeh.org/bokeh/release/bokeh-gl-3.3.2.min.js\", \"https://cdn.bokeh.org/bokeh/release/bokeh-widgets-3.3.2.min.js\", \"https://cdn.bokeh.org/bokeh/release/bokeh-tables-3.3.2.min.js\", \"https://cdn.holoviz.org/panel/1.3.6/dist/panel.min.js\"];\n  var js_modules = [];\n  var js_exports = {};\n  var css_urls = [];\n  var inline_js = [    function(Bokeh) {\n      Bokeh.set_log_level(\"info\");\n    },\nfunction(Bokeh) {} // ensure no trailing comma for IE\n  ];\n\n  function run_inline_js() {\n    if ((root.Bokeh !== undefined) || (force === true)) {\n      for (var i = 0; i < inline_js.length; i++) {\n\ttry {\n          inline_js[i].call(root, root.Bokeh);\n\t} catch(e) {\n\t  if (!reloading) {\n\t    throw e;\n\t  }\n\t}\n      }\n      // Cache old bokeh versions\n      if (Bokeh != undefined && !reloading) {\n\tvar NewBokeh = root.Bokeh;\n\tif (Bokeh.versions === undefined) {\n\t  Bokeh.versions = new Map();\n\t}\n\tif (NewBokeh.version !== Bokeh.version) {\n\t  Bokeh.versions.set(NewBokeh.version, NewBokeh)\n\t}\n\troot.Bokeh = Bokeh;\n      }} else if (Date.now() < root._bokeh_timeout) {\n      setTimeout(run_inline_js, 100);\n    } else if (!root._bokeh_failed_load) {\n      console.log(\"Bokeh: BokehJS failed to load within specified timeout.\");\n      root._bokeh_failed_load = true;\n    }\n    root._bokeh_is_initializing = false\n  }\n\n  function load_or_wait() {\n    // Implement a backoff loop that tries to ensure we do not load multiple\n    // versions of Bokeh and its dependencies at the same time.\n    // In recent versions we use the root._bokeh_is_initializing flag\n    // to determine whether there is an ongoing attempt to initialize\n    // bokeh, however for backward compatibility we also try to ensure\n    // that we do not start loading a newer (Panel>=1.0 and Bokeh>3) version\n    // before older versions are fully initialized.\n    if (root._bokeh_is_initializing && Date.now() > root._bokeh_timeout) {\n      root._bokeh_is_initializing = false;\n      root._bokeh_onload_callbacks = undefined;\n      console.log(\"Bokeh: BokehJS was loaded multiple times but one version failed to initialize.\");\n      load_or_wait();\n    } else if (root._bokeh_is_initializing || (typeof root._bokeh_is_initializing === \"undefined\" && root._bokeh_onload_callbacks !== undefined)) {\n      setTimeout(load_or_wait, 100);\n    } else {\n      root._bokeh_is_initializing = true\n      root._bokeh_onload_callbacks = []\n      var bokeh_loaded = Bokeh != null && (Bokeh.version === py_version || (Bokeh.versions !== undefined && Bokeh.versions.has(py_version)));\n      if (!reloading && !bokeh_loaded) {\n\troot.Bokeh = undefined;\n      }\n      load_libs(css_urls, js_urls, js_modules, js_exports, function() {\n\tconsole.debug(\"Bokeh: BokehJS plotting callback run at\", now());\n\trun_inline_js();\n      });\n    }\n  }\n  // Give older versions of the autoload script a head-start to ensure\n  // they initialize before we start loading newer version.\n  setTimeout(load_or_wait, 100)\n}(window));",
      "application/vnd.holoviews_load.v0+json": ""
     },
     "metadata": {},
     "output_type": "display_data"
    },
    {
     "data": {
      "application/javascript": "\nif ((window.PyViz === undefined) || (window.PyViz instanceof HTMLElement)) {\n  window.PyViz = {comms: {}, comm_status:{}, kernels:{}, receivers: {}, plot_index: []}\n}\n\n\n    function JupyterCommManager() {\n    }\n\n    JupyterCommManager.prototype.register_target = function(plot_id, comm_id, msg_handler) {\n      if (window.comm_manager || ((window.Jupyter !== undefined) && (Jupyter.notebook.kernel != null))) {\n        var comm_manager = window.comm_manager || Jupyter.notebook.kernel.comm_manager;\n        comm_manager.register_target(comm_id, function(comm) {\n          comm.on_msg(msg_handler);\n        });\n      } else if ((plot_id in window.PyViz.kernels) && (window.PyViz.kernels[plot_id])) {\n        window.PyViz.kernels[plot_id].registerCommTarget(comm_id, function(comm) {\n          comm.onMsg = msg_handler;\n        });\n      } else if (typeof google != 'undefined' && google.colab.kernel != null) {\n        google.colab.kernel.comms.registerTarget(comm_id, (comm) => {\n          var messages = comm.messages[Symbol.asyncIterator]();\n          function processIteratorResult(result) {\n            var message = result.value;\n            console.log(message)\n            var content = {data: message.data, comm_id};\n            var buffers = []\n            for (var buffer of message.buffers || []) {\n              buffers.push(new DataView(buffer))\n            }\n            var metadata = message.metadata || {};\n            var msg = {content, buffers, metadata}\n            msg_handler(msg);\n            return messages.next().then(processIteratorResult);\n          }\n          return messages.next().then(processIteratorResult);\n        })\n      }\n    }\n\n    JupyterCommManager.prototype.get_client_comm = function(plot_id, comm_id, msg_handler) {\n      if (comm_id in window.PyViz.comms) {\n        return window.PyViz.comms[comm_id];\n      } else if (window.comm_manager || ((window.Jupyter !== undefined) && (Jupyter.notebook.kernel != null))) {\n        var comm_manager = window.comm_manager || Jupyter.notebook.kernel.comm_manager;\n        var comm = comm_manager.new_comm(comm_id, {}, {}, {}, comm_id);\n        if (msg_handler) {\n          comm.on_msg(msg_handler);\n        }\n      } else if ((plot_id in window.PyViz.kernels) && (window.PyViz.kernels[plot_id])) {\n        var comm = window.PyViz.kernels[plot_id].connectToComm(comm_id);\n        comm.open();\n        if (msg_handler) {\n          comm.onMsg = msg_handler;\n        }\n      } else if (typeof google != 'undefined' && google.colab.kernel != null) {\n        var comm_promise = google.colab.kernel.comms.open(comm_id)\n        comm_promise.then((comm) => {\n          window.PyViz.comms[comm_id] = comm;\n          if (msg_handler) {\n            var messages = comm.messages[Symbol.asyncIterator]();\n            function processIteratorResult(result) {\n              var message = result.value;\n              var content = {data: message.data};\n              var metadata = message.metadata || {comm_id};\n              var msg = {content, metadata}\n              msg_handler(msg);\n              return messages.next().then(processIteratorResult);\n            }\n            return messages.next().then(processIteratorResult);\n          }\n        }) \n        var sendClosure = (data, metadata, buffers, disposeOnDone) => {\n          return comm_promise.then((comm) => {\n            comm.send(data, metadata, buffers, disposeOnDone);\n          });\n        };\n        var comm = {\n          send: sendClosure\n        };\n      }\n      window.PyViz.comms[comm_id] = comm;\n      return comm;\n    }\n    window.PyViz.comm_manager = new JupyterCommManager();\n    \n\n\nvar JS_MIME_TYPE = 'application/javascript';\nvar HTML_MIME_TYPE = 'text/html';\nvar EXEC_MIME_TYPE = 'application/vnd.holoviews_exec.v0+json';\nvar CLASS_NAME = 'output';\n\n/**\n * Render data to the DOM node\n */\nfunction render(props, node) {\n  var div = document.createElement(\"div\");\n  var script = document.createElement(\"script\");\n  node.appendChild(div);\n  node.appendChild(script);\n}\n\n/**\n * Handle when a new output is added\n */\nfunction handle_add_output(event, handle) {\n  var output_area = handle.output_area;\n  var output = handle.output;\n  if ((output.data == undefined) || (!output.data.hasOwnProperty(EXEC_MIME_TYPE))) {\n    return\n  }\n  var id = output.metadata[EXEC_MIME_TYPE][\"id\"];\n  var toinsert = output_area.element.find(\".\" + CLASS_NAME.split(' ')[0]);\n  if (id !== undefined) {\n    var nchildren = toinsert.length;\n    var html_node = toinsert[nchildren-1].children[0];\n    html_node.innerHTML = output.data[HTML_MIME_TYPE];\n    var scripts = [];\n    var nodelist = html_node.querySelectorAll(\"script\");\n    for (var i in nodelist) {\n      if (nodelist.hasOwnProperty(i)) {\n        scripts.push(nodelist[i])\n      }\n    }\n\n    scripts.forEach( function (oldScript) {\n      var newScript = document.createElement(\"script\");\n      var attrs = [];\n      var nodemap = oldScript.attributes;\n      for (var j in nodemap) {\n        if (nodemap.hasOwnProperty(j)) {\n          attrs.push(nodemap[j])\n        }\n      }\n      attrs.forEach(function(attr) { newScript.setAttribute(attr.name, attr.value) });\n      newScript.appendChild(document.createTextNode(oldScript.innerHTML));\n      oldScript.parentNode.replaceChild(newScript, oldScript);\n    });\n    if (JS_MIME_TYPE in output.data) {\n      toinsert[nchildren-1].children[1].textContent = output.data[JS_MIME_TYPE];\n    }\n    output_area._hv_plot_id = id;\n    if ((window.Bokeh !== undefined) && (id in Bokeh.index)) {\n      window.PyViz.plot_index[id] = Bokeh.index[id];\n    } else {\n      window.PyViz.plot_index[id] = null;\n    }\n  } else if (output.metadata[EXEC_MIME_TYPE][\"server_id\"] !== undefined) {\n    var bk_div = document.createElement(\"div\");\n    bk_div.innerHTML = output.data[HTML_MIME_TYPE];\n    var script_attrs = bk_div.children[0].attributes;\n    for (var i = 0; i < script_attrs.length; i++) {\n      toinsert[toinsert.length - 1].childNodes[1].setAttribute(script_attrs[i].name, script_attrs[i].value);\n    }\n    // store reference to server id on output_area\n    output_area._bokeh_server_id = output.metadata[EXEC_MIME_TYPE][\"server_id\"];\n  }\n}\n\n/**\n * Handle when an output is cleared or removed\n */\nfunction handle_clear_output(event, handle) {\n  var id = handle.cell.output_area._hv_plot_id;\n  var server_id = handle.cell.output_area._bokeh_server_id;\n  if (((id === undefined) || !(id in PyViz.plot_index)) && (server_id !== undefined)) { return; }\n  var comm = window.PyViz.comm_manager.get_client_comm(\"hv-extension-comm\", \"hv-extension-comm\", function () {});\n  if (server_id !== null) {\n    comm.send({event_type: 'server_delete', 'id': server_id});\n    return;\n  } else if (comm !== null) {\n    comm.send({event_type: 'delete', 'id': id});\n  }\n  delete PyViz.plot_index[id];\n  if ((window.Bokeh !== undefined) & (id in window.Bokeh.index)) {\n    var doc = window.Bokeh.index[id].model.document\n    doc.clear();\n    const i = window.Bokeh.documents.indexOf(doc);\n    if (i > -1) {\n      window.Bokeh.documents.splice(i, 1);\n    }\n  }\n}\n\n/**\n * Handle kernel restart event\n */\nfunction handle_kernel_cleanup(event, handle) {\n  delete PyViz.comms[\"hv-extension-comm\"];\n  window.PyViz.plot_index = {}\n}\n\n/**\n * Handle update_display_data messages\n */\nfunction handle_update_output(event, handle) {\n  handle_clear_output(event, {cell: {output_area: handle.output_area}})\n  handle_add_output(event, handle)\n}\n\nfunction register_renderer(events, OutputArea) {\n  function append_mime(data, metadata, element) {\n    // create a DOM node to render to\n    var toinsert = this.create_output_subarea(\n    metadata,\n    CLASS_NAME,\n    EXEC_MIME_TYPE\n    );\n    this.keyboard_manager.register_events(toinsert);\n    // Render to node\n    var props = {data: data, metadata: metadata[EXEC_MIME_TYPE]};\n    render(props, toinsert[0]);\n    element.append(toinsert);\n    return toinsert\n  }\n\n  events.on('output_added.OutputArea', handle_add_output);\n  events.on('output_updated.OutputArea', handle_update_output);\n  events.on('clear_output.CodeCell', handle_clear_output);\n  events.on('delete.Cell', handle_clear_output);\n  events.on('kernel_ready.Kernel', handle_kernel_cleanup);\n\n  OutputArea.prototype.register_mime_type(EXEC_MIME_TYPE, append_mime, {\n    safe: true,\n    index: 0\n  });\n}\n\nif (window.Jupyter !== undefined) {\n  try {\n    var events = require('base/js/events');\n    var OutputArea = require('notebook/js/outputarea').OutputArea;\n    if (OutputArea.prototype.mime_types().indexOf(EXEC_MIME_TYPE) == -1) {\n      register_renderer(events, OutputArea);\n    }\n  } catch(err) {\n  }\n}\n",
      "application/vnd.holoviews_load.v0+json": ""
     },
     "metadata": {},
     "output_type": "display_data"
    },
    {
     "data": {
      "text/html": [
       "<style>*[data-root-id],\n",
       "*[data-root-id] > * {\n",
       "  box-sizing: border-box;\n",
       "  font-family: var(--jp-ui-font-family);\n",
       "  font-size: var(--jp-ui-font-size1);\n",
       "  color: var(--vscode-editor-foreground, var(--jp-ui-font-color1));\n",
       "}\n",
       "\n",
       "/* Override VSCode background color */\n",
       ".cell-output-ipywidget-background:has(\n",
       "    > .cell-output-ipywidget-background > .lm-Widget > *[data-root-id]\n",
       "  ),\n",
       ".cell-output-ipywidget-background:has(> .lm-Widget > *[data-root-id]) {\n",
       "  background-color: transparent !important;\n",
       "}\n",
       "</style>"
      ]
     },
     "metadata": {},
     "output_type": "display_data"
    },
    {
     "data": {
      "application/vnd.holoviews_exec.v0+json": "",
      "text/html": [
       "<div id='p1002'>\n",
       "  <div id=\"f394d224-6c5f-439f-9f72-1704636b4ad5\" data-root-id=\"p1002\" style=\"display: contents;\"></div>\n",
       "</div>\n",
       "<script type=\"application/javascript\">(function(root) {\n",
       "  var docs_json = {\"65979f4d-f5e1-4b35-a92d-257aa859444d\":{\"version\":\"3.3.2\",\"title\":\"Bokeh Application\",\"roots\":[{\"type\":\"object\",\"name\":\"panel.models.browser.BrowserInfo\",\"id\":\"p1002\"},{\"type\":\"object\",\"name\":\"panel.models.comm_manager.CommManager\",\"id\":\"p1003\",\"attributes\":{\"plot_id\":\"p1002\",\"comm_id\":\"e1aa3824ad7b4770858ef789aff08f68\",\"client_comm_id\":\"f6f827392a924374bf6e8ef0b61daa68\"}}],\"defs\":[{\"type\":\"model\",\"name\":\"ReactiveHTML1\"},{\"type\":\"model\",\"name\":\"FlexBox1\",\"properties\":[{\"name\":\"align_content\",\"kind\":\"Any\",\"default\":\"flex-start\"},{\"name\":\"align_items\",\"kind\":\"Any\",\"default\":\"flex-start\"},{\"name\":\"flex_direction\",\"kind\":\"Any\",\"default\":\"row\"},{\"name\":\"flex_wrap\",\"kind\":\"Any\",\"default\":\"wrap\"},{\"name\":\"justify_content\",\"kind\":\"Any\",\"default\":\"flex-start\"}]},{\"type\":\"model\",\"name\":\"FloatPanel1\",\"properties\":[{\"name\":\"config\",\"kind\":\"Any\",\"default\":{\"type\":\"map\"}},{\"name\":\"contained\",\"kind\":\"Any\",\"default\":true},{\"name\":\"position\",\"kind\":\"Any\",\"default\":\"right-top\"},{\"name\":\"offsetx\",\"kind\":\"Any\",\"default\":null},{\"name\":\"offsety\",\"kind\":\"Any\",\"default\":null},{\"name\":\"theme\",\"kind\":\"Any\",\"default\":\"primary\"},{\"name\":\"status\",\"kind\":\"Any\",\"default\":\"normalized\"}]},{\"type\":\"model\",\"name\":\"GridStack1\",\"properties\":[{\"name\":\"mode\",\"kind\":\"Any\",\"default\":\"warn\"},{\"name\":\"ncols\",\"kind\":\"Any\",\"default\":null},{\"name\":\"nrows\",\"kind\":\"Any\",\"default\":null},{\"name\":\"allow_resize\",\"kind\":\"Any\",\"default\":true},{\"name\":\"allow_drag\",\"kind\":\"Any\",\"default\":true},{\"name\":\"state\",\"kind\":\"Any\",\"default\":[]}]},{\"type\":\"model\",\"name\":\"drag1\",\"properties\":[{\"name\":\"slider_width\",\"kind\":\"Any\",\"default\":5},{\"name\":\"slider_color\",\"kind\":\"Any\",\"default\":\"black\"},{\"name\":\"value\",\"kind\":\"Any\",\"default\":50}]},{\"type\":\"model\",\"name\":\"click1\",\"properties\":[{\"name\":\"terminal_output\",\"kind\":\"Any\",\"default\":\"\"},{\"name\":\"debug_name\",\"kind\":\"Any\",\"default\":\"\"},{\"name\":\"clears\",\"kind\":\"Any\",\"default\":0}]},{\"type\":\"model\",\"name\":\"copy_to_clipboard1\",\"properties\":[{\"name\":\"fill\",\"kind\":\"Any\",\"default\":\"none\"},{\"name\":\"value\",\"kind\":\"Any\",\"default\":null}]},{\"type\":\"model\",\"name\":\"FastWrapper1\",\"properties\":[{\"name\":\"object\",\"kind\":\"Any\",\"default\":null},{\"name\":\"style\",\"kind\":\"Any\",\"default\":null}]},{\"type\":\"model\",\"name\":\"NotificationAreaBase1\",\"properties\":[{\"name\":\"js_events\",\"kind\":\"Any\",\"default\":{\"type\":\"map\"}},{\"name\":\"position\",\"kind\":\"Any\",\"default\":\"bottom-right\"},{\"name\":\"_clear\",\"kind\":\"Any\",\"default\":0}]},{\"type\":\"model\",\"name\":\"NotificationArea1\",\"properties\":[{\"name\":\"js_events\",\"kind\":\"Any\",\"default\":{\"type\":\"map\"}},{\"name\":\"notifications\",\"kind\":\"Any\",\"default\":[]},{\"name\":\"position\",\"kind\":\"Any\",\"default\":\"bottom-right\"},{\"name\":\"_clear\",\"kind\":\"Any\",\"default\":0},{\"name\":\"types\",\"kind\":\"Any\",\"default\":[{\"type\":\"map\",\"entries\":[[\"type\",\"warning\"],[\"background\",\"#ffc107\"],[\"icon\",{\"type\":\"map\",\"entries\":[[\"className\",\"fas fa-exclamation-triangle\"],[\"tagName\",\"i\"],[\"color\",\"white\"]]}]]},{\"type\":\"map\",\"entries\":[[\"type\",\"info\"],[\"background\",\"#007bff\"],[\"icon\",{\"type\":\"map\",\"entries\":[[\"className\",\"fas fa-info-circle\"],[\"tagName\",\"i\"],[\"color\",\"white\"]]}]]}]}]},{\"type\":\"model\",\"name\":\"Notification\",\"properties\":[{\"name\":\"background\",\"kind\":\"Any\",\"default\":null},{\"name\":\"duration\",\"kind\":\"Any\",\"default\":3000},{\"name\":\"icon\",\"kind\":\"Any\",\"default\":null},{\"name\":\"message\",\"kind\":\"Any\",\"default\":\"\"},{\"name\":\"notification_type\",\"kind\":\"Any\",\"default\":null},{\"name\":\"_destroyed\",\"kind\":\"Any\",\"default\":false}]},{\"type\":\"model\",\"name\":\"TemplateActions1\",\"properties\":[{\"name\":\"open_modal\",\"kind\":\"Any\",\"default\":0},{\"name\":\"close_modal\",\"kind\":\"Any\",\"default\":0}]},{\"type\":\"model\",\"name\":\"BootstrapTemplateActions1\",\"properties\":[{\"name\":\"open_modal\",\"kind\":\"Any\",\"default\":0},{\"name\":\"close_modal\",\"kind\":\"Any\",\"default\":0}]},{\"type\":\"model\",\"name\":\"MaterialTemplateActions1\",\"properties\":[{\"name\":\"open_modal\",\"kind\":\"Any\",\"default\":0},{\"name\":\"close_modal\",\"kind\":\"Any\",\"default\":0}]}]}};\n",
       "  var render_items = [{\"docid\":\"65979f4d-f5e1-4b35-a92d-257aa859444d\",\"roots\":{\"p1002\":\"f394d224-6c5f-439f-9f72-1704636b4ad5\"},\"root_ids\":[\"p1002\"]}];\n",
       "  var docs = Object.values(docs_json)\n",
       "  if (!docs) {\n",
       "    return\n",
       "  }\n",
       "  const py_version = docs[0].version.replace('rc', '-rc.').replace('.dev', '-dev.')\n",
       "  function embed_document(root) {\n",
       "    var Bokeh = get_bokeh(root)\n",
       "    Bokeh.embed.embed_items_notebook(docs_json, render_items);\n",
       "    for (const render_item of render_items) {\n",
       "      for (const root_id of render_item.root_ids) {\n",
       "\tconst id_el = document.getElementById(root_id)\n",
       "\tif (id_el.children.length && (id_el.children[0].className === 'bk-root')) {\n",
       "\t  const root_el = id_el.children[0]\n",
       "\t  root_el.id = root_el.id + '-rendered'\n",
       "\t}\n",
       "      }\n",
       "    }\n",
       "  }\n",
       "  function get_bokeh(root) {\n",
       "    if (root.Bokeh === undefined) {\n",
       "      return null\n",
       "    } else if (root.Bokeh.version !== py_version) {\n",
       "      if (root.Bokeh.versions === undefined || !root.Bokeh.versions.has(py_version)) {\n",
       "\treturn null\n",
       "      }\n",
       "      return root.Bokeh.versions.get(py_version);\n",
       "    } else if (root.Bokeh.version === py_version) {\n",
       "      return root.Bokeh\n",
       "    }\n",
       "    return null\n",
       "  }\n",
       "  function is_loaded(root) {\n",
       "    var Bokeh = get_bokeh(root)\n",
       "    return (Bokeh != null && Bokeh.Panel !== undefined)\n",
       "  }\n",
       "  if (is_loaded(root)) {\n",
       "    embed_document(root);\n",
       "  } else {\n",
       "    var attempts = 0;\n",
       "    var timer = setInterval(function(root) {\n",
       "      if (is_loaded(root)) {\n",
       "        clearInterval(timer);\n",
       "        embed_document(root);\n",
       "      } else if (document.readyState == \"complete\") {\n",
       "        attempts++;\n",
       "        if (attempts > 200) {\n",
       "          clearInterval(timer);\n",
       "\t  var Bokeh = get_bokeh(root)\n",
       "\t  if (Bokeh == null || Bokeh.Panel == null) {\n",
       "            console.warn(\"Panel: ERROR: Unable to run Panel code because Bokeh or Panel library is missing\");\n",
       "\t  } else {\n",
       "\t    console.warn(\"Panel: WARNING: Attempting to render but not all required libraries could be resolved.\")\n",
       "\t    embed_document(root)\n",
       "\t  }\n",
       "        }\n",
       "      }\n",
       "    }, 25, root)\n",
       "  }\n",
       "})(window);</script>"
      ]
     },
     "metadata": {
      "application/vnd.holoviews_exec.v0+json": {
       "id": "p1002"
      }
     },
     "output_type": "display_data"
    },
    {
     "data": {
      "text/html": [
       "\n",
       "<div class=\"logo-block\">\n",
       "<img src='data:image/png;base64,iVBORw0KGgoAAAANSUhEUgAAAEAAAABACAYAAACqaXHeAAAABHNCSVQICAgIfAhkiAAAAAlwSFlz\n",
       "AAAB+wAAAfsBxc2miwAAABl0RVh0U29mdHdhcmUAd3d3Lmlua3NjYXBlLm9yZ5vuPBoAAA6zSURB\n",
       "VHic7ZtpeFRVmsf/5966taWqUlUJ2UioBBJiIBAwCZtog9IOgjqACsogKtqirT2ttt069nQ/zDzt\n",
       "tI4+CrJIREFaFgWhBXpUNhHZQoKBkIUASchWla1S+3ar7r1nPkDaCAnZKoQP/D7mnPOe9/xy76n3\n",
       "nFSAW9ziFoPFNED2LLK5wcyBDObkb8ZkxuaoSYlI6ZcOKq1eWFdedqNzGHQBk9RMEwFAASkk0Xw3\n",
       "ETacDNi2vtvc7L0ROdw0AjoSotQVkKSvHQz/wRO1lScGModBFbDMaNRN1A4tUBCS3lk7BWhQkgpD\n",
       "lG4852/+7DWr1R3uHAZVQDsbh6ZPN7CyxUrCzJMRouusj0ipRwD2uKm0Zn5d2dFwzX1TCGhnmdGo\n",
       "G62Nna+isiUqhkzuKrkQaJlPEv5mFl2fvGg2t/VnzkEV8F5ioioOEWkLG86fvbpthynjdhXYZziQ\n",
       "x1hC9J2NFyi8vCTt91Fh04KGip0AaG9zuCk2wQCVyoNU3Hjezee9bq92duzzTmxsRJoy+jEZZZYo\n",
       "GTKJ6SJngdJqAfRzpze0+jHreUtPc7gpBLQnIYK6BYp/uGhw9YK688eu7v95ysgshcg9qSLMo3JC\n",
       "4jqLKQFBgdKDPoQ+Pltb8dUyQLpeDjeVgI6EgLIQFT5tEl3rn2losHVsexbZ3EyT9wE1uGdkIPcy\n",
       "BGxn8QUq1QrA5nqW5i2tLqvrrM9NK6AdkVIvL9E9bZL/oyfMVd/jqvc8LylzRBKDJSzIExwhQzuL\n",
       "QYGQj4rHfFTc8mUdu3E7yoLtbTe9gI4EqVgVkug2i5+uXGo919ixbRog+3fTbQ8qJe4ZOYNfMoTI\n",
       "OoshUNosgO60AisX15aeI2PSIp5KiFLI9ubb1vV3Qb2ltwLakUCDAkWX7/nHKRmmGIl9VgYsUhJm\n",
       "2NXjKYADtM1ygne9QQDIXlk49FBstMKx66D1v4+XuQr7vqTe0VcBHQlRWiOCbmmSYe2SqtL6q5rJ\n",
       "zsTb7lKx3FKOYC4DoqyS/B5bvLPxvD9Qtf6saxYLQGJErmDOdOMr/zo96km1nElr8bmPOBwI9COv\n",
       "HnFPRIwmkSOv9kcAS4heRsidOkpeWBgZM+UBrTFAXNYL5Vf2ii9c1trNzpYdaoVil3WIc+wdk+gQ\n",
       "noie3ecCcxt9ITcLAPWt/laGEO/9U6PmzZkenTtsSMQ8uYywJVW+grCstAvCIaAdArAsIWkRDDs/\n",
       "KzLm2YcjY1Lv0UdW73HabE9n6V66cxSzfEmuJssTpKGVp+0vHq73FwL46eOjpMpbRAnNmJFrGJNu\n",
       "Ukf9Yrz+3rghiumCKNXXWPhLYcjxGsIpoCMsIRoFITkW8AuyM8jC1+/QLx4bozCEJIq38+1rtpR6\n",
       "V/yzb8eBlRb3fo5l783N0CWolAzJHaVNzkrTzlEp2bQ2q3TC5gn6wpnoQAmwSiGh2GitnTmVMc5O\n",
       "UyfKWUKCIsU7+fZDKwqdT6DDpvkzAX4/+AMFjk0tDp5GRXLpQ2MUmhgDp5gxQT8+Y7hyPsMi8uxF\n",
       "71H0oebujHALECjFKaW9Lm68n18wXp2kVzIcABytD5iXFzg+WVXkegpAsOOYziqo0OkK76GyquC3\n",
       "ltZAzMhhqlSNmmWTE5T6e3IN05ITFLM4GdN0vtZ3ob8Jh1NAKXFbm5PtLU/eqTSlGjkNAJjdgn/N\n",
       "aedXa0tdi7+t9G0FIF49rtMSEgAs1kDLkTPO7ebm4IUWeyh1bKomXqlgMG6kJmHcSM0clYLJ8XtR\n",
       "1GTnbV3F6I5wCGikAb402npp1h1s7LQUZZSMIfALFOuL3UUrfnS8+rez7v9qcold5tilgHbO1fjK\n",
       "9ubb17u9oshxzMiUBKXWqJNxd+fqb0tLVs4lILFnK71H0Ind7uiPgACVcFJlrb0tV6DzxqqTIhUM\n",
       "CwDf1/rrVhTa33/3pGPxJYdQ2l2cbgVcQSosdx8uqnDtbGjh9SlDVSMNWhlnilfqZk42Th2ZpLpf\n",
       "xrHec5e815zrr0dfBZSwzkZfqsv+1FS1KUknUwPARVvItfKUY+cn57yP7qv07UE3p8B2uhUwLk09\n",
       "e0SCOrK+hbdYHYLjRIl71wWzv9jpEoeOHhGRrJAzyEyNiJuUqX0g2sBN5kGK6y2Blp5M3lsB9Qh4\n",
       "y2Ja6x6+i0ucmKgwMATwhSjdUu49tKrQ/pvN5d53ml2CGwCmJipmKjgmyuaXzNeL2a0AkQ01Th5j\n",
       "2DktO3Jyk8f9vcOBQHV94OK+fPumJmvQHxJoWkaKWq9Vs+yUsbq0zGT1I4RgeH2b5wef7+c7bl8F\n",
       "eKgoHVVZa8ZPEORzR6sT1BzDUAD/d9F78e2Tzv99v8D+fLVTqAKAsbGamKey1Mt9Ann4eH3gTXTz\n",
       "idWtAJ8PQWOk7NzSeQn/OTHDuEikVF1R4z8BQCy+6D1aWRfY0tTGG2OM8rRoPaeIj5ZHzJxszElN\n",
       "VM8K8JS5WOfv8mzRnQAKoEhmt8gyPM4lU9SmBK1MCQBnW4KONT86v1hZ1PbwSXPw4JWussVjtH9Y\n",
       "NCoiL9UoH/6PSu8jFrfY2t36erQHXLIEakMi1SydmzB31h3GGXFDFNPaK8Rme9B79Ixrd0WN+1ij\n",
       "NRQ/doRmuFLBkHSTOm5GruG+pFjFdAmorG4IXH1Qua6ASniclfFtDYt+oUjKipPrCQB7QBQ2lrgP\n",
       "fFzm+9XWUtcqJ3/5vDLDpJ79XHZk3u8nGZ42qlj1+ydtbxysCezrydp6ugmipNJ7WBPB5tydY0jP\n",
       "HaVNzs3QzeE4ZpTbI+ZbnSFPbVOw9vsfnVvqWnirPyCNGD08IlqtYkh2hjZ5dErEQzoNm+6ykyOt\n",
       "Lt5/PQEuSRRKo22VkydK+vvS1XEKlhCJAnsqvcVvH7f/ZU2R67eXbMEGAMiIV5oWZWiWvz5Fv2xG\n",
       "sjqNJQRvn3Rs2lji/lNP19VjAQDgD7FHhujZB9OGqYxRkZxixgRDVlqS6uEOFaJUVu0rPFzctrnF\n",
       "JqijImVp8dEKVWyUXDk92zAuMZ6bFwpBU1HrOw6AdhQgUooChb0+ItMbWJitSo5Ws3IAOGEOtL53\n",
       "0vHZih9sC4vtofZ7Qu6523V/fmGcds1TY3V36pUsBwAbSlxnVh2xLfAD/IAIMDf7XYIkNmXfpp2l\n",
       "18rkAJAy9HKFaIr/qULkeQQKy9zf1JgDB2uaeFNGijo5QsUyacNUUTOnGO42xSnv4oOwpDi1zYkc\n",
       "efUc3I5Gk6PhyTuVKaOGyLUAYPGIoY9Pu/atL/L92+4q9wbflRJ2Trpm/jPjdBtfnqB/dIThcl8A\n",
       "KG7hbRuKnb8qsQsVvVlTrwQAQMUlf3kwJI24Z4JhPMtcfng5GcH49GsrxJpGvvHIaeem2ma+KSjQ\n",
       "lIwUdYyCY8j4dE1KzijNnIP2llF2wcXNnsoapw9XxsgYAl6k+KzUXbi2yP3KR2ecf6z3BFsBICdW\n",
       "nvnIaG3eHybqX7vbpEqUMT+9OL4Qpe8VON7dXuFd39v19FoAABRVePbGGuXTszO0P7tu6lghUonE\n",
       "llRdrhArLvmKdh9u29jcFiRRkfLUxBiFNiqSU9icoZQHo5mYBI1MBgBH6wMNb+U7Pnw337H4gi1Y\n",
       "ciWs+uks3Z9fztUvfzxTm9Ne8XXkvQLHNytOOZeiD4e0PgkAIAYCYknKUNUDSXEKzdWNpnil7r4p\n",
       "xqkjTarZMtk/K8TQ6Qve78qqvXurGwIJqcOUKfUWHsm8KGvxSP68YudXq4pcj39X49uOK2X142O0\n",
       "Tz5/u/7TVybqH0rSya6ZBwD21/gubbrgWdDgEOx9WUhfBaC2ibcEBYm7a7x+ukrBMNcEZggyR0TE\n",
       "T8zUPjikQ4VosQZbTpS4vqizBKvqmvjsqnpfzaZyx9JPiz1/bfGKdgD45XB1zoIMzYbfTdS/NClB\n",
       "Gct0USiY3YL/g0LHy/uq/Ef6uo5+n0R/vyhp17Klpge763f8rMu6YU/zrn2nml+2WtH+Z+5IAAFc\n",
       "2bUTdTDOSNa9+cQY7YLsOIXhevEkCvzph7a8laecz/Un/z4/Ae04XeL3UQb57IwU9ZDr9UuKVajv\n",
       "nxp1+1UVIo/LjztZkKH59fO3G/JemqCfmaCRqbqbd90ZZ8FfjtkfAyD0J/9+C2h1hDwsSxvGjNDc\n",
       "b4zk5NfrSwiQblLHzZhg+Jf4aPlUwpDqkQqa9nimbt1/TDH8OitGMaQnj+RJS6B1fbF7SY1TqO5v\n",
       "/v0WAADl1f7zokgS7s7VT2DZ7pegUjBM7mjtiDZbcN4j0YrHH0rXpCtY0qPX0cVL0rv5jv/ZXend\n",
       "0u/EESYBAFBU4T4Qa5TflZOhTe7pmKpaP8kCVUVw1+yhXfJWvn1P3hnXi33JsTN6PnP3hHZ8Z3/h\n",
       "aLHzmkNPuPj7Bc/F/Q38CwjTpSwQXgE4Vmwry9tpfq/ZFgqFMy4AVDtCvi8rvMvOmv0N4YwbVgEA\n",
       "sPM72/KVnzfspmH7HQGCRLG2yL1+z8XwvPcdCbsAANh+xPzstgMtxeGKt+6MK3/tacfvwhWvIwMi\n",
       "oKEBtm0H7W+UVfkc/Y1V0BhoPlDr/w1w/eu1vjIgAgDg22OtX6/eYfnEz/focrZTHAFR+PSs56/7\n",
       "q32nwpjazxgwAQCwcU/T62t3WL7r6/jVRa6/byp1rei+Z98ZUAEAhEPHPc8fKnTU9nbgtnOe8h0l\n",
       "9hcGIqmODLQAHCy2Xti6v/XNRivf43f4fFvIteu854+VHnR7q9tfBlwAAGz+pnndB9vM26UebAe8\n",
       "SLHujPOTPVW+rwY+sxskAAC2HrA8t2Vvc7ffP1r9o+vwR2dcr92InIAbKKC1FZ5tB1tf+/G8p8sv\n",
       "N/9Q5zd/XR34LYCwV5JdccMEAMDBk45DH243r/X4xGvqxFa/GNpS7n6rwOwNWwHVE26oAADYurf1\n",
       "zx/utOzt+DMKYM0p17YtZZ5VNzqfsB2HewG1WXE8PoZ7gOclbTIvynZf9JV+fqZtfgs/8F/Nu5rB\n",
       "EIBmJ+8QRMmpU7EzGRsf2FzuePqYRbzh/zE26EwdrT10f6r6o8HOYzCJB9Dpff8tbnGLG8L/A/WE\n",
       "roTBs2RqAAAAAElFTkSuQmCC'\n",
       "     style='height:25px; border-radius:12px; display: inline-block; float: left; vertical-align: middle'></img>\n",
       "\n",
       "\n",
       "  <img src='data:image/png;base64,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'\n",
       "       style='height:15px; border-radius:12px; display: inline-block; float: left'></img>\n",
       "  \n",
       "\n",
       "\n",
       "\n",
       "\n",
       "</div>\n"
      ]
     },
     "metadata": {},
     "output_type": "display_data"
    }
   ],
   "source": [
    "import genomeshader as gs"
   ]
  },
  {
   "cell_type": "code",
   "execution_count": 2,
   "metadata": {},
   "outputs": [],
   "source": [
    "s = gs.init('my_session', 'gs://broad-dsde-methods-kiran/GenomeShader')"
   ]
  },
  {
   "cell_type": "code",
   "execution_count": 3,
   "metadata": {},
   "outputs": [],
   "source": [
    "s.attach_reads([\n",
    "    'gs://fc-8c3900db-633f-477f-96b3-fb31ae265c44/results/PBFlowcell/m84175_231021_212604_s2/reads/ccs/aligned/m84175_231021_212604_s2.bam',\n",
    "    'gs://fc-8c3900db-633f-477f-96b3-fb31ae265c44/results/PBFlowcell/m84175_231021_215710_s3/reads/ccs/aligned/m84175_231021_215710_s3.bam',\n",
    "    'gs://fc-8c3900db-633f-477f-96b3-fb31ae265c44/results/PBFlowcell/m84175_231021_222816_s4/reads/ccs/aligned/m84175_231021_222816_s4.bam',\n",
    "])"
   ]
  },
  {
   "cell_type": "code",
   "execution_count": 4,
   "metadata": {},
   "outputs": [],
   "source": [
    "s.attach_loci([\n",
    "    'chr15:23,960,193-23,963,918',\n",
    "])"
   ]
  },
  {
   "cell_type": "code",
   "execution_count": 5,
   "metadata": {},
   "outputs": [
    {
     "name": "stdout",
     "output_type": "stream",
     "text": [
      "Execution time: 2.2379889488220215 seconds\n"
     ]
    }
   ],
   "source": [
    "import time\n",
    "start_time = time.time()\n",
    "\n",
    "s.stage()\n",
    "\n",
    "print(\"Execution time: %s seconds\" % (time.time() - start_time))"
   ]
  },
  {
   "cell_type": "code",
   "execution_count": 6,
   "metadata": {},
   "outputs": [
    {
     "name": "stdout",
     "output_type": "stream",
     "text": [
      "Reads:\n",
      " - gs://fc-8c3900db-633f-477f-96b3-fb31ae265c44/results/PBFlowcell/m84175_231021_222816_s4/reads/ccs/aligned/m84175_231021_222816_s4.bam\n",
      "Loci:\n",
      " - (\"chr15\", 23960193, 23963918)\n",
      "Staging:\n",
      " - chr15:23960193-23963918 : \"/var/folders/3b/jc95zqdn22jfb2lnfy4k_p580000gn/T/chr15_23960193_23963918.parquet\"\n"
     ]
    }
   ],
   "source": [
    "s.print()"
   ]
  },
  {
   "cell_type": "code",
   "execution_count": 7,
   "metadata": {},
   "outputs": [
    {
     "name": "stdout",
     "output_type": "stream",
     "text": [
      "-rw-r--r--  1 kiran  staff   5.5K Jan 15 11:10 /var/folders/3b/jc95zqdn22jfb2lnfy4k_p580000gn/T/chr15_23960193_23963918.parquet\n"
     ]
    }
   ],
   "source": [
    "!ls -lh /var/folders/3b/jc95zqdn22jfb2lnfy4k_p580000gn/T/chr15_23960193_23963918.parquet"
   ]
  },
  {
   "cell_type": "code",
   "execution_count": 10,
   "metadata": {},
   "outputs": [
    {
     "data": {
      "text/plain": [
       "['bam_path',\n",
       " 'reference_contig',\n",
       " 'reference_start',\n",
       " 'reference_end',\n",
       " 'is_forward',\n",
       " 'query_name',\n",
       " 'read_group',\n",
       " 'sample_name',\n",
       " 'element_type',\n",
       " 'sequence',\n",
       " 'column_width']"
      ]
     },
     "execution_count": 10,
     "metadata": {},
     "output_type": "execute_result"
    }
   ],
   "source": [
    "import polars as pl\n",
    "\n",
    "df = pl.read_parquet('/var/folders/3b/jc95zqdn22jfb2lnfy4k_p580000gn/T/chr15_23960193_23963918.parquet')\n",
    "df.columns"
   ]
  },
  {
   "cell_type": "code",
   "execution_count": 9,
   "metadata": {},
   "outputs": [
    {
     "data": {
      "text/html": [
       "<div><style>\n",
       ".dataframe > thead > tr,\n",
       ".dataframe > tbody > tr {\n",
       "  text-align: right;\n",
       "  white-space: pre-wrap;\n",
       "}\n",
       "</style>\n",
       "<small>shape: (343, 10)</small><table border=\"1\" class=\"dataframe\"><thead><tr><th>reference_contig</th><th>reference_start</th><th>reference_end</th><th>is_forward</th><th>query_name</th><th>read_group</th><th>sample_name</th><th>element_type</th><th>sequence</th><th>column_width</th></tr><tr><td>str</td><td>u32</td><td>u32</td><td>bool</td><td>str</td><td>str</td><td>str</td><td>u8</td><td>str</td><td>u32</td></tr></thead><tbody><tr><td>&quot;chr15&quot;</td><td>23941696</td><td>23960621</td><td>true</td><td>&quot;m84175_231021_…</td><td>&quot;0a758968/17--1…</td><td>&quot;CP-102020-50&quot;</td><td>0</td><td>&quot;&quot;</td><td>1</td></tr><tr><td>&quot;chr15&quot;</td><td>23941755</td><td>23941756</td><td>true</td><td>&quot;m84175_231021_…</td><td>&quot;0a758968/17--1…</td><td>&quot;CP-102020-50&quot;</td><td>2</td><td>&quot;T&quot;</td><td>1</td></tr><tr><td>&quot;chr15&quot;</td><td>23941807</td><td>23941808</td><td>true</td><td>&quot;m84175_231021_…</td><td>&quot;0a758968/17--1…</td><td>&quot;CP-102020-50&quot;</td><td>2</td><td>&quot;G&quot;</td><td>1</td></tr><tr><td>&quot;chr15&quot;</td><td>23942168</td><td>23942169</td><td>true</td><td>&quot;m84175_231021_…</td><td>&quot;0a758968/17--1…</td><td>&quot;CP-102020-50&quot;</td><td>2</td><td>&quot;T&quot;</td><td>1</td></tr><tr><td>&quot;chr15&quot;</td><td>23942237</td><td>23942238</td><td>true</td><td>&quot;m84175_231021_…</td><td>&quot;0a758968/17--1…</td><td>&quot;CP-102020-50&quot;</td><td>3</td><td>&quot;&quot;</td><td>1</td></tr><tr><td>&quot;chr15&quot;</td><td>23942383</td><td>23942384</td><td>true</td><td>&quot;m84175_231021_…</td><td>&quot;0a758968/17--1…</td><td>&quot;CP-102020-50&quot;</td><td>1</td><td>&quot;T&quot;</td><td>1</td></tr><tr><td>&quot;chr15&quot;</td><td>23942619</td><td>23942620</td><td>true</td><td>&quot;m84175_231021_…</td><td>&quot;0a758968/17--1…</td><td>&quot;CP-102020-50&quot;</td><td>1</td><td>&quot;T&quot;</td><td>1</td></tr><tr><td>&quot;chr15&quot;</td><td>23943295</td><td>23943296</td><td>true</td><td>&quot;m84175_231021_…</td><td>&quot;0a758968/17--1…</td><td>&quot;CP-102020-50&quot;</td><td>3</td><td>&quot;&quot;</td><td>1</td></tr><tr><td>&quot;chr15&quot;</td><td>23943300</td><td>23943301</td><td>true</td><td>&quot;m84175_231021_…</td><td>&quot;0a758968/17--1…</td><td>&quot;CP-102020-50&quot;</td><td>1</td><td>&quot;T&quot;</td><td>1</td></tr><tr><td>&quot;chr15&quot;</td><td>23943592</td><td>23943593</td><td>true</td><td>&quot;m84175_231021_…</td><td>&quot;0a758968/17--1…</td><td>&quot;CP-102020-50&quot;</td><td>2</td><td>&quot;A&quot;</td><td>1</td></tr><tr><td>&quot;chr15&quot;</td><td>23943733</td><td>23943734</td><td>true</td><td>&quot;m84175_231021_…</td><td>&quot;0a758968/17--1…</td><td>&quot;CP-102020-50&quot;</td><td>2</td><td>&quot;C&quot;</td><td>1</td></tr><tr><td>&quot;chr15&quot;</td><td>23943769</td><td>23943770</td><td>true</td><td>&quot;m84175_231021_…</td><td>&quot;0a758968/17--1…</td><td>&quot;CP-102020-50&quot;</td><td>2</td><td>&quot;T&quot;</td><td>1</td></tr><tr><td>&hellip;</td><td>&hellip;</td><td>&hellip;</td><td>&hellip;</td><td>&hellip;</td><td>&hellip;</td><td>&hellip;</td><td>&hellip;</td><td>&hellip;</td><td>&hellip;</td></tr><tr><td>&quot;chr15&quot;</td><td>23974554</td><td>23974555</td><td>true</td><td>&quot;m84175_231021_…</td><td>&quot;0a758968/17--1…</td><td>&quot;CP-102020-50&quot;</td><td>1</td><td>&quot;C&quot;</td><td>1</td></tr><tr><td>&quot;chr15&quot;</td><td>23974655</td><td>23974656</td><td>true</td><td>&quot;m84175_231021_…</td><td>&quot;0a758968/17--1…</td><td>&quot;CP-102020-50&quot;</td><td>1</td><td>&quot;C&quot;</td><td>1</td></tr><tr><td>&quot;chr15&quot;</td><td>23974726</td><td>23974727</td><td>true</td><td>&quot;m84175_231021_…</td><td>&quot;0a758968/17--1…</td><td>&quot;CP-102020-50&quot;</td><td>1</td><td>&quot;C&quot;</td><td>1</td></tr><tr><td>&quot;chr15&quot;</td><td>23975068</td><td>23975069</td><td>true</td><td>&quot;m84175_231021_…</td><td>&quot;0a758968/17--1…</td><td>&quot;CP-102020-50&quot;</td><td>3</td><td>&quot;&quot;</td><td>1</td></tr><tr><td>&quot;chr15&quot;</td><td>23975368</td><td>23975369</td><td>true</td><td>&quot;m84175_231021_…</td><td>&quot;0a758968/17--1…</td><td>&quot;CP-102020-50&quot;</td><td>1</td><td>&quot;C&quot;</td><td>1</td></tr><tr><td>&quot;chr15&quot;</td><td>23975420</td><td>23975421</td><td>true</td><td>&quot;m84175_231021_…</td><td>&quot;0a758968/17--1…</td><td>&quot;CP-102020-50&quot;</td><td>1</td><td>&quot;G&quot;</td><td>1</td></tr><tr><td>&quot;chr15&quot;</td><td>23975671</td><td>23975672</td><td>true</td><td>&quot;m84175_231021_…</td><td>&quot;0a758968/17--1…</td><td>&quot;CP-102020-50&quot;</td><td>1</td><td>&quot;G&quot;</td><td>1</td></tr><tr><td>&quot;chr15&quot;</td><td>23975679</td><td>23975680</td><td>true</td><td>&quot;m84175_231021_…</td><td>&quot;0a758968/17--1…</td><td>&quot;CP-102020-50&quot;</td><td>1</td><td>&quot;A&quot;</td><td>1</td></tr><tr><td>&quot;chr15&quot;</td><td>23975939</td><td>23975940</td><td>true</td><td>&quot;m84175_231021_…</td><td>&quot;0a758968/17--1…</td><td>&quot;CP-102020-50&quot;</td><td>1</td><td>&quot;C&quot;</td><td>1</td></tr><tr><td>&quot;chr15&quot;</td><td>23976000</td><td>23976001</td><td>true</td><td>&quot;m84175_231021_…</td><td>&quot;0a758968/17--1…</td><td>&quot;CP-102020-50&quot;</td><td>1</td><td>&quot;A&quot;</td><td>1</td></tr><tr><td>&quot;chr15&quot;</td><td>23976004</td><td>23976005</td><td>true</td><td>&quot;m84175_231021_…</td><td>&quot;0a758968/17--1…</td><td>&quot;CP-102020-50&quot;</td><td>1</td><td>&quot;A&quot;</td><td>1</td></tr><tr><td>&quot;chr15&quot;</td><td>23976030</td><td>23976031</td><td>true</td><td>&quot;m84175_231021_…</td><td>&quot;0a758968/17--1…</td><td>&quot;CP-102020-50&quot;</td><td>1</td><td>&quot;T&quot;</td><td>1</td></tr></tbody></table></div>"
      ],
      "text/plain": [
       "shape: (343, 10)\n",
       "┌───────────┬───────────┬───────────┬───────────┬───┬───────────┬───────────┬──────────┬───────────┐\n",
       "│ reference ┆ reference ┆ reference ┆ is_forwar ┆ … ┆ sample_na ┆ element_t ┆ sequence ┆ column_wi │\n",
       "│ _contig   ┆ _start    ┆ _end      ┆ d         ┆   ┆ me        ┆ ype       ┆ ---      ┆ dth       │\n",
       "│ ---       ┆ ---       ┆ ---       ┆ ---       ┆   ┆ ---       ┆ ---       ┆ str      ┆ ---       │\n",
       "│ str       ┆ u32       ┆ u32       ┆ bool      ┆   ┆ str       ┆ u8        ┆          ┆ u32       │\n",
       "╞═══════════╪═══════════╪═══════════╪═══════════╪═══╪═══════════╪═══════════╪══════════╪═══════════╡\n",
       "│ chr15     ┆ 23941696  ┆ 23960621  ┆ true      ┆ … ┆ CP-102020 ┆ 0         ┆          ┆ 1         │\n",
       "│           ┆           ┆           ┆           ┆   ┆ -50       ┆           ┆          ┆           │\n",
       "│ chr15     ┆ 23941755  ┆ 23941756  ┆ true      ┆ … ┆ CP-102020 ┆ 2         ┆ T        ┆ 1         │\n",
       "│           ┆           ┆           ┆           ┆   ┆ -50       ┆           ┆          ┆           │\n",
       "│ chr15     ┆ 23941807  ┆ 23941808  ┆ true      ┆ … ┆ CP-102020 ┆ 2         ┆ G        ┆ 1         │\n",
       "│           ┆           ┆           ┆           ┆   ┆ -50       ┆           ┆          ┆           │\n",
       "│ chr15     ┆ 23942168  ┆ 23942169  ┆ true      ┆ … ┆ CP-102020 ┆ 2         ┆ T        ┆ 1         │\n",
       "│           ┆           ┆           ┆           ┆   ┆ -50       ┆           ┆          ┆           │\n",
       "│ …         ┆ …         ┆ …         ┆ …         ┆ … ┆ …         ┆ …         ┆ …        ┆ …         │\n",
       "│ chr15     ┆ 23975939  ┆ 23975940  ┆ true      ┆ … ┆ CP-102020 ┆ 1         ┆ C        ┆ 1         │\n",
       "│           ┆           ┆           ┆           ┆   ┆ -50       ┆           ┆          ┆           │\n",
       "│ chr15     ┆ 23976000  ┆ 23976001  ┆ true      ┆ … ┆ CP-102020 ┆ 1         ┆ A        ┆ 1         │\n",
       "│           ┆           ┆           ┆           ┆   ┆ -50       ┆           ┆          ┆           │\n",
       "│ chr15     ┆ 23976004  ┆ 23976005  ┆ true      ┆ … ┆ CP-102020 ┆ 1         ┆ A        ┆ 1         │\n",
       "│           ┆           ┆           ┆           ┆   ┆ -50       ┆           ┆          ┆           │\n",
       "│ chr15     ┆ 23976030  ┆ 23976031  ┆ true      ┆ … ┆ CP-102020 ┆ 1         ┆ T        ┆ 1         │\n",
       "│           ┆           ┆           ┆           ┆   ┆ -50       ┆           ┆          ┆           │\n",
       "└───────────┴───────────┴───────────┴───────────┴───┴───────────┴───────────┴──────────┴───────────┘"
      ]
     },
     "execution_count": 9,
     "metadata": {},
     "output_type": "execute_result"
    }
   ],
   "source": [
    "df"
   ]
  },
  {
   "cell_type": "code",
   "execution_count": 6,
   "metadata": {},
   "outputs": [
    {
     "name": "stdout",
     "output_type": "stream",
     "text": [
      "Reads:\n",
      " - gs://fc-8c3900db-633f-477f-96b3-fb31ae265c44/results/PBFlowcell/m84175_231021_222816_s4/reads/ccs/aligned/m84175_231021_222816_s4.bam\n",
      "Loci:\n",
      " - (\"chr15\", 23960193, 23963918)\n",
      "Staging:\n",
      " - chr15:23960193-23963918 : \"/var/folders/3b/jc95zqdn22jfb2lnfy4k_p580000gn/T/chr15_23960193_23963918.parquet\"\n"
     ]
    }
   ],
   "source": [
    "s.print()"
   ]
  },
  {
   "cell_type": "code",
   "execution_count": 7,
   "metadata": {},
   "outputs": [
    {
     "name": "stdout",
     "output_type": "stream",
     "text": [
      "chr15_23960193_23963918.parquet\n"
     ]
    },
    {
     "data": {},
     "metadata": {},
     "output_type": "display_data"
    },
    {
     "data": {
      "application/vnd.holoviews_exec.v0+json": "",
      "text/html": [
       "<div id='p1005'>\n",
       "  <div id=\"d69a4532-9a61-4705-8aa8-d8207311d586\" data-root-id=\"p1005\" style=\"display: contents;\"></div>\n",
       "</div>\n",
       "<script type=\"application/javascript\">(function(root) {\n",
       "  var docs_json = {\"09b7fc06-8896-4c1d-832a-e12183b9efed\":{\"version\":\"3.3.2\",\"title\":\"Bokeh Application\",\"roots\":[{\"type\":\"object\",\"name\":\"Row\",\"id\":\"p1005\",\"attributes\":{\"name\":\"Row00877\",\"tags\":[\"embedded\"],\"stylesheets\":[\"\\n:host(.pn-loading.pn-arc):before, .pn-loading.pn-arc:before {\\n  background-image: url(\\\"data:image/svg+xml;base64,PHN2ZyB4bWxucz0iaHR0cDovL3d3dy53My5vcmcvMjAwMC9zdmciIHN0eWxlPSJtYXJnaW46IGF1dG87IGJhY2tncm91bmQ6IG5vbmU7IGRpc3BsYXk6IGJsb2NrOyBzaGFwZS1yZW5kZXJpbmc6IGF1dG87IiB2aWV3Qm94PSIwIDAgMTAwIDEwMCIgcHJlc2VydmVBc3BlY3RSYXRpbz0ieE1pZFlNaWQiPiAgPGNpcmNsZSBjeD0iNTAiIGN5PSI1MCIgZmlsbD0ibm9uZSIgc3Ryb2tlPSIjYzNjM2MzIiBzdHJva2Utd2lkdGg9IjEwIiByPSIzNSIgc3Ryb2tlLWRhc2hhcnJheT0iMTY0LjkzMzYxNDMxMzQ2NDE1IDU2Ljk3Nzg3MTQzNzgyMTM4Ij4gICAgPGFuaW1hdGVUcmFuc2Zvcm0gYXR0cmlidXRlTmFtZT0idHJhbnNmb3JtIiB0eXBlPSJyb3RhdGUiIHJlcGVhdENvdW50PSJpbmRlZmluaXRlIiBkdXI9IjFzIiB2YWx1ZXM9IjAgNTAgNTA7MzYwIDUwIDUwIiBrZXlUaW1lcz0iMDsxIj48L2FuaW1hdGVUcmFuc2Zvcm0+ICA8L2NpcmNsZT48L3N2Zz4=\\\");\\n  background-size: auto calc(min(50%, 400px));\\n}\",{\"type\":\"object\",\"name\":\"ImportedStyleSheet\",\"id\":\"p1008\",\"attributes\":{\"url\":\"https://cdn.holoviz.org/panel/1.3.6/dist/css/loading.css\"}},{\"type\":\"object\",\"name\":\"ImportedStyleSheet\",\"id\":\"p1061\",\"attributes\":{\"url\":\"https://cdn.holoviz.org/panel/1.3.6/dist/css/listpanel.css\"}},{\"type\":\"object\",\"name\":\"ImportedStyleSheet\",\"id\":\"p1006\",\"attributes\":{\"url\":\"https://cdn.holoviz.org/panel/1.3.6/dist/bundled/theme/default.css\"}},{\"type\":\"object\",\"name\":\"ImportedStyleSheet\",\"id\":\"p1007\",\"attributes\":{\"url\":\"https://cdn.holoviz.org/panel/1.3.6/dist/bundled/theme/native.css\"}}],\"min_width\":980,\"margin\":0,\"sizing_mode\":\"stretch_width\",\"align\":\"start\",\"children\":[{\"type\":\"object\",\"name\":\"Spacer\",\"id\":\"p1009\",\"attributes\":{\"name\":\"HSpacer00884\",\"stylesheets\":[\"\\n:host(.pn-loading.pn-arc):before, .pn-loading.pn-arc:before {\\n  background-image: url(\\\"data:image/svg+xml;base64,PHN2ZyB4bWxucz0iaHR0cDovL3d3dy53My5vcmcvMjAwMC9zdmciIHN0eWxlPSJtYXJnaW46IGF1dG87IGJhY2tncm91bmQ6IG5vbmU7IGRpc3BsYXk6IGJsb2NrOyBzaGFwZS1yZW5kZXJpbmc6IGF1dG87IiB2aWV3Qm94PSIwIDAgMTAwIDEwMCIgcHJlc2VydmVBc3BlY3RSYXRpbz0ieE1pZFlNaWQiPiAgPGNpcmNsZSBjeD0iNTAiIGN5PSI1MCIgZmlsbD0ibm9uZSIgc3Ryb2tlPSIjYzNjM2MzIiBzdHJva2Utd2lkdGg9IjEwIiByPSIzNSIgc3Ryb2tlLWRhc2hhcnJheT0iMTY0LjkzMzYxNDMxMzQ2NDE1IDU2Ljk3Nzg3MTQzNzgyMTM4Ij4gICAgPGFuaW1hdGVUcmFuc2Zvcm0gYXR0cmlidXRlTmFtZT0idHJhbnNmb3JtIiB0eXBlPSJyb3RhdGUiIHJlcGVhdENvdW50PSJpbmRlZmluaXRlIiBkdXI9IjFzIiB2YWx1ZXM9IjAgNTAgNTA7MzYwIDUwIDUwIiBrZXlUaW1lcz0iMDsxIj48L2FuaW1hdGVUcmFuc2Zvcm0+ICA8L2NpcmNsZT48L3N2Zz4=\\\");\\n  background-size: auto calc(min(50%, 400px));\\n}\",{\"id\":\"p1008\"},{\"id\":\"p1006\"},{\"id\":\"p1007\"}],\"margin\":0,\"sizing_mode\":\"stretch_width\",\"align\":\"start\"}},{\"type\":\"object\",\"name\":\"Figure\",\"id\":\"p1018\",\"attributes\":{\"width\":980,\"height\":400,\"margin\":[5,10],\"sizing_mode\":\"fixed\",\"align\":\"start\",\"x_range\":{\"type\":\"object\",\"name\":\"Range1d\",\"id\":\"p1010\",\"attributes\":{\"tags\":[[[\"x0\",\"x0\",null]],[]],\"start\":23940289.51020408,\"end\":23977561.48979592,\"reset_start\":23940289.51020408,\"reset_end\":23977561.48979592}},\"y_range\":{\"type\":\"object\",\"name\":\"Range1d\",\"id\":\"p1011\",\"attributes\":{\"tags\":[[[\"y0\",\"y0\",null]],{\"type\":\"map\",\"entries\":[[\"invert_yaxis\",false],[\"autorange\",false]]}],\"start\":-18,\"reset_start\":-18,\"reset_end\":1}},\"x_scale\":{\"type\":\"object\",\"name\":\"LinearScale\",\"id\":\"p1028\"},\"y_scale\":{\"type\":\"object\",\"name\":\"LinearScale\",\"id\":\"p1029\"},\"title\":{\"type\":\"object\",\"name\":\"Title\",\"id\":\"p1021\",\"attributes\":{\"text\":\"Read visualization\",\"text_color\":\"black\",\"text_font_size\":\"15.6pt\"}},\"renderers\":[{\"type\":\"object\",\"name\":\"GlyphRenderer\",\"id\":\"p1055\",\"attributes\":{\"data_source\":{\"type\":\"object\",\"name\":\"ColumnDataSource\",\"id\":\"p1044\",\"attributes\":{\"selected\":{\"type\":\"object\",\"name\":\"Selection\",\"id\":\"p1045\",\"attributes\":{\"indices\":[],\"line_indices\":[]}},\"selection_policy\":{\"type\":\"object\",\"name\":\"UnionRenderers\",\"id\":\"p1046\"},\"data\":{\"type\":\"map\",\"entries\":[[\"left\",{\"type\":\"ndarray\",\"array\":{\"type\":\"bytes\",\"data\":\"6J1tAemdbQHqnW0B651tAeydbQHtnW0B7p1tAe+dbQHwnW0B8Z1tAfKdbQHznW0B9J1tAfWdbQH2nW0B951tAfidbQH5nW0B+p1tAfudbQH8nW0B/Z1tAf6dbQH/nW0BAJ5tAQGebQECnm0BA55tAQSebQEFnm0BBp5tAQeebQEInm0BCZ5tAQqebQELnm0BDJ5tAQ2ebQEOnm0BD55tARCebQERnm0BEp5tAROebQEUnm0BFZ5tARaebQEXnm0BGJ5tARmebQEanm0BG55tARyebQEdnm0BHp5tAR+ebQEgnm0BIZ5tASKebQEjnm0BJJ5tASWebQEmnm0BJ55tASiebQEpnm0BKp5tASuebQEsnm0BLZ5tAS6ebQEvnm0BMJ5tATGebQEynm0BM55tATSebQE1nm0BNp5tAUSebQFUnm0BY55tAWaebQF1nm0BfJ5tAY+ebQGgnm0Bqp5tAcOebQHKnm0Bz55tAdGebQHYnm0B3p5tAeCebQHlnm0B7J5tAfiebQH+nm0BhaFtARWibQFbom0B0KJtASGkbQFypG0BO6VtAU6lbQHzpm0BHKdtAR2nbQFbqm0BXqptAQ2rbQEjq20Bg6ttAY6rbQEirG0B6qxtAVGtbQFxrW0Bxq1tAeaubQEhsW0B/7FtAaKybQEitm0B5rZtAZ24bQFEuW0BHrptAYC7bQEhvG0BaLxtAZq8bQHevW0BzMFtAU7CbQHcxG0BAsVtAQbGbQFGx20BusdtASfIbQE5yW0BjcltAbfJbQE3y20BK8xtAWzMbQH7zG0BJc1tAdrNbQFkzm0BsM9tAcLPbQHI0G0BRdJtAZrSbQH/0m0BRtNtAZzUbQHI1W0B/NVtAffWbQH/1m0BA9htAUDYbQFE2G0BXthtAUBSbQF7Um0Br1JtARhUbQFdVG0B71RtAdtVbQF/WG0BhFhtAahZbQE1Wm0BWVptAVdbbQG8W20BtVxtARldbQGdXW0BoV1tAXJebQFVX20BTmFtAVxhbQF8Ym0Bc2NtAZVjbQGlY20B02NtAQJkbQEpZW0Bt2ZtAa9nbQHCZ20BSWhtAaJobQE0aW0Bu2ltATtqbQFIam0BYmptAYJsbQGJbG0Bk2xtAfVsbQGNbm0BsW9tAfBvbQH+b20BUHBtAW5wbQF7cW0BonNtAb1zbQHuc20BZ3VtAT12bQGPdm0BqndtAcl3bQGheG0B03htAfZ5bQFOem0BYXptAbp+bQHVfm0B/n5tAVh/bQGdgG0BNoNtAbiDbQFthW0BLYZtATqGbQE8hm0BQYZtAVeGbQHRhm0B44ZtAUqHbQFxh20Bq4dtARCIbQHjiG0BUYltAZKJbQGciW0Bz4ltASmKbQFEim0BXYptAXCLbQFXjW0BXY1tAdGNbQHyjW0BWI5tASKPbQG/j20Bw49tAeCPbQEkkG0BP5BtAfqQbQF9kW0BzpFtAVCSbQF6km0BW5RtAQKVbQHLlW0B75VtAceWbQH6mG0B6ZltAfqZbQFxm20BvZttAfGZbQG9m20BPJ1tAdadbQEHnm0BC55tAf6ebQHioG0BhaFtARWibQFbom0B0KJtAXKkbQE7pW0BTqVtAfOmbQEcp20BHadtAVuqbQFeqm0BDattASOrbQGDq20BjqttASKsbQHqrG0BUa1tAXGtbQHGrW0BIK5tAeaubQEhsW0B/7FtAVWybQGism0Bi7RtASK2bQHmtm0BnbhtAR66bQGAu20BIbxtAWi8bQHevW0BzMFtARnCbQE6wm0BTsJtAdzEbQECxW0BBsZtAUTHbQEnyG0Be8htATnJbQGNyW0Bt8ltAQ==\"},\"shape\":[343],\"dtype\":\"int32\",\"order\":\"little\"}],[\"right\",{\"type\":\"ndarray\",\"array\":{\"type\":\"bytes\",\"data\":\"6Z1tAeqdbQHrnW0B7J1tAe2dbQHunW0B751tAfCdbQHxnW0B8p1tAfOdbQH0nW0B9Z1tAfadbQH3nW0B+J1tAfmdbQH6nW0B+51tAfydbQH9nW0B/p1tAf+dbQEAnm0BAZ5tAQKebQEDnm0BBJ5tAQWebQEGnm0BB55tAQiebQEJnm0BCp5tAQuebQEMnm0BDZ5tAQ6ebQEPnm0BEJ5tARGebQESnm0BE55tARSebQEVnm0BFp5tAReebQEYnm0BGZ5tARqebQEbnm0BHJ5tAR2ebQEenm0BH55tASCebQEhnm0BIp5tASOebQEknm0BJZ5tASaebQEnnm0BKJ5tASmebQEqnm0BK55tASyebQEtnm0BLp5tAS+ebQEwnm0BMZ5tATKebQEznm0BNJ5tATWebQE2nm0B29htAUWebQFVnm0BZJ5tAWeebQF2nm0BfZ5tAZGebQGhnm0Bq55tAcSebQHLnm0B0J5tAdKebQHZnm0B355tAeGebQHmnm0B7Z5tAfmebQH/nm0BhqFtARaibQFcom0B0aJtASKkbQFzpG0BPaVtAU+lbQH0pm0BHadtAR6nbQFcqm0BX6ptAQ6rbQEpq20BhKttAY+rbQEjrG0B66xtAVKtbQFyrW0Bx61tAeeubQEisW0BALJtAaOybQEjtm0B57ZtAZ64bQFFuW0BH7ptAYG7bQEivG0BabxtAZu8bQHfvW0BzcFtAU/CbQHdxG0BA8VtAQfGbQFHx20Bu8dtASjIbQE6yW0BjsltAbjJbQE4y20BLMxtAW3MbQH8zG0BJs1tAdvNbQFlzm0Bsc9tAcPPbQHJ0G0BRtJtAZvSbQEA020BR9NtAZ3UbQHJ1W0B/dVtAfjWbQEA120BBNhtAUHYbQFF2G0BX9htAS2cbQF8Um0BsFJtARlUbQFeVG0B8FRtAdxVbQGAWG0BhVhtAalZbQE2Wm0BWlptAVhbbQG9W20BtlxtARpdbQGeXW0Bol1tAXNebQFWX20BT2FtAV1hbQF9Ym0BdGNtAZZjbQGmY20B1GNtAQNkbQEqZW0BuGZtAbBnbQHDZ20BSmhtAaNobQE1aW0BvGltATxqbQFJam0BY2ptAYNsbQGKbG0BlGxtAfZsbQGObm0BtG9tAfFvbQH/b20BUXBtAW9wbQF8cW0Bo3NtAb5zbQHyc20BaHVtAT52bQGQdm0Bq3dtAcp3bQGieG0B1HhtAfd5bQFPem0BYnptAbt+bQHWfm0B/35tAVl/bQGegG0BN4NtAbmDbQFuhW0BLoZtATuGbQE9hm0BQoZtAViGbQHShm0B5YZtAUuHbQFyh20BrIdtARGIbQHkiG0BVYltAZiJbQGeiW0B0IltASqKbQFHim0BXoptAXKLbQFYjW0BXo1tAdKNbQHzjW0BWY5tASOPbQHAj20BxI9tAeGPbQElkG0BQJBtAfuQbQF+kW0Bz5FtAVGSbQF7km0BXJRtAQOVbQHMlW0B8JVtAciWbQH7mG0B6pltAfuZbQFym20BvpttAcbKbQG+m20BPZ1tAdedbQEInm0BDJ5tAf+ebQHjoG0BhqFtARaibQFcom0B0aJtAXOkbQE9pW0BT6VtAfSmbQEdp20BHqdtAVyqbQFfqm0BDqttASmrbQGEq20Bj6ttASOsbQHrrG0BUq1tAXKtbQHHrW0BIa5tAeeubQEisW0BALJtAVaybQGjsm0BjLRtASO2bQHntm0BnrhtAR+6bQGBu20BIrxtAWm8bQHfvW0BzcFtARrCbQE7wm0BT8JtAd3EbQEDxW0BB8ZtAUXHbQEoyG0BfMhtATrJbQGOyW0BuMltAQ==\"},\"shape\":[343],\"dtype\":\"int32\",\"order\":\"little\"}],[\"bottom\",{\"type\":\"ndarray\",\"array\":{\"type\":\"bytes\",\"data\":\"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\"},\"shape\":[343],\"dtype\":\"float64\",\"order\":\"little\"}],[\"top\",{\"type\":\"ndarray\",\"array\":{\"type\":\"bytes\",\"data\":\"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\"},\"shape\":[343],\"dtype\":\"float64\",\"order\":\"little\"}],[\"color\",{\"type\":\"ndarray\",\"array\":{\"type\":\"bytes\",\"data\":\"BAAAAAQAAAAEAAAABAAAAAQAAAAEAAAABAAAAAQAAAAEAAAABAAAAAQAAAAEAAAABAAAAAQAAAAEAAAABAAAAAQAAAAEAAAABAAAAAQAAAAEAAAABAAAAAQAAAAEAAAABAAAAAQAAAAEAAAABAAAAAQAAAAEAAAABAAAAAQAAAAEAAAABAAAAAQAAAAEAAAABAAAAAQAAAAEAAAABAAAAAQAAAAEAAAABAAAAAQAAAAEAAAABAAAAAQAAAAEAAAABAAAAAQAAAAEAAAABAAAAAQAAAAEAAAABAAAAAQAAAAEAAAABAAAAAQAAAAEAAAABAAAAAQAAAAEAAAABAAAAAQAAAAEAAAABAAAAAQAAAAEAAAABAAAAAQAAAAEAAAABAAAAAQAAAAEAAAABAAAAAQAAAAEAAAAAAAAAAMAAAADAAAAAQAAAAMAAAACAAAAAQAAAAMAAAACAAAAAwAAAAMAAAACAAAAAQAAAAEAAAADAAAAAQAAAAEAAAACAAAAAwAAAAEAAAABAAAAAQAAAAEAAAADAAAAAQAAAAMAAAABAAAAAwAAAAEAAAABAAAAAgAAAAEAAAABAAAAAgAAAAEAAAADAAAAAQAAAAEAAAABAAAAAQAAAAEAAAACAAAAAQAAAAEAAAABAAAAAQAAAAEAAAABAAAAAQAAAAEAAAACAAAAAQAAAAIAAAABAAAAAQAAAAMAAAABAAAAAQAAAAEAAAACAAAAAQAAAAEAAAABAAAAAwAAAAEAAAABAAAAAQAAAAIAAAABAAAAAQAAAAEAAAABAAAAAQAAAAEAAAABAAAAAQAAAAEAAAABAAAAAQAAAAEAAAABAAAAAQAAAAMAAAABAAAAAQAAAAEAAAABAAAAAQAAAAEAAAABAAAAAQAAAAAAAAACAAAAAgAAAAIAAAADAAAAAQAAAAEAAAADAAAAAQAAAAIAAAACAAAAAgAAAAEAAAACAAAAAQAAAAEAAAADAAAAAQAAAAEAAAABAAAAAwAAAAMAAAADAAAAAQAAAAEAAAABAAAAAwAAAAEAAAABAAAAAwAAAAMAAAACAAAAAgAAAAMAAAADAAAAAQAAAAEAAAADAAAAAwAAAAMAAAADAAAAAQAAAAMAAAACAAAAAwAAAAMAAAABAAAAAwAAAAMAAAADAAAAAwAAAAMAAAADAAAAAwAAAAMAAAADAAAAAQAAAAEAAAADAAAAAQAAAAMAAAACAAAAAgAAAAMAAAABAAAAAQAAAAIAAAABAAAAAwAAAAEAAAADAAAAAwAAAAMAAAABAAAAAwAAAAEAAAADAAAAAwAAAAMAAAADAAAAAQAAAAMAAAABAAAAAwAAAAMAAAADAAAAAwAAAAEAAAADAAAAAwAAAAMAAAADAAAAAQAAAAMAAAADAAAAAwAAAAEAAAADAAAAAQAAAAEAAAABAAAAAQAAAAIAAAABAAAAAgAAAAEAAAABAAAAAQAAAAEAAAACAAAAAQAAAAMAAAADAAAAAQAAAAMAAAADAAAAAgAAAAAAAAACAAAAAQAAAAIAAAABAAAAAQAAAAEAAAADAAAAAQAAAAEAAAADAAAAAQAAAAEAAAADAAAAAQAAAAEAAAACAAAAAQAAAAEAAAACAAAAAQAAAAMAAAABAAAAAQAAAAEAAAABAAAAAQAAAAIAAAABAAAAAwAAAAEAAAABAAAAAQAAAAMAAAABAAAAAwAAAAEAAAABAAAAAQAAAAEAAAACAAAAAQAAAAEAAAABAAAAAQAAAAIAAAADAAAAAQAAAAIAAAABAAAAAQAAAAMAAAABAAAAAwAAAAEAAAABAAAAAgAAAA==\"},\"shape\":[343],\"dtype\":\"int32\",\"order\":\"little\"}]]}}},\"view\":{\"type\":\"object\",\"name\":\"CDSView\",\"id\":\"p1056\",\"attributes\":{\"filter\":{\"type\":\"object\",\"name\":\"AllIndices\",\"id\":\"p1057\"}}},\"glyph\":{\"type\":\"object\",\"name\":\"Quad\",\"id\":\"p1050\",\"attributes\":{\"tags\":[\"apply_ranges\"],\"left\":{\"type\":\"field\",\"field\":\"left\"},\"right\":{\"type\":\"field\",\"field\":\"right\"},\"bottom\":{\"type\":\"field\",\"field\":\"bottom\"},\"top\":{\"type\":\"field\",\"field\":\"top\"},\"line_width\":{\"type\":\"value\",\"value\":0},\"fill_color\":{\"type\":\"field\",\"field\":\"color\",\"transform\":{\"type\":\"object\",\"name\":\"LinearColorMapper\",\"id\":\"p1043\",\"attributes\":{\"palette\":[\"#b3fef5\",\"#b0fef5\",\"#adfdf5\",\"#a9fcf5\",\"#a6fbf6\",\"#a3faf6\",\"#a0faf6\",\"#9df9f6\",\"#9af8f6\",\"#97f7f6\",\"#93f7f6\",\"#90f6f6\",\"#8df5f6\",\"#8af4f7\",\"#87f3f7\",\"#83f2f7\",\"#80f2f7\",\"#7df1f7\",\"#79f0f7\",\"#76eff7\",\"#73eef7\",\"#6fedf8\",\"#6cecf8\",\"#68ecf8\",\"#65ebf8\",\"#61eaf8\",\"#5ee9f8\",\"#5ae8f8\",\"#57e7f8\",\"#53e6f8\",\"#50e5f9\",\"#4ce4f9\",\"#49e3f9\",\"#45e2f9\",\"#42e1f9\",\"#3ee0f9\",\"#3bdff9\",\"#38def9\",\"#35ddf9\",\"#32dcf9\",\"#30dbfa\",\"#2ed9fa\",\"#2dd8fa\",\"#2cd7fa\",\"#2bd6fa\",\"#2bd5fa\",\"#2ad3fa\",\"#2ad2fa\",\"#29d1fa\",\"#29d0fb\",\"#29cffb\",\"#28cdfb\",\"#28ccfb\",\"#28cbfb\",\"#28cafb\",\"#28c8fb\",\"#28c7fb\",\"#29c6fb\",\"#29c5fb\",\"#29c4fb\",\"#29c2fb\",\"#2ac1fb\",\"#2ac0fb\",\"#2bbffb\",\"#2bbdfc\",\"#2cbcfc\",\"#2dbbfc\",\"#2db9fc\",\"#2eb8fc\",\"#2fb7fc\",\"#2fb6fc\",\"#30b4fc\",\"#31b3fc\",\"#32b2fc\",\"#32b0fc\",\"#33affc\",\"#33aefc\",\"#34adfc\",\"#34abfc\",\"#34aafc\",\"#35a9fc\",\"#35a8fc\",\"#35a6fc\",\"#35a5fc\",\"#35a4fc\",\"#35a3fc\",\"#35a1fc\",\"#35a0fc\",\"#359ffc\",\"#359dfc\",\"#359cfc\",\"#359bfc\",\"#349afd\",\"#3498fd\",\"#3497fd\",\"#3396fd\",\"#3395fd\",\"#3293fd\",\"#3292fd\",\"#3191fd\",\"#3090fd\",\"#308ffd\",\"#2f8dfd\",\"#2f8cfd\",\"#2e8bfd\",\"#2e8afd\",\"#2d88fd\",\"#2d87fd\",\"#2c86fd\",\"#2c84fd\",\"#2c83fd\",\"#2c82fd\",\"#2b81fd\",\"#2b7ffd\",\"#2b7efd\",\"#2b7dfd\",\"#2b7bfd\",\"#2b7afd\",\"#2b79fd\",\"#2b77fd\",\"#2b76fd\",\"#2b75fd\",\"#2b73fd\",\"#2c72fd\",\"#2c71fd\",\"#2c6ffd\",\"#2c6efd\",\"#2d6cfd\",\"#2d6bfd\",\"#2d6afc\",\"#2e68fc\",\"#2e67fc\",\"#2e65fc\",\"#2e64fc\",\"#2f62fc\",\"#2f61fc\",\"#2f5ffc\",\"#2f5efc\",\"#2f5dfc\",\"#2f5bfc\",\"#2f5afc\",\"#2f58fb\",\"#2f57fb\",\"#2f55fb\",\"#2f53fb\",\"#2f52fb\",\"#2f50fb\",\"#2f4ffb\",\"#2f4dfb\",\"#2e4cfb\",\"#2e4afb\",\"#2e48fb\",\"#2e47fa\",\"#2d45fa\",\"#2d43fa\",\"#2d42fa\",\"#2d40fa\",\"#2c3efa\",\"#2c3dfa\",\"#2b3bf9\",\"#2b39f9\",\"#2a37f9\",\"#2a36f8\",\"#2934f8\",\"#2832f7\",\"#2831f7\",\"#272ff6\",\"#262ef5\",\"#252cf5\",\"#252af4\",\"#2429f3\",\"#2327f2\",\"#2226f1\",\"#2124f0\",\"#2023ef\",\"#1f22ee\",\"#1e20ed\",\"#1d1feb\",\"#1c1eea\",\"#1b1ce9\",\"#1a1be7\",\"#181ae6\",\"#1719e5\",\"#1618e3\",\"#1417e1\",\"#1316e0\",\"#1215de\",\"#1014dc\",\"#0f13db\",\"#0e12d9\",\"#0d11d7\",\"#0c10d5\",\"#0b0fd3\",\"#0a0ed1\",\"#090dd0\",\"#080dce\",\"#080ccc\",\"#070bca\",\"#070ac8\",\"#0709c6\",\"#0708c4\",\"#0707c2\",\"#0707bf\",\"#0806bd\",\"#0806bb\",\"#0905b9\",\"#0904b7\",\"#0a04b5\",\"#0a04b2\",\"#0b03b0\",\"#0c03ae\",\"#0d02ab\",\"#0e02a9\",\"#0e02a7\",\"#0f02a4\",\"#0f01a2\",\"#1001a0\",\"#10019d\",\"#10019b\",\"#100199\",\"#100197\",\"#100194\",\"#0f0192\",\"#0f0190\",\"#0f018e\",\"#0e018b\",\"#0e0189\",\"#0d0187\",\"#0d0185\",\"#0c0183\",\"#0b0181\",\"#0b017e\",\"#0a017c\",\"#09017a\",\"#090178\",\"#080276\",\"#070274\",\"#060272\",\"#060270\",\"#05026e\",\"#04026c\",\"#030269\",\"#030267\",\"#020265\",\"#010263\",\"#010261\",\"#00025f\",\"#00025d\",\"#00025b\",\"#000259\",\"#000257\",\"#000255\",\"#000154\",\"#000152\",\"#000150\",\"#00004e\"],\"low\":0,\"high\":4}}},\"hatch_color\":{\"type\":\"field\",\"field\":\"color\",\"transform\":{\"id\":\"p1043\"}}}},\"selection_glyph\":{\"type\":\"object\",\"name\":\"Quad\",\"id\":\"p1052\",\"attributes\":{\"tags\":[\"apply_ranges\"],\"left\":{\"type\":\"field\",\"field\":\"left\"},\"right\":{\"type\":\"field\",\"field\":\"right\"},\"bottom\":{\"type\":\"field\",\"field\":\"bottom\"},\"top\":{\"type\":\"field\",\"field\":\"top\"},\"line_width\":{\"type\":\"value\",\"value\":0},\"fill_color\":{\"type\":\"field\",\"field\":\"color\",\"transform\":{\"id\":\"p1043\"}},\"hatch_color\":{\"type\":\"field\",\"field\":\"color\",\"transform\":{\"id\":\"p1043\"}}}},\"nonselection_glyph\":{\"type\":\"object\",\"name\":\"Quad\",\"id\":\"p1051\",\"attributes\":{\"tags\":[\"apply_ranges\"],\"left\":{\"type\":\"field\",\"field\":\"left\"},\"right\":{\"type\":\"field\",\"field\":\"right\"},\"bottom\":{\"type\":\"field\",\"field\":\"bottom\"},\"top\":{\"type\":\"field\",\"field\":\"top\"},\"line_alpha\":{\"type\":\"value\",\"value\":0.1},\"line_width\":{\"type\":\"value\",\"value\":0},\"fill_color\":{\"type\":\"field\",\"field\":\"color\",\"transform\":{\"id\":\"p1043\"}},\"fill_alpha\":{\"type\":\"value\",\"value\":0.1},\"hatch_color\":{\"type\":\"field\",\"field\":\"color\",\"transform\":{\"id\":\"p1043\"}},\"hatch_alpha\":{\"type\":\"value\",\"value\":0.1}}},\"hover_glyph\":{\"type\":\"object\",\"name\":\"Quad\",\"id\":\"p1053\",\"attributes\":{\"tags\":[\"apply_ranges\"],\"left\":{\"type\":\"field\",\"field\":\"left\"},\"right\":{\"type\":\"field\",\"field\":\"right\"},\"bottom\":{\"type\":\"field\",\"field\":\"bottom\"},\"top\":{\"type\":\"field\",\"field\":\"top\"},\"line_width\":{\"type\":\"value\",\"value\":0},\"fill_color\":{\"type\":\"field\",\"field\":\"color\",\"transform\":{\"id\":\"p1043\"}},\"hatch_color\":{\"type\":\"field\",\"field\":\"color\",\"transform\":{\"id\":\"p1043\"}}}},\"muted_glyph\":{\"type\":\"object\",\"name\":\"Quad\",\"id\":\"p1054\",\"attributes\":{\"tags\":[\"apply_ranges\"],\"left\":{\"type\":\"field\",\"field\":\"left\"},\"right\":{\"type\":\"field\",\"field\":\"right\"},\"bottom\":{\"type\":\"field\",\"field\":\"bottom\"},\"top\":{\"type\":\"field\",\"field\":\"top\"},\"line_alpha\":{\"type\":\"value\",\"value\":0.2},\"line_width\":{\"type\":\"value\",\"value\":0},\"fill_color\":{\"type\":\"field\",\"field\":\"color\",\"transform\":{\"id\":\"p1043\"}},\"fill_alpha\":{\"type\":\"value\",\"value\":0.2},\"hatch_color\":{\"type\":\"field\",\"field\":\"color\",\"transform\":{\"id\":\"p1043\"}},\"hatch_alpha\":{\"type\":\"value\",\"value\":0.2}}}}}],\"toolbar\":{\"type\":\"object\",\"name\":\"Toolbar\",\"id\":\"p1027\",\"attributes\":{\"tools\":[{\"type\":\"object\",\"name\":\"WheelZoomTool\",\"id\":\"p1016\",\"attributes\":{\"tags\":[\"hv_created\"],\"dimensions\":\"width\",\"renderers\":\"auto\",\"zoom_together\":\"none\"}},{\"type\":\"object\",\"name\":\"WheelZoomTool\",\"id\":\"p1017\",\"attributes\":{\"tags\":[\"hv_created\"],\"dimensions\":\"height\",\"renderers\":\"auto\",\"zoom_together\":\"none\"}},{\"type\":\"object\",\"name\":\"ResetTool\",\"id\":\"p1040\"},{\"type\":\"object\",\"name\":\"SaveTool\",\"id\":\"p1041\"},{\"type\":\"object\",\"name\":\"PanTool\",\"id\":\"p1042\"}],\"active_drag\":{\"id\":\"p1042\"},\"active_scroll\":{\"id\":\"p1016\"}}},\"left\":[{\"type\":\"object\",\"name\":\"LinearAxis\",\"id\":\"p1035\",\"attributes\":{\"visible\":false,\"ticker\":{\"type\":\"object\",\"name\":\"BasicTicker\",\"id\":\"p1036\",\"attributes\":{\"mantissas\":[1,2,5]}},\"formatter\":{\"type\":\"object\",\"name\":\"BasicTickFormatter\",\"id\":\"p1037\"},\"axis_label\":\"y0\",\"axis_label_text_font_size\":\"16.9px\",\"major_label_policy\":{\"type\":\"object\",\"name\":\"AllLabels\",\"id\":\"p1038\"},\"major_label_text_font_size\":\"14.3px\"}}],\"below\":[{\"type\":\"object\",\"name\":\"LinearAxis\",\"id\":\"p1030\",\"attributes\":{\"ticker\":{\"type\":\"object\",\"name\":\"BasicTicker\",\"id\":\"p1031\",\"attributes\":{\"mantissas\":[1,2,5]}},\"formatter\":{\"type\":\"object\",\"name\":\"BasicTickFormatter\",\"id\":\"p1032\",\"attributes\":{\"use_scientific\":false}},\"axis_label\":\"\",\"axis_label_text_font_size\":\"16.9px\",\"major_label_policy\":{\"type\":\"object\",\"name\":\"AllLabels\",\"id\":\"p1033\"},\"major_label_text_font_size\":\"14.3px\"}}],\"center\":[{\"type\":\"object\",\"name\":\"Grid\",\"id\":\"p1034\",\"attributes\":{\"axis\":{\"id\":\"p1030\"},\"grid_line_color\":null}},{\"type\":\"object\",\"name\":\"Grid\",\"id\":\"p1039\",\"attributes\":{\"dimension\":1,\"axis\":{\"id\":\"p1035\"},\"grid_line_color\":null}}],\"min_border_top\":10,\"min_border_bottom\":10,\"min_border_left\":10,\"min_border_right\":10,\"output_backend\":\"webgl\"}},{\"type\":\"object\",\"name\":\"Spacer\",\"id\":\"p1059\",\"attributes\":{\"name\":\"HSpacer00885\",\"stylesheets\":[\"\\n:host(.pn-loading.pn-arc):before, .pn-loading.pn-arc:before {\\n  background-image: url(\\\"data:image/svg+xml;base64,PHN2ZyB4bWxucz0iaHR0cDovL3d3dy53My5vcmcvMjAwMC9zdmciIHN0eWxlPSJtYXJnaW46IGF1dG87IGJhY2tncm91bmQ6IG5vbmU7IGRpc3BsYXk6IGJsb2NrOyBzaGFwZS1yZW5kZXJpbmc6IGF1dG87IiB2aWV3Qm94PSIwIDAgMTAwIDEwMCIgcHJlc2VydmVBc3BlY3RSYXRpbz0ieE1pZFlNaWQiPiAgPGNpcmNsZSBjeD0iNTAiIGN5PSI1MCIgZmlsbD0ibm9uZSIgc3Ryb2tlPSIjYzNjM2MzIiBzdHJva2Utd2lkdGg9IjEwIiByPSIzNSIgc3Ryb2tlLWRhc2hhcnJheT0iMTY0LjkzMzYxNDMxMzQ2NDE1IDU2Ljk3Nzg3MTQzNzgyMTM4Ij4gICAgPGFuaW1hdGVUcmFuc2Zvcm0gYXR0cmlidXRlTmFtZT0idHJhbnNmb3JtIiB0eXBlPSJyb3RhdGUiIHJlcGVhdENvdW50PSJpbmRlZmluaXRlIiBkdXI9IjFzIiB2YWx1ZXM9IjAgNTAgNTA7MzYwIDUwIDUwIiBrZXlUaW1lcz0iMDsxIj48L2FuaW1hdGVUcmFuc2Zvcm0+ICA8L2NpcmNsZT48L3N2Zz4=\\\");\\n  background-size: auto calc(min(50%, 400px));\\n}\",{\"id\":\"p1008\"},{\"id\":\"p1006\"},{\"id\":\"p1007\"}],\"margin\":0,\"sizing_mode\":\"stretch_width\",\"align\":\"start\"}}]}}],\"defs\":[{\"type\":\"model\",\"name\":\"ReactiveHTML1\"},{\"type\":\"model\",\"name\":\"FlexBox1\",\"properties\":[{\"name\":\"align_content\",\"kind\":\"Any\",\"default\":\"flex-start\"},{\"name\":\"align_items\",\"kind\":\"Any\",\"default\":\"flex-start\"},{\"name\":\"flex_direction\",\"kind\":\"Any\",\"default\":\"row\"},{\"name\":\"flex_wrap\",\"kind\":\"Any\",\"default\":\"wrap\"},{\"name\":\"justify_content\",\"kind\":\"Any\",\"default\":\"flex-start\"}]},{\"type\":\"model\",\"name\":\"FloatPanel1\",\"properties\":[{\"name\":\"config\",\"kind\":\"Any\",\"default\":{\"type\":\"map\"}},{\"name\":\"contained\",\"kind\":\"Any\",\"default\":true},{\"name\":\"position\",\"kind\":\"Any\",\"default\":\"right-top\"},{\"name\":\"offsetx\",\"kind\":\"Any\",\"default\":null},{\"name\":\"offsety\",\"kind\":\"Any\",\"default\":null},{\"name\":\"theme\",\"kind\":\"Any\",\"default\":\"primary\"},{\"name\":\"status\",\"kind\":\"Any\",\"default\":\"normalized\"}]},{\"type\":\"model\",\"name\":\"GridStack1\",\"properties\":[{\"name\":\"mode\",\"kind\":\"Any\",\"default\":\"warn\"},{\"name\":\"ncols\",\"kind\":\"Any\",\"default\":null},{\"name\":\"nrows\",\"kind\":\"Any\",\"default\":null},{\"name\":\"allow_resize\",\"kind\":\"Any\",\"default\":true},{\"name\":\"allow_drag\",\"kind\":\"Any\",\"default\":true},{\"name\":\"state\",\"kind\":\"Any\",\"default\":[]}]},{\"type\":\"model\",\"name\":\"drag1\",\"properties\":[{\"name\":\"slider_width\",\"kind\":\"Any\",\"default\":5},{\"name\":\"slider_color\",\"kind\":\"Any\",\"default\":\"black\"},{\"name\":\"value\",\"kind\":\"Any\",\"default\":50}]},{\"type\":\"model\",\"name\":\"click1\",\"properties\":[{\"name\":\"terminal_output\",\"kind\":\"Any\",\"default\":\"\"},{\"name\":\"debug_name\",\"kind\":\"Any\",\"default\":\"\"},{\"name\":\"clears\",\"kind\":\"Any\",\"default\":0}]},{\"type\":\"model\",\"name\":\"copy_to_clipboard1\",\"properties\":[{\"name\":\"fill\",\"kind\":\"Any\",\"default\":\"none\"},{\"name\":\"value\",\"kind\":\"Any\",\"default\":null}]},{\"type\":\"model\",\"name\":\"FastWrapper1\",\"properties\":[{\"name\":\"object\",\"kind\":\"Any\",\"default\":null},{\"name\":\"style\",\"kind\":\"Any\",\"default\":null}]},{\"type\":\"model\",\"name\":\"NotificationAreaBase1\",\"properties\":[{\"name\":\"js_events\",\"kind\":\"Any\",\"default\":{\"type\":\"map\"}},{\"name\":\"position\",\"kind\":\"Any\",\"default\":\"bottom-right\"},{\"name\":\"_clear\",\"kind\":\"Any\",\"default\":0}]},{\"type\":\"model\",\"name\":\"NotificationArea1\",\"properties\":[{\"name\":\"js_events\",\"kind\":\"Any\",\"default\":{\"type\":\"map\"}},{\"name\":\"notifications\",\"kind\":\"Any\",\"default\":[]},{\"name\":\"position\",\"kind\":\"Any\",\"default\":\"bottom-right\"},{\"name\":\"_clear\",\"kind\":\"Any\",\"default\":0},{\"name\":\"types\",\"kind\":\"Any\",\"default\":[{\"type\":\"map\",\"entries\":[[\"type\",\"warning\"],[\"background\",\"#ffc107\"],[\"icon\",{\"type\":\"map\",\"entries\":[[\"className\",\"fas fa-exclamation-triangle\"],[\"tagName\",\"i\"],[\"color\",\"white\"]]}]]},{\"type\":\"map\",\"entries\":[[\"type\",\"info\"],[\"background\",\"#007bff\"],[\"icon\",{\"type\":\"map\",\"entries\":[[\"className\",\"fas fa-info-circle\"],[\"tagName\",\"i\"],[\"color\",\"white\"]]}]]}]}]},{\"type\":\"model\",\"name\":\"Notification\",\"properties\":[{\"name\":\"background\",\"kind\":\"Any\",\"default\":null},{\"name\":\"duration\",\"kind\":\"Any\",\"default\":3000},{\"name\":\"icon\",\"kind\":\"Any\",\"default\":null},{\"name\":\"message\",\"kind\":\"Any\",\"default\":\"\"},{\"name\":\"notification_type\",\"kind\":\"Any\",\"default\":null},{\"name\":\"_destroyed\",\"kind\":\"Any\",\"default\":false}]},{\"type\":\"model\",\"name\":\"TemplateActions1\",\"properties\":[{\"name\":\"open_modal\",\"kind\":\"Any\",\"default\":0},{\"name\":\"close_modal\",\"kind\":\"Any\",\"default\":0}]},{\"type\":\"model\",\"name\":\"BootstrapTemplateActions1\",\"properties\":[{\"name\":\"open_modal\",\"kind\":\"Any\",\"default\":0},{\"name\":\"close_modal\",\"kind\":\"Any\",\"default\":0}]},{\"type\":\"model\",\"name\":\"MaterialTemplateActions1\",\"properties\":[{\"name\":\"open_modal\",\"kind\":\"Any\",\"default\":0},{\"name\":\"close_modal\",\"kind\":\"Any\",\"default\":0}]}]}};\n",
       "  var render_items = [{\"docid\":\"09b7fc06-8896-4c1d-832a-e12183b9efed\",\"roots\":{\"p1005\":\"d69a4532-9a61-4705-8aa8-d8207311d586\"},\"root_ids\":[\"p1005\"]}];\n",
       "  var docs = Object.values(docs_json)\n",
       "  if (!docs) {\n",
       "    return\n",
       "  }\n",
       "  const py_version = docs[0].version.replace('rc', '-rc.').replace('.dev', '-dev.')\n",
       "  function embed_document(root) {\n",
       "    var Bokeh = get_bokeh(root)\n",
       "    Bokeh.embed.embed_items_notebook(docs_json, render_items);\n",
       "    for (const render_item of render_items) {\n",
       "      for (const root_id of render_item.root_ids) {\n",
       "\tconst id_el = document.getElementById(root_id)\n",
       "\tif (id_el.children.length && (id_el.children[0].className === 'bk-root')) {\n",
       "\t  const root_el = id_el.children[0]\n",
       "\t  root_el.id = root_el.id + '-rendered'\n",
       "\t}\n",
       "      }\n",
       "    }\n",
       "  }\n",
       "  function get_bokeh(root) {\n",
       "    if (root.Bokeh === undefined) {\n",
       "      return null\n",
       "    } else if (root.Bokeh.version !== py_version) {\n",
       "      if (root.Bokeh.versions === undefined || !root.Bokeh.versions.has(py_version)) {\n",
       "\treturn null\n",
       "      }\n",
       "      return root.Bokeh.versions.get(py_version);\n",
       "    } else if (root.Bokeh.version === py_version) {\n",
       "      return root.Bokeh\n",
       "    }\n",
       "    return null\n",
       "  }\n",
       "  function is_loaded(root) {\n",
       "    var Bokeh = get_bokeh(root)\n",
       "    return (Bokeh != null && Bokeh.Panel !== undefined)\n",
       "  }\n",
       "  if (is_loaded(root)) {\n",
       "    embed_document(root);\n",
       "  } else {\n",
       "    var attempts = 0;\n",
       "    var timer = setInterval(function(root) {\n",
       "      if (is_loaded(root)) {\n",
       "        clearInterval(timer);\n",
       "        embed_document(root);\n",
       "      } else if (document.readyState == \"complete\") {\n",
       "        attempts++;\n",
       "        if (attempts > 200) {\n",
       "          clearInterval(timer);\n",
       "\t  var Bokeh = get_bokeh(root)\n",
       "\t  if (Bokeh == null || Bokeh.Panel == null) {\n",
       "            console.warn(\"Panel: ERROR: Unable to run Panel code because Bokeh or Panel library is missing\");\n",
       "\t  } else {\n",
       "\t    console.warn(\"Panel: WARNING: Attempting to render but not all required libraries could be resolved.\")\n",
       "\t    embed_document(root)\n",
       "\t  }\n",
       "        }\n",
       "      }\n",
       "    }, 25, root)\n",
       "  }\n",
       "})(window);</script>"
      ],
      "text/plain": [
       ":Rectangles   [x0,y0,x1,y1]   (element_type)"
      ]
     },
     "execution_count": 7,
     "metadata": {
      "application/vnd.holoviews_exec.v0+json": {
       "id": "p1005"
      }
     },
     "output_type": "execute_result"
    }
   ],
   "source": [
    "s.show('chr15:23960193-23963918')"
   ]
  },
  {
   "cell_type": "code",
   "execution_count": 8,
   "metadata": {},
   "outputs": [
    {
     "name": "stdout",
     "output_type": "stream",
     "text": [
      "chr15_23960193_23963918.parquet\n"
     ]
    },
    {
     "ename": "TypeError",
     "evalue": "polygons() got multiple values for argument 'agg'",
     "output_type": "error",
     "traceback": [
      "\u001b[0;31m---------------------------------------------------------------------------\u001b[0m",
      "\u001b[0;31mTypeError\u001b[0m                                 Traceback (most recent call last)",
      "\u001b[1;32m/Users/kiran/repositories/genomeshader/playground.ipynb Cell 8\u001b[0m line \u001b[0;36m1\n\u001b[0;32m----> <a href='vscode-notebook-cell:/Users/kiran/repositories/genomeshader/playground.ipynb#X25sZmlsZQ%3D%3D?line=0'>1</a>\u001b[0m s\u001b[39m.\u001b[39;49mshow_polygons(\u001b[39m'\u001b[39;49m\u001b[39mchr15:23960193-23963918\u001b[39;49m\u001b[39m'\u001b[39;49m)\n",
      "File \u001b[0;32m~/repositories/genomeshader/python/genomeshader/view.py:249\u001b[0m, in \u001b[0;36mGenomeShader.show_polygons\u001b[0;34m(self, locus, width, height, collapse)\u001b[0m\n\u001b[1;32m    244\u001b[0m df \u001b[39m=\u001b[39m df\u001b[39m.\u001b[39mwith_columns(\n\u001b[1;32m    245\u001b[0m     pl\u001b[39m.\u001b[39mcol(\u001b[39m\"\u001b[39m\u001b[39mread_num\u001b[39m\u001b[39m\"\u001b[39m)\u001b[39m.\u001b[39malias(\u001b[39m\"\u001b[39m\u001b[39my1\u001b[39m\u001b[39m\"\u001b[39m) \u001b[39m*\u001b[39m \u001b[39m-\u001b[39m\u001b[39m1\u001b[39m \u001b[39m+\u001b[39m pl\u001b[39m.\u001b[39mcol(\u001b[39m\"\u001b[39m\u001b[39mheight\u001b[39m\u001b[39m\"\u001b[39m) \u001b[39m/\u001b[39m \u001b[39m2\u001b[39m\n\u001b[1;32m    246\u001b[0m )\n\u001b[1;32m    248\u001b[0m cvs \u001b[39m=\u001b[39m ds\u001b[39m.\u001b[39mCanvas(plot_width\u001b[39m=\u001b[39mwidth, plot_height\u001b[39m=\u001b[39mheight)\n\u001b[0;32m--> 249\u001b[0m agg \u001b[39m=\u001b[39m cvs\u001b[39m.\u001b[39;49mpolygons(df, \u001b[39m'\u001b[39;49m\u001b[39mreference_start\u001b[39;49m\u001b[39m'\u001b[39;49m, [\u001b[39m'\u001b[39;49m\u001b[39my0\u001b[39;49m\u001b[39m'\u001b[39;49m, \u001b[39m'\u001b[39;49m\u001b[39my1\u001b[39;49m\u001b[39m'\u001b[39;49m], agg\u001b[39m=\u001b[39;49mds\u001b[39m.\u001b[39;49mcount())\n\u001b[1;32m    250\u001b[0m img \u001b[39m=\u001b[39m tf\u001b[39m.\u001b[39mshade(agg)\n\u001b[1;32m    252\u001b[0m \u001b[39mreturn\u001b[39;00m img\n",
      "\u001b[0;31mTypeError\u001b[0m: polygons() got multiple values for argument 'agg'"
     ]
    }
   ],
   "source": [
    "s.show_polygons('chr15:23960193-23963918')"
   ]
  },
  {
   "cell_type": "code",
   "execution_count": null,
   "metadata": {},
   "outputs": [
    {
     "data": {
      "text/html": [
       "<div><style>\n",
       ".dataframe > thead > tr,\n",
       ".dataframe > tbody > tr {\n",
       "  text-align: right;\n",
       "  white-space: pre-wrap;\n",
       "}\n",
       "</style>\n",
       "<small>shape: (343, 10)</small><table border=\"1\" class=\"dataframe\"><thead><tr><th>reference_contig</th><th>reference_start</th><th>reference_end</th><th>is_forward</th><th>query_name</th><th>read_group</th><th>sample_name</th><th>element_type</th><th>sequence</th><th>column_width</th></tr><tr><td>str</td><td>u32</td><td>u32</td><td>bool</td><td>str</td><td>str</td><td>str</td><td>u8</td><td>str</td><td>u32</td></tr></thead><tbody><tr><td>&quot;chr15&quot;</td><td>23941696</td><td>23960621</td><td>true</td><td>&quot;m84175_231021_…</td><td>&quot;0a758968/17--1…</td><td>&quot;CP-102020-50&quot;</td><td>0</td><td>&quot;&quot;</td><td>1</td></tr><tr><td>&quot;chr15&quot;</td><td>23941755</td><td>23941756</td><td>true</td><td>&quot;m84175_231021_…</td><td>&quot;0a758968/17--1…</td><td>&quot;CP-102020-50&quot;</td><td>2</td><td>&quot;T&quot;</td><td>1</td></tr><tr><td>&quot;chr15&quot;</td><td>23941807</td><td>23941808</td><td>true</td><td>&quot;m84175_231021_…</td><td>&quot;0a758968/17--1…</td><td>&quot;CP-102020-50&quot;</td><td>2</td><td>&quot;G&quot;</td><td>1</td></tr><tr><td>&quot;chr15&quot;</td><td>23942168</td><td>23942169</td><td>true</td><td>&quot;m84175_231021_…</td><td>&quot;0a758968/17--1…</td><td>&quot;CP-102020-50&quot;</td><td>2</td><td>&quot;T&quot;</td><td>1</td></tr><tr><td>&quot;chr15&quot;</td><td>23942237</td><td>23942238</td><td>true</td><td>&quot;m84175_231021_…</td><td>&quot;0a758968/17--1…</td><td>&quot;CP-102020-50&quot;</td><td>3</td><td>&quot;&quot;</td><td>1</td></tr><tr><td>&quot;chr15&quot;</td><td>23942383</td><td>23942384</td><td>true</td><td>&quot;m84175_231021_…</td><td>&quot;0a758968/17--1…</td><td>&quot;CP-102020-50&quot;</td><td>1</td><td>&quot;T&quot;</td><td>1</td></tr><tr><td>&quot;chr15&quot;</td><td>23942619</td><td>23942620</td><td>true</td><td>&quot;m84175_231021_…</td><td>&quot;0a758968/17--1…</td><td>&quot;CP-102020-50&quot;</td><td>1</td><td>&quot;T&quot;</td><td>1</td></tr><tr><td>&quot;chr15&quot;</td><td>23943295</td><td>23943296</td><td>true</td><td>&quot;m84175_231021_…</td><td>&quot;0a758968/17--1…</td><td>&quot;CP-102020-50&quot;</td><td>3</td><td>&quot;&quot;</td><td>1</td></tr><tr><td>&quot;chr15&quot;</td><td>23943300</td><td>23943301</td><td>true</td><td>&quot;m84175_231021_…</td><td>&quot;0a758968/17--1…</td><td>&quot;CP-102020-50&quot;</td><td>1</td><td>&quot;T&quot;</td><td>1</td></tr><tr><td>&quot;chr15&quot;</td><td>23943592</td><td>23943593</td><td>true</td><td>&quot;m84175_231021_…</td><td>&quot;0a758968/17--1…</td><td>&quot;CP-102020-50&quot;</td><td>2</td><td>&quot;A&quot;</td><td>1</td></tr><tr><td>&quot;chr15&quot;</td><td>23943733</td><td>23943734</td><td>true</td><td>&quot;m84175_231021_…</td><td>&quot;0a758968/17--1…</td><td>&quot;CP-102020-50&quot;</td><td>2</td><td>&quot;C&quot;</td><td>1</td></tr><tr><td>&quot;chr15&quot;</td><td>23943769</td><td>23943770</td><td>true</td><td>&quot;m84175_231021_…</td><td>&quot;0a758968/17--1…</td><td>&quot;CP-102020-50&quot;</td><td>2</td><td>&quot;T&quot;</td><td>1</td></tr><tr><td>&hellip;</td><td>&hellip;</td><td>&hellip;</td><td>&hellip;</td><td>&hellip;</td><td>&hellip;</td><td>&hellip;</td><td>&hellip;</td><td>&hellip;</td><td>&hellip;</td></tr><tr><td>&quot;chr15&quot;</td><td>23974554</td><td>23974555</td><td>true</td><td>&quot;m84175_231021_…</td><td>&quot;0a758968/17--1…</td><td>&quot;CP-102020-50&quot;</td><td>1</td><td>&quot;C&quot;</td><td>1</td></tr><tr><td>&quot;chr15&quot;</td><td>23974655</td><td>23974656</td><td>true</td><td>&quot;m84175_231021_…</td><td>&quot;0a758968/17--1…</td><td>&quot;CP-102020-50&quot;</td><td>1</td><td>&quot;C&quot;</td><td>1</td></tr><tr><td>&quot;chr15&quot;</td><td>23974726</td><td>23974727</td><td>true</td><td>&quot;m84175_231021_…</td><td>&quot;0a758968/17--1…</td><td>&quot;CP-102020-50&quot;</td><td>1</td><td>&quot;C&quot;</td><td>1</td></tr><tr><td>&quot;chr15&quot;</td><td>23975068</td><td>23975069</td><td>true</td><td>&quot;m84175_231021_…</td><td>&quot;0a758968/17--1…</td><td>&quot;CP-102020-50&quot;</td><td>3</td><td>&quot;&quot;</td><td>1</td></tr><tr><td>&quot;chr15&quot;</td><td>23975368</td><td>23975369</td><td>true</td><td>&quot;m84175_231021_…</td><td>&quot;0a758968/17--1…</td><td>&quot;CP-102020-50&quot;</td><td>1</td><td>&quot;C&quot;</td><td>1</td></tr><tr><td>&quot;chr15&quot;</td><td>23975420</td><td>23975421</td><td>true</td><td>&quot;m84175_231021_…</td><td>&quot;0a758968/17--1…</td><td>&quot;CP-102020-50&quot;</td><td>1</td><td>&quot;G&quot;</td><td>1</td></tr><tr><td>&quot;chr15&quot;</td><td>23975671</td><td>23975672</td><td>true</td><td>&quot;m84175_231021_…</td><td>&quot;0a758968/17--1…</td><td>&quot;CP-102020-50&quot;</td><td>1</td><td>&quot;G&quot;</td><td>1</td></tr><tr><td>&quot;chr15&quot;</td><td>23975679</td><td>23975680</td><td>true</td><td>&quot;m84175_231021_…</td><td>&quot;0a758968/17--1…</td><td>&quot;CP-102020-50&quot;</td><td>1</td><td>&quot;A&quot;</td><td>1</td></tr><tr><td>&quot;chr15&quot;</td><td>23975939</td><td>23975940</td><td>true</td><td>&quot;m84175_231021_…</td><td>&quot;0a758968/17--1…</td><td>&quot;CP-102020-50&quot;</td><td>1</td><td>&quot;C&quot;</td><td>1</td></tr><tr><td>&quot;chr15&quot;</td><td>23976000</td><td>23976001</td><td>true</td><td>&quot;m84175_231021_…</td><td>&quot;0a758968/17--1…</td><td>&quot;CP-102020-50&quot;</td><td>1</td><td>&quot;A&quot;</td><td>1</td></tr><tr><td>&quot;chr15&quot;</td><td>23976004</td><td>23976005</td><td>true</td><td>&quot;m84175_231021_…</td><td>&quot;0a758968/17--1…</td><td>&quot;CP-102020-50&quot;</td><td>1</td><td>&quot;A&quot;</td><td>1</td></tr><tr><td>&quot;chr15&quot;</td><td>23976030</td><td>23976031</td><td>true</td><td>&quot;m84175_231021_…</td><td>&quot;0a758968/17--1…</td><td>&quot;CP-102020-50&quot;</td><td>1</td><td>&quot;T&quot;</td><td>1</td></tr></tbody></table></div>"
      ],
      "text/plain": [
       "shape: (343, 10)\n",
       "┌───────────┬───────────┬───────────┬───────────┬───┬───────────┬───────────┬──────────┬───────────┐\n",
       "│ reference ┆ reference ┆ reference ┆ is_forwar ┆ … ┆ sample_na ┆ element_t ┆ sequence ┆ column_wi │\n",
       "│ _contig   ┆ _start    ┆ _end      ┆ d         ┆   ┆ me        ┆ ype       ┆ ---      ┆ dth       │\n",
       "│ ---       ┆ ---       ┆ ---       ┆ ---       ┆   ┆ ---       ┆ ---       ┆ str      ┆ ---       │\n",
       "│ str       ┆ u32       ┆ u32       ┆ bool      ┆   ┆ str       ┆ u8        ┆          ┆ u32       │\n",
       "╞═══════════╪═══════════╪═══════════╪═══════════╪═══╪═══════════╪═══════════╪══════════╪═══════════╡\n",
       "│ chr15     ┆ 23941696  ┆ 23960621  ┆ true      ┆ … ┆ CP-102020 ┆ 0         ┆          ┆ 1         │\n",
       "│           ┆           ┆           ┆           ┆   ┆ -50       ┆           ┆          ┆           │\n",
       "│ chr15     ┆ 23941755  ┆ 23941756  ┆ true      ┆ … ┆ CP-102020 ┆ 2         ┆ T        ┆ 1         │\n",
       "│           ┆           ┆           ┆           ┆   ┆ -50       ┆           ┆          ┆           │\n",
       "│ chr15     ┆ 23941807  ┆ 23941808  ┆ true      ┆ … ┆ CP-102020 ┆ 2         ┆ G        ┆ 1         │\n",
       "│           ┆           ┆           ┆           ┆   ┆ -50       ┆           ┆          ┆           │\n",
       "│ chr15     ┆ 23942168  ┆ 23942169  ┆ true      ┆ … ┆ CP-102020 ┆ 2         ┆ T        ┆ 1         │\n",
       "│           ┆           ┆           ┆           ┆   ┆ -50       ┆           ┆          ┆           │\n",
       "│ …         ┆ …         ┆ …         ┆ …         ┆ … ┆ …         ┆ …         ┆ …        ┆ …         │\n",
       "│ chr15     ┆ 23975939  ┆ 23975940  ┆ true      ┆ … ┆ CP-102020 ┆ 1         ┆ C        ┆ 1         │\n",
       "│           ┆           ┆           ┆           ┆   ┆ -50       ┆           ┆          ┆           │\n",
       "│ chr15     ┆ 23976000  ┆ 23976001  ┆ true      ┆ … ┆ CP-102020 ┆ 1         ┆ A        ┆ 1         │\n",
       "│           ┆           ┆           ┆           ┆   ┆ -50       ┆           ┆          ┆           │\n",
       "│ chr15     ┆ 23976004  ┆ 23976005  ┆ true      ┆ … ┆ CP-102020 ┆ 1         ┆ A        ┆ 1         │\n",
       "│           ┆           ┆           ┆           ┆   ┆ -50       ┆           ┆          ┆           │\n",
       "│ chr15     ┆ 23976030  ┆ 23976031  ┆ true      ┆ … ┆ CP-102020 ┆ 1         ┆ T        ┆ 1         │\n",
       "│           ┆           ┆           ┆           ┆   ┆ -50       ┆           ┆          ┆           │\n",
       "└───────────┴───────────┴───────────┴───────────┴───┴───────────┴───────────┴──────────┴───────────┘"
      ]
     },
     "execution_count": 11,
     "metadata": {},
     "output_type": "execute_result"
    }
   ],
   "source": [
    "import polars as pl\n",
    "df = pl.read_parquet('/var/folders/3b/jc95zqdn22jfb2lnfy4k_p580000gn/T/chr15_23960193_23963918.parquet')\n",
    "df"
   ]
  },
  {
   "cell_type": "code",
   "execution_count": null,
   "metadata": {},
   "outputs": [],
   "source": [
    "# s.attach_bams([\n",
    "#     'gs://fc-8c3900db-633f-477f-96b3-fb31ae265c44/results/PBFlowcell/m84060_230907_210011_s2/reads/ccs/aligned/m84060_230907_210011_s2.bam',\n",
    "#     'gs://fc-8c3900db-633f-477f-96b3-fb31ae265c44/results/PBFlowcell/m84043_230901_211947_s1/reads/ccs/aligned/m84043_230901_211947_s1.bam',\n",
    "#     'gs://fc-8c3900db-633f-477f-96b3-fb31ae265c44/results/PBFlowcell/m84043_230906_201655_s1/reads/ccs/aligned/m84043_230906_201655_s1.bam',\n",
    "#     'gs://fc-8c3900db-633f-477f-96b3-fb31ae265c44/results/PBFlowcell/m84060_230911_201403_s4/reads/ccs/aligned/m84060_230911_201403_s4.bam',\n",
    "#     'gs://fc-8c3900db-633f-477f-96b3-fb31ae265c44/results/PBFlowcell/m84056_230829_203026_s1/reads/ccs/aligned/m84056_230829_203026_s1.bam',\n",
    "#     'gs://fc-8c3900db-633f-477f-96b3-fb31ae265c44/results/PBFlowcell/m84043_230907_202641_s1/reads/ccs/aligned/m84043_230907_202641_s1.bam',\n",
    "#     'gs://fc-8c3900db-633f-477f-96b3-fb31ae265c44/results/PBFlowcell/m84056_230906_212009_s3/reads/ccs/aligned/m84056_230906_212009_s3.bam',\n",
    "#     'gs://fc-8c3900db-633f-477f-96b3-fb31ae265c44/results/PBFlowcell/m84063_230911_193237_s1/reads/ccs/aligned/m84063_230911_193237_s1.bam',\n",
    "#     'gs://fc-8c3900db-633f-477f-96b3-fb31ae265c44/results/PBFlowcell/m84056_230907_213037_s3/reads/ccs/aligned/m84056_230907_213037_s3.bam',\n",
    "#     'gs://fc-8c3900db-633f-477f-96b3-fb31ae265c44/results/PBFlowcell/m84060_230907_213117_s3/reads/ccs/aligned/m84060_230907_213117_s3.bam',\n",
    "#     'gs://fc-8c3900db-633f-477f-96b3-fb31ae265c44/results/PBFlowcell/m84056_230911_184019_s1/reads/ccs/aligned/m84056_230911_184019_s1.bam',\n",
    "#     'gs://fc-8c3900db-633f-477f-96b3-fb31ae265c44/results/PBFlowcell/m84060_230829_210144_s2/reads/ccs/aligned/m84060_230829_210144_s2.bam',\n",
    "#     'gs://fc-8c3900db-633f-477f-96b3-fb31ae265c44/results/PBFlowcell/m84056_230906_201842_s1/reads/ccs/aligned/m84056_230906_201842_s1.bam',\n",
    "#     'gs://fc-8c3900db-633f-477f-96b3-fb31ae265c44/results/PBFlowcell/m84060_230829_220357_s4/reads/ccs/aligned/m84060_230829_220357_s4.bam',\n",
    "#     'gs://fc-8c3900db-633f-477f-96b3-fb31ae265c44/results/PBFlowcell/m84056_230909_164146_s1/reads/ccs/aligned/m84056_230909_164146_s1.bam',\n",
    "#     'gs://fc-8c3900db-633f-477f-96b3-fb31ae265c44/results/PBFlowcell/m84056_230828_202039_s1/reads/ccs/aligned/m84056_230828_202039_s1.bam',\n",
    "#     'gs://fc-8c3900db-633f-477f-96b3-fb31ae265c44/results/PBFlowcell/m84056_230829_220344_s4/reads/ccs/aligned/m84056_230829_220344_s4.bam',\n",
    "#     'gs://fc-8c3900db-633f-477f-96b3-fb31ae265c44/results/PBFlowcell/m84063_230906_215238_s3/reads/ccs/aligned/m84063_230906_215238_s3.bam',\n",
    "#     'gs://fc-8c3900db-633f-477f-96b3-fb31ae265c44/results/PBFlowcell/m84043_230907_212853_s3/reads/ccs/aligned/m84043_230907_212853_s3.bam',\n",
    "#     'gs://fc-8c3900db-633f-477f-96b3-fb31ae265c44/results/PBFlowcell/m84063_230909_174409_s2/reads/ccs/aligned/m84063_230909_174409_s2.bam',\n",
    "#     'gs://fc-8c3900db-633f-477f-96b3-fb31ae265c44/results/PBFlowcell/m84060_230909_174319_s3/reads/ccs/aligned/m84060_230909_174319_s3.bam',\n",
    "#     'gs://fc-8c3900db-633f-477f-96b3-fb31ae265c44/results/PBFlowcell/m84063_230909_164235_s4/reads/ccs/aligned/m84063_230909_164235_s4.bam',\n",
    "#     'gs://fc-8c3900db-633f-477f-96b3-fb31ae265c44/results/PBFlowcell/m84063_230909_181515_s3/reads/ccs/aligned/m84063_230909_181515_s3.bam',\n",
    "#     'gs://fc-8c3900db-633f-477f-96b3-fb31ae265c44/results/PBFlowcell/m84063_230907_210055_s1/reads/ccs/aligned/m84063_230907_210055_s1.bam',\n",
    "#     'gs://fc-8c3900db-633f-477f-96b3-fb31ae265c44/results/PBFlowcell/m84056_230907_202825_s1/reads/ccs/aligned/m84056_230907_202825_s1.bam',\n",
    "#     'gs://fc-8c3900db-633f-477f-96b3-fb31ae265c44/results/PBFlowcell/m84043_230911_191037_s2/reads/ccs/aligned/m84043_230911_191037_s2.bam',\n",
    "#     'gs://fc-8c3900db-633f-477f-96b3-fb31ae265c44/results/PBFlowcell/m84060_230911_194257_s3/reads/ccs/aligned/m84060_230911_194257_s3.bam',\n",
    "#     'gs://fc-8c3900db-633f-477f-96b3-fb31ae265c44/results/PBFlowcell/m84056_230828_205059_s2/reads/ccs/aligned/m84056_230828_205059_s2.bam',\n",
    "#     'gs://fc-8c3900db-633f-477f-96b3-fb31ae265c44/results/PBFlowcell/m84060_230911_184131_s1/reads/ccs/aligned/m84060_230911_184131_s1.bam',\n",
    "#     'gs://fc-8c3900db-633f-477f-96b3-fb31ae265c44/results/PBFlowcell/m84060_230906_201922_s1/reads/ccs/aligned/m84060_230906_201922_s1.bam',\n",
    "#     'gs://fc-8c3900db-633f-477f-96b3-fb31ae265c44/results/PBFlowcell/m84060_230907_220223_s4/reads/ccs/aligned/m84060_230907_220223_s4.bam',\n",
    "#     'gs://fc-8c3900db-633f-477f-96b3-fb31ae265c44/results/PBFlowcell/m84056_230909_174313_s3/reads/ccs/aligned/m84056_230909_174313_s3.bam',\n",
    "#     'gs://fc-8c3900db-633f-477f-96b3-fb31ae265c44/results/PBFlowcell/m84056_230828_215311_s4/reads/ccs/aligned/m84056_230828_215311_s4.bam',\n",
    "#     'gs://fc-8c3900db-633f-477f-96b3-fb31ae265c44/results/PBFlowcell/m84043_230901_215053_s2/reads/ccs/aligned/m84043_230901_215053_s2.bam',\n",
    "#     'gs://fc-8c3900db-633f-477f-96b3-fb31ae265c44/results/PBFlowcell/m84056_230906_204902_s2/reads/ccs/aligned/m84056_230906_204902_s2.bam',\n",
    "#     'gs://fc-8c3900db-633f-477f-96b3-fb31ae265c44/results/PBFlowcell/m84060_230909_171213_s2/reads/ccs/aligned/m84060_230909_171213_s2.bam',\n",
    "#     'gs://fc-8c3900db-633f-477f-96b3-fb31ae265c44/results/PBFlowcell/m84043_230906_204717_s2/reads/ccs/aligned/m84043_230906_204717_s2.bam',\n",
    "#     'gs://fc-8c3900db-633f-477f-96b3-fb31ae265c44/results/PBFlowcell/m84060_230909_164149_s1/reads/ccs/aligned/m84060_230909_164149_s1.bam',\n",
    "#     'gs://fc-8c3900db-633f-477f-96b3-fb31ae265c44/results/PBFlowcell/m84063_230906_212132_s2/reads/ccs/aligned/m84063_230906_212132_s2.bam',\n",
    "#     'gs://fc-8c3900db-633f-477f-96b3-fb31ae265c44/results/PBFlowcell/m84060_230828_202101_s1/reads/ccs/aligned/m84060_230828_202101_s1.bam',\n",
    "#     'gs://fc-8c3900db-633f-477f-96b3-fb31ae265c44/results/PBFlowcell/m84063_230906_205026_s1/reads/ccs/aligned/m84063_230906_205026_s1.bam',\n",
    "#     'gs://fc-8c3900db-633f-477f-96b3-fb31ae265c44/results/PBFlowcell/m84056_230906_215115_s4/reads/ccs/aligned/m84056_230906_215115_s4.bam',\n",
    "#     'gs://fc-8c3900db-633f-477f-96b3-fb31ae265c44/results/PBFlowcell/m84063_230911_200343_s2/reads/ccs/aligned/m84063_230911_200343_s2.bam',\n",
    "#     'gs://fc-8c3900db-633f-477f-96b3-fb31ae265c44/results/PBFlowcell/m84056_230907_220143_s4/reads/ccs/aligned/m84056_230907_220143_s4.bam',\n",
    "#     'gs://fc-8c3900db-633f-477f-96b3-fb31ae265c44/results/PBFlowcell/m84043_230907_215959_s4/reads/ccs/aligned/m84043_230907_215959_s4.bam',\n",
    "#     'gs://fc-8c3900db-633f-477f-96b3-fb31ae265c44/results/PBFlowcell/m84043_230911_201249_s4/reads/ccs/aligned/m84043_230911_201249_s4.bam',\n",
    "#     'gs://fc-8c3900db-633f-477f-96b3-fb31ae265c44/results/PBFlowcell/m84063_230907_202949_s4/reads/ccs/aligned/m84063_230907_202949_s4.bam',\n",
    "#     'gs://fc-8c3900db-633f-477f-96b3-fb31ae265c44/results/PBFlowcell/m84056_230911_194146_s3/reads/ccs/aligned/m84056_230911_194146_s3.bam',\n",
    "#     'gs://fc-8c3900db-633f-477f-96b3-fb31ae265c44/results/PBFlowcell/m84056_230829_210132_s2/reads/ccs/aligned/m84056_230829_210132_s2.bam',\n",
    "#     'gs://fc-8c3900db-633f-477f-96b3-fb31ae265c44/results/PBFlowcell/m84063_230911_190209_s4/reads/ccs/aligned/m84063_230911_190209_s4.bam',\n",
    "#     'gs://fc-8c3900db-633f-477f-96b3-fb31ae265c44/results/PBFlowcell/m84060_230906_215200_s4/reads/ccs/aligned/m84060_230906_215200_s4.bam',\n",
    "#     'gs://fc-8c3900db-633f-477f-96b3-fb31ae265c44/results/PBFlowcell/m84063_230909_171303_s1/reads/ccs/aligned/m84063_230909_171303_s1.bam',\n",
    "#     'gs://fc-8c3900db-633f-477f-96b3-fb31ae265c44/results/PBFlowcell/m84063_230907_220307_s3/reads/ccs/aligned/m84063_230907_220307_s3.bam',\n",
    "#     'gs://fc-8c3900db-633f-477f-96b3-fb31ae265c44/results/PBFlowcell/m84056_230911_191040_s2/reads/ccs/aligned/m84056_230911_191040_s2.bam',\n",
    "#     'gs://fc-8c3900db-633f-477f-96b3-fb31ae265c44/results/PBFlowcell/m84060_230906_212054_s3/reads/ccs/aligned/m84060_230906_212054_s3.bam',\n",
    "#     'gs://fc-8c3900db-633f-477f-96b3-fb31ae265c44/results/PBFlowcell/m84060_230907_202905_s1/reads/ccs/aligned/m84060_230907_202905_s1.bam',\n",
    "#     'gs://fc-8c3900db-633f-477f-96b3-fb31ae265c44/results/PBFlowcell/m84060_230829_203038_s1/reads/ccs/aligned/m84060_230829_203038_s1.bam',\n",
    "#     'gs://fc-8c3900db-633f-477f-96b3-fb31ae265c44/results/PBFlowcell/m84056_230829_213238_s3/reads/ccs/aligned/m84056_230829_213238_s3.bam',\n",
    "#     'gs://fc-8c3900db-633f-477f-96b3-fb31ae265c44/results/PBFlowcell/m84060_230828_205127_s2/reads/ccs/aligned/m84060_230828_205127_s2.bam',\n",
    "#     'gs://fc-8c3900db-633f-477f-96b3-fb31ae265c44/results/PBFlowcell/m84056_230909_171207_s2/reads/ccs/aligned/m84056_230909_171207_s2.bam',\n",
    "#     'gs://fc-8c3900db-633f-477f-96b3-fb31ae265c44/results/PBFlowcell/m84063_230906_201957_s4/reads/ccs/aligned/m84063_230906_201957_s4.bam',\n",
    "#     'gs://fc-8c3900db-633f-477f-96b3-fb31ae265c44/results/PBFlowcell/m84060_230828_212233_s3/reads/ccs/aligned/m84060_230828_212233_s3.bam',\n",
    "#     'gs://fc-8c3900db-633f-477f-96b3-fb31ae265c44/results/PBFlowcell/m84060_230829_213250_s3/reads/ccs/aligned/m84060_230829_213250_s3.bam',\n",
    "#     'gs://fc-8c3900db-633f-477f-96b3-fb31ae265c44/results/PBFlowcell/m84056_230909_181419_s4/reads/ccs/aligned/m84056_230909_181419_s4.bam',\n",
    "#     'gs://fc-8c3900db-633f-477f-96b3-fb31ae265c44/results/PBFlowcell/m84043_230901_222159_s3/reads/ccs/aligned/m84043_230901_222159_s3.bam',\n",
    "#     'gs://fc-8c3900db-633f-477f-96b3-fb31ae265c44/results/PBFlowcell/m84056_230911_201252_s4/reads/ccs/aligned/m84056_230911_201252_s4.bam',\n",
    "#     'gs://fc-8c3900db-633f-477f-96b3-fb31ae265c44/results/PBFlowcell/m84060_230911_191151_s2/reads/ccs/aligned/m84060_230911_191151_s2.bam',\n",
    "#     'gs://fc-8c3900db-633f-477f-96b3-fb31ae265c44/results/PBFlowcell/m84043_230901_225305_s4/reads/ccs/aligned/m84043_230901_225305_s4.bam',\n",
    "#     'gs://fc-8c3900db-633f-477f-96b3-fb31ae265c44/results/PBFlowcell/m84063_230911_203449_s3/reads/ccs/aligned/m84063_230911_203449_s3.bam',\n",
    "#     'gs://fc-8c3900db-633f-477f-96b3-fb31ae265c44/results/PBFlowcell/m84063_230907_213201_s2/reads/ccs/aligned/m84063_230907_213201_s2.bam',\n",
    "#     'gs://fc-8c3900db-633f-477f-96b3-fb31ae265c44/results/PBFlowcell/m84056_230907_205931_s2/reads/ccs/aligned/m84056_230907_205931_s2.bam',\n",
    "#     'gs://fc-8c3900db-633f-477f-96b3-fb31ae265c44/results/PBFlowcell/m84060_230828_215339_s4/reads/ccs/aligned/m84060_230828_215339_s4.bam',\n",
    "#     'gs://fc-8c3900db-633f-477f-96b3-fb31ae265c44/results/PBFlowcell/m84043_230911_184014_s1/reads/ccs/aligned/m84043_230911_184014_s1.bam',\n",
    "#     'gs://fc-8c3900db-633f-477f-96b3-fb31ae265c44/results/PBFlowcell/m84056_230828_212205_s3/reads/ccs/aligned/m84056_230828_212205_s3.bam',\n",
    "#     'gs://fc-8c3900db-633f-477f-96b3-fb31ae265c44/results/PBFlowcell/m84043_230907_205747_s2/reads/ccs/aligned/m84043_230907_205747_s2.bam',\n",
    "#     'gs://fc-8c3900db-633f-477f-96b3-fb31ae265c44/results/PBFlowcell/m84043_230906_214929_s4/reads/ccs/aligned/m84043_230906_214929_s4.bam',\n",
    "#     'gs://fc-8c3900db-633f-477f-96b3-fb31ae265c44/results/PBFlowcell/m84060_230906_204947_s2/reads/ccs/aligned/m84060_230906_204947_s2.bam',\n",
    "#     'gs://fc-8c3900db-633f-477f-96b3-fb31ae265c44/results/PBFlowcell/m84043_230911_194143_s3/reads/ccs/aligned/m84043_230911_194143_s3.bam',\n",
    "#     'gs://fc-8c3900db-633f-477f-96b3-fb31ae265c44/results/PBFlowcell/m84060_230909_181425_s4/reads/ccs/aligned/m84060_230909_181425_s4.bam',\n",
    "# ])"
   ]
  }
 ],
 "metadata": {
  "kernelspec": {
   "display_name": "Python 3 (ipykernel)",
   "language": "python",
   "name": "python3"
  },
  "language_info": {
   "codemirror_mode": {
    "name": "ipython",
    "version": 3
   },
   "file_extension": ".py",
   "mimetype": "text/x-python",
   "name": "python",
   "nbconvert_exporter": "python",
   "pygments_lexer": "ipython3",
   "version": "3.9.9"
  }
 },
 "nbformat": 4,
 "nbformat_minor": 2
}
