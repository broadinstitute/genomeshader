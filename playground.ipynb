{
 "cells": [
  {
   "cell_type": "code",
   "execution_count": 1,
   "metadata": {},
   "outputs": [
    {
     "name": "stdout",
     "output_type": "stream",
     "text": [
      "Requirement already up-to-date: pygfx in ./venv/lib/python3.7/site-packages (0.1.12)\n",
      "Requirement already satisfied, skipping upgrade: uharfbuzz in ./venv/lib/python3.7/site-packages (from pygfx) (0.38.0)\n",
      "Requirement already satisfied, skipping upgrade: Jinja2 in ./venv/lib/python3.7/site-packages (from pygfx) (3.1.2)\n",
      "Requirement already satisfied, skipping upgrade: numpy in ./venv/lib/python3.7/site-packages (from pygfx) (1.21.6)\n",
      "Requirement already satisfied, skipping upgrade: wgpu<0.10.0,>=0.9.4 in ./venv/lib/python3.7/site-packages (from pygfx) (0.9.5)\n",
      "Requirement already satisfied, skipping upgrade: freetype-py in ./venv/lib/python3.7/site-packages (from pygfx) (2.4.0)\n",
      "Requirement already satisfied, skipping upgrade: MarkupSafe>=2.0 in ./venv/lib/python3.7/site-packages (from Jinja2->pygfx) (2.1.3)\n",
      "Requirement already satisfied, skipping upgrade: rubicon-objc>=0.4.1; sys_platform == \"darwin\" in ./venv/lib/python3.7/site-packages (from wgpu<0.10.0,>=0.9.4->pygfx) (0.4.6)\n",
      "Requirement already satisfied, skipping upgrade: cffi>=1.15.0rc2 in ./venv/lib/python3.7/site-packages (from wgpu<0.10.0,>=0.9.4->pygfx) (1.15.1)\n",
      "Requirement already satisfied, skipping upgrade: importlib-metadata>=4.4; python_version < \"3.8\" in ./venv/lib/python3.7/site-packages (from rubicon-objc>=0.4.1; sys_platform == \"darwin\"->wgpu<0.10.0,>=0.9.4->pygfx) (6.7.0)\n",
      "Requirement already satisfied, skipping upgrade: pycparser in ./venv/lib/python3.7/site-packages (from cffi>=1.15.0rc2->wgpu<0.10.0,>=0.9.4->pygfx) (2.21)\n",
      "Requirement already satisfied, skipping upgrade: zipp>=0.5 in ./venv/lib/python3.7/site-packages (from importlib-metadata>=4.4; python_version < \"3.8\"->rubicon-objc>=0.4.1; sys_platform == \"darwin\"->wgpu<0.10.0,>=0.9.4->pygfx) (3.15.0)\n",
      "Requirement already satisfied, skipping upgrade: typing-extensions>=3.6.4; python_version < \"3.8\" in ./venv/lib/python3.7/site-packages (from importlib-metadata>=4.4; python_version < \"3.8\"->rubicon-objc>=0.4.1; sys_platform == \"darwin\"->wgpu<0.10.0,>=0.9.4->pygfx) (4.7.1)\n",
      "\u001b[33mWARNING: You are using pip version 20.1.1; however, version 23.3.2 is available.\n",
      "You should consider upgrading via the '/Users/kiran/repositories/genomeshader-ui-test/venv/bin/python3 -m pip install --upgrade pip' command.\u001b[0m\n",
      "Note: you may need to restart the kernel to use updated packages.\n"
     ]
    }
   ],
   "source": [
    "pip install -U pygfx"
   ]
  },
  {
   "cell_type": "code",
   "execution_count": 2,
   "metadata": {},
   "outputs": [
    {
     "name": "stdout",
     "output_type": "stream",
     "text": [
      "Requirement already up-to-date: jupyter_rfb in ./venv/lib/python3.7/site-packages (0.3.3)\n",
      "Requirement already satisfied, skipping upgrade: numpy in ./venv/lib/python3.7/site-packages (from jupyter_rfb) (1.21.6)\n",
      "Requirement already satisfied, skipping upgrade: jupyterlab-widgets in ./venv/lib/python3.7/site-packages (from jupyter_rfb) (3.0.9)\n",
      "Requirement already satisfied, skipping upgrade: ipywidgets<9,>=7.6.0 in ./venv/lib/python3.7/site-packages (from jupyter_rfb) (8.1.1)\n",
      "Requirement already satisfied, skipping upgrade: comm>=0.1.3 in ./venv/lib/python3.7/site-packages (from ipywidgets<9,>=7.6.0->jupyter_rfb) (0.1.4)\n",
      "Requirement already satisfied, skipping upgrade: traitlets>=4.3.1 in ./venv/lib/python3.7/site-packages (from ipywidgets<9,>=7.6.0->jupyter_rfb) (5.9.0)\n",
      "Requirement already satisfied, skipping upgrade: widgetsnbextension~=4.0.9 in ./venv/lib/python3.7/site-packages (from ipywidgets<9,>=7.6.0->jupyter_rfb) (4.0.9)\n",
      "Requirement already satisfied, skipping upgrade: ipython>=6.1.0 in ./venv/lib/python3.7/site-packages (from ipywidgets<9,>=7.6.0->jupyter_rfb) (7.34.0)\n",
      "Requirement already satisfied, skipping upgrade: prompt-toolkit!=3.0.0,!=3.0.1,<3.1.0,>=2.0.0 in ./venv/lib/python3.7/site-packages (from ipython>=6.1.0->ipywidgets<9,>=7.6.0->jupyter_rfb) (3.0.43)\n",
      "Requirement already satisfied, skipping upgrade: jedi>=0.16 in ./venv/lib/python3.7/site-packages (from ipython>=6.1.0->ipywidgets<9,>=7.6.0->jupyter_rfb) (0.19.1)\n",
      "Requirement already satisfied, skipping upgrade: decorator in ./venv/lib/python3.7/site-packages (from ipython>=6.1.0->ipywidgets<9,>=7.6.0->jupyter_rfb) (5.1.1)\n",
      "Requirement already satisfied, skipping upgrade: matplotlib-inline in ./venv/lib/python3.7/site-packages (from ipython>=6.1.0->ipywidgets<9,>=7.6.0->jupyter_rfb) (0.1.6)\n",
      "Requirement already satisfied, skipping upgrade: appnope; sys_platform == \"darwin\" in ./venv/lib/python3.7/site-packages (from ipython>=6.1.0->ipywidgets<9,>=7.6.0->jupyter_rfb) (0.1.3)\n",
      "Requirement already satisfied, skipping upgrade: pickleshare in ./venv/lib/python3.7/site-packages (from ipython>=6.1.0->ipywidgets<9,>=7.6.0->jupyter_rfb) (0.7.5)\n",
      "Requirement already satisfied, skipping upgrade: backcall in ./venv/lib/python3.7/site-packages (from ipython>=6.1.0->ipywidgets<9,>=7.6.0->jupyter_rfb) (0.2.0)\n",
      "Requirement already satisfied, skipping upgrade: setuptools>=18.5 in ./venv/lib/python3.7/site-packages (from ipython>=6.1.0->ipywidgets<9,>=7.6.0->jupyter_rfb) (47.1.0)\n",
      "Requirement already satisfied, skipping upgrade: pexpect>4.3; sys_platform != \"win32\" in ./venv/lib/python3.7/site-packages (from ipython>=6.1.0->ipywidgets<9,>=7.6.0->jupyter_rfb) (4.9.0)\n",
      "Requirement already satisfied, skipping upgrade: pygments in ./venv/lib/python3.7/site-packages (from ipython>=6.1.0->ipywidgets<9,>=7.6.0->jupyter_rfb) (2.17.2)\n",
      "Requirement already satisfied, skipping upgrade: wcwidth in ./venv/lib/python3.7/site-packages (from prompt-toolkit!=3.0.0,!=3.0.1,<3.1.0,>=2.0.0->ipython>=6.1.0->ipywidgets<9,>=7.6.0->jupyter_rfb) (0.2.12)\n",
      "Requirement already satisfied, skipping upgrade: parso<0.9.0,>=0.8.3 in ./venv/lib/python3.7/site-packages (from jedi>=0.16->ipython>=6.1.0->ipywidgets<9,>=7.6.0->jupyter_rfb) (0.8.3)\n",
      "Requirement already satisfied, skipping upgrade: ptyprocess>=0.5 in ./venv/lib/python3.7/site-packages (from pexpect>4.3; sys_platform != \"win32\"->ipython>=6.1.0->ipywidgets<9,>=7.6.0->jupyter_rfb) (0.7.0)\n",
      "\u001b[33mWARNING: You are using pip version 20.1.1; however, version 23.3.2 is available.\n",
      "You should consider upgrading via the '/Users/kiran/repositories/genomeshader-ui-test/venv/bin/python3 -m pip install --upgrade pip' command.\u001b[0m\n",
      "Note: you may need to restart the kernel to use updated packages.\n"
     ]
    }
   ],
   "source": [
    "pip install -U jupyter_rfb"
   ]
  },
  {
   "cell_type": "code",
   "execution_count": null,
   "metadata": {},
   "outputs": [
    {
     "data": {
      "application/vnd.jupyter.widget-view+json": {
       "model_id": "0c398d8bf6e14a398280979489d812f3",
       "version_major": 2,
       "version_minor": 0
      },
      "text/plain": [
       "RFBOutputContext()"
      ]
     },
     "metadata": {},
     "output_type": "display_data"
    }
   ],
   "source": [
    "import pygfx as gfx\n",
    "\n",
    "cube = gfx.Mesh(\n",
    "    gfx.box_geometry(200, 200, 200),\n",
    "    gfx.MeshPhongMaterial(color=\"#336699\"),\n",
    ")\n",
    "\n",
    "gfx.show(cube)"
   ]
  },
  {
   "cell_type": "code",
   "execution_count": null,
   "metadata": {},
   "outputs": [],
   "source": []
  },
  {
   "cell_type": "code",
   "execution_count": null,
   "metadata": {},
   "outputs": [],
   "source": []
  },
  {
   "cell_type": "code",
   "execution_count": null,
   "metadata": {},
   "outputs": [],
   "source": []
  },
  {
   "cell_type": "code",
   "execution_count": 1,
   "metadata": {},
   "outputs": [],
   "source": [
    "import genomeshader as gs"
   ]
  },
  {
   "cell_type": "code",
   "execution_count": 3,
   "metadata": {},
   "outputs": [],
   "source": [
    "gs.old_window()"
   ]
  },
  {
   "cell_type": "code",
   "execution_count": 2,
   "metadata": {},
   "outputs": [
    {
     "data": {
      "text/plain": [
       "2"
      ]
     },
     "execution_count": 2,
     "metadata": {},
     "output_type": "execute_result"
    }
   ],
   "source": [
    "1+1"
   ]
  },
  {
   "cell_type": "code",
   "execution_count": 2,
   "metadata": {},
   "outputs": [],
   "source": [
    "s = gs.init()"
   ]
  },
  {
   "cell_type": "code",
   "execution_count": 3,
   "metadata": {},
   "outputs": [],
   "source": [
    "s.attach_bams([\n",
    "    'gs://fc-8c3900db-633f-477f-96b3-fb31ae265c44/results/PBFlowcell/m84175_231021_212604_s2/reads/ccs/aligned/m84175_231021_212604_s2.bam',\n",
    "    'gs://fc-8c3900db-633f-477f-96b3-fb31ae265c44/results/PBFlowcell/m84175_231021_215710_s3/reads/ccs/aligned/m84175_231021_215710_s3.bam',\n",
    "    'gs://fc-8c3900db-633f-477f-96b3-fb31ae265c44/results/PBFlowcell/m84175_231021_222816_s4/reads/ccs/aligned/m84175_231021_222816_s4.bam',\n",
    "])"
   ]
  },
  {
   "cell_type": "code",
   "execution_count": 4,
   "metadata": {},
   "outputs": [],
   "source": [
    "# s.attach_bams([\n",
    "#     'gs://fc-8c3900db-633f-477f-96b3-fb31ae265c44/results/PBFlowcell/m84060_230907_210011_s2/reads/ccs/aligned/m84060_230907_210011_s2.bam',\n",
    "#     'gs://fc-8c3900db-633f-477f-96b3-fb31ae265c44/results/PBFlowcell/m84043_230901_211947_s1/reads/ccs/aligned/m84043_230901_211947_s1.bam',\n",
    "#     'gs://fc-8c3900db-633f-477f-96b3-fb31ae265c44/results/PBFlowcell/m84043_230906_201655_s1/reads/ccs/aligned/m84043_230906_201655_s1.bam',\n",
    "#     'gs://fc-8c3900db-633f-477f-96b3-fb31ae265c44/results/PBFlowcell/m84060_230911_201403_s4/reads/ccs/aligned/m84060_230911_201403_s4.bam',\n",
    "#     'gs://fc-8c3900db-633f-477f-96b3-fb31ae265c44/results/PBFlowcell/m84056_230829_203026_s1/reads/ccs/aligned/m84056_230829_203026_s1.bam',\n",
    "#     'gs://fc-8c3900db-633f-477f-96b3-fb31ae265c44/results/PBFlowcell/m84043_230907_202641_s1/reads/ccs/aligned/m84043_230907_202641_s1.bam',\n",
    "#     'gs://fc-8c3900db-633f-477f-96b3-fb31ae265c44/results/PBFlowcell/m84056_230906_212009_s3/reads/ccs/aligned/m84056_230906_212009_s3.bam',\n",
    "#     'gs://fc-8c3900db-633f-477f-96b3-fb31ae265c44/results/PBFlowcell/m84063_230911_193237_s1/reads/ccs/aligned/m84063_230911_193237_s1.bam',\n",
    "#     'gs://fc-8c3900db-633f-477f-96b3-fb31ae265c44/results/PBFlowcell/m84056_230907_213037_s3/reads/ccs/aligned/m84056_230907_213037_s3.bam',\n",
    "#     'gs://fc-8c3900db-633f-477f-96b3-fb31ae265c44/results/PBFlowcell/m84060_230907_213117_s3/reads/ccs/aligned/m84060_230907_213117_s3.bam',\n",
    "#     'gs://fc-8c3900db-633f-477f-96b3-fb31ae265c44/results/PBFlowcell/m84056_230911_184019_s1/reads/ccs/aligned/m84056_230911_184019_s1.bam',\n",
    "#     'gs://fc-8c3900db-633f-477f-96b3-fb31ae265c44/results/PBFlowcell/m84060_230829_210144_s2/reads/ccs/aligned/m84060_230829_210144_s2.bam',\n",
    "#     'gs://fc-8c3900db-633f-477f-96b3-fb31ae265c44/results/PBFlowcell/m84056_230906_201842_s1/reads/ccs/aligned/m84056_230906_201842_s1.bam',\n",
    "#     'gs://fc-8c3900db-633f-477f-96b3-fb31ae265c44/results/PBFlowcell/m84060_230829_220357_s4/reads/ccs/aligned/m84060_230829_220357_s4.bam',\n",
    "#     'gs://fc-8c3900db-633f-477f-96b3-fb31ae265c44/results/PBFlowcell/m84056_230909_164146_s1/reads/ccs/aligned/m84056_230909_164146_s1.bam',\n",
    "#     'gs://fc-8c3900db-633f-477f-96b3-fb31ae265c44/results/PBFlowcell/m84056_230828_202039_s1/reads/ccs/aligned/m84056_230828_202039_s1.bam',\n",
    "#     'gs://fc-8c3900db-633f-477f-96b3-fb31ae265c44/results/PBFlowcell/m84056_230829_220344_s4/reads/ccs/aligned/m84056_230829_220344_s4.bam',\n",
    "#     'gs://fc-8c3900db-633f-477f-96b3-fb31ae265c44/results/PBFlowcell/m84063_230906_215238_s3/reads/ccs/aligned/m84063_230906_215238_s3.bam',\n",
    "#     'gs://fc-8c3900db-633f-477f-96b3-fb31ae265c44/results/PBFlowcell/m84043_230907_212853_s3/reads/ccs/aligned/m84043_230907_212853_s3.bam',\n",
    "#     'gs://fc-8c3900db-633f-477f-96b3-fb31ae265c44/results/PBFlowcell/m84063_230909_174409_s2/reads/ccs/aligned/m84063_230909_174409_s2.bam',\n",
    "#     'gs://fc-8c3900db-633f-477f-96b3-fb31ae265c44/results/PBFlowcell/m84060_230909_174319_s3/reads/ccs/aligned/m84060_230909_174319_s3.bam',\n",
    "#     'gs://fc-8c3900db-633f-477f-96b3-fb31ae265c44/results/PBFlowcell/m84063_230909_164235_s4/reads/ccs/aligned/m84063_230909_164235_s4.bam',\n",
    "#     'gs://fc-8c3900db-633f-477f-96b3-fb31ae265c44/results/PBFlowcell/m84063_230909_181515_s3/reads/ccs/aligned/m84063_230909_181515_s3.bam',\n",
    "#     'gs://fc-8c3900db-633f-477f-96b3-fb31ae265c44/results/PBFlowcell/m84063_230907_210055_s1/reads/ccs/aligned/m84063_230907_210055_s1.bam',\n",
    "#     'gs://fc-8c3900db-633f-477f-96b3-fb31ae265c44/results/PBFlowcell/m84056_230907_202825_s1/reads/ccs/aligned/m84056_230907_202825_s1.bam',\n",
    "#     'gs://fc-8c3900db-633f-477f-96b3-fb31ae265c44/results/PBFlowcell/m84043_230911_191037_s2/reads/ccs/aligned/m84043_230911_191037_s2.bam',\n",
    "#     'gs://fc-8c3900db-633f-477f-96b3-fb31ae265c44/results/PBFlowcell/m84060_230911_194257_s3/reads/ccs/aligned/m84060_230911_194257_s3.bam',\n",
    "#     'gs://fc-8c3900db-633f-477f-96b3-fb31ae265c44/results/PBFlowcell/m84056_230828_205059_s2/reads/ccs/aligned/m84056_230828_205059_s2.bam',\n",
    "#     'gs://fc-8c3900db-633f-477f-96b3-fb31ae265c44/results/PBFlowcell/m84060_230911_184131_s1/reads/ccs/aligned/m84060_230911_184131_s1.bam',\n",
    "#     'gs://fc-8c3900db-633f-477f-96b3-fb31ae265c44/results/PBFlowcell/m84060_230906_201922_s1/reads/ccs/aligned/m84060_230906_201922_s1.bam',\n",
    "#     'gs://fc-8c3900db-633f-477f-96b3-fb31ae265c44/results/PBFlowcell/m84060_230907_220223_s4/reads/ccs/aligned/m84060_230907_220223_s4.bam',\n",
    "#     'gs://fc-8c3900db-633f-477f-96b3-fb31ae265c44/results/PBFlowcell/m84056_230909_174313_s3/reads/ccs/aligned/m84056_230909_174313_s3.bam',\n",
    "#     'gs://fc-8c3900db-633f-477f-96b3-fb31ae265c44/results/PBFlowcell/m84056_230828_215311_s4/reads/ccs/aligned/m84056_230828_215311_s4.bam',\n",
    "#     'gs://fc-8c3900db-633f-477f-96b3-fb31ae265c44/results/PBFlowcell/m84043_230901_215053_s2/reads/ccs/aligned/m84043_230901_215053_s2.bam',\n",
    "#     'gs://fc-8c3900db-633f-477f-96b3-fb31ae265c44/results/PBFlowcell/m84056_230906_204902_s2/reads/ccs/aligned/m84056_230906_204902_s2.bam',\n",
    "#     'gs://fc-8c3900db-633f-477f-96b3-fb31ae265c44/results/PBFlowcell/m84060_230909_171213_s2/reads/ccs/aligned/m84060_230909_171213_s2.bam',\n",
    "#     'gs://fc-8c3900db-633f-477f-96b3-fb31ae265c44/results/PBFlowcell/m84043_230906_204717_s2/reads/ccs/aligned/m84043_230906_204717_s2.bam',\n",
    "#     'gs://fc-8c3900db-633f-477f-96b3-fb31ae265c44/results/PBFlowcell/m84060_230909_164149_s1/reads/ccs/aligned/m84060_230909_164149_s1.bam',\n",
    "#     'gs://fc-8c3900db-633f-477f-96b3-fb31ae265c44/results/PBFlowcell/m84063_230906_212132_s2/reads/ccs/aligned/m84063_230906_212132_s2.bam',\n",
    "#     'gs://fc-8c3900db-633f-477f-96b3-fb31ae265c44/results/PBFlowcell/m84060_230828_202101_s1/reads/ccs/aligned/m84060_230828_202101_s1.bam',\n",
    "#     'gs://fc-8c3900db-633f-477f-96b3-fb31ae265c44/results/PBFlowcell/m84063_230906_205026_s1/reads/ccs/aligned/m84063_230906_205026_s1.bam',\n",
    "#     'gs://fc-8c3900db-633f-477f-96b3-fb31ae265c44/results/PBFlowcell/m84056_230906_215115_s4/reads/ccs/aligned/m84056_230906_215115_s4.bam',\n",
    "#     'gs://fc-8c3900db-633f-477f-96b3-fb31ae265c44/results/PBFlowcell/m84063_230911_200343_s2/reads/ccs/aligned/m84063_230911_200343_s2.bam',\n",
    "#     'gs://fc-8c3900db-633f-477f-96b3-fb31ae265c44/results/PBFlowcell/m84056_230907_220143_s4/reads/ccs/aligned/m84056_230907_220143_s4.bam',\n",
    "#     'gs://fc-8c3900db-633f-477f-96b3-fb31ae265c44/results/PBFlowcell/m84043_230907_215959_s4/reads/ccs/aligned/m84043_230907_215959_s4.bam',\n",
    "#     'gs://fc-8c3900db-633f-477f-96b3-fb31ae265c44/results/PBFlowcell/m84043_230911_201249_s4/reads/ccs/aligned/m84043_230911_201249_s4.bam',\n",
    "#     'gs://fc-8c3900db-633f-477f-96b3-fb31ae265c44/results/PBFlowcell/m84063_230907_202949_s4/reads/ccs/aligned/m84063_230907_202949_s4.bam',\n",
    "#     'gs://fc-8c3900db-633f-477f-96b3-fb31ae265c44/results/PBFlowcell/m84056_230911_194146_s3/reads/ccs/aligned/m84056_230911_194146_s3.bam',\n",
    "#     'gs://fc-8c3900db-633f-477f-96b3-fb31ae265c44/results/PBFlowcell/m84056_230829_210132_s2/reads/ccs/aligned/m84056_230829_210132_s2.bam',\n",
    "#     'gs://fc-8c3900db-633f-477f-96b3-fb31ae265c44/results/PBFlowcell/m84063_230911_190209_s4/reads/ccs/aligned/m84063_230911_190209_s4.bam',\n",
    "#     'gs://fc-8c3900db-633f-477f-96b3-fb31ae265c44/results/PBFlowcell/m84060_230906_215200_s4/reads/ccs/aligned/m84060_230906_215200_s4.bam',\n",
    "#     'gs://fc-8c3900db-633f-477f-96b3-fb31ae265c44/results/PBFlowcell/m84063_230909_171303_s1/reads/ccs/aligned/m84063_230909_171303_s1.bam',\n",
    "#     'gs://fc-8c3900db-633f-477f-96b3-fb31ae265c44/results/PBFlowcell/m84063_230907_220307_s3/reads/ccs/aligned/m84063_230907_220307_s3.bam',\n",
    "#     'gs://fc-8c3900db-633f-477f-96b3-fb31ae265c44/results/PBFlowcell/m84056_230911_191040_s2/reads/ccs/aligned/m84056_230911_191040_s2.bam',\n",
    "#     'gs://fc-8c3900db-633f-477f-96b3-fb31ae265c44/results/PBFlowcell/m84060_230906_212054_s3/reads/ccs/aligned/m84060_230906_212054_s3.bam',\n",
    "#     'gs://fc-8c3900db-633f-477f-96b3-fb31ae265c44/results/PBFlowcell/m84060_230907_202905_s1/reads/ccs/aligned/m84060_230907_202905_s1.bam',\n",
    "#     'gs://fc-8c3900db-633f-477f-96b3-fb31ae265c44/results/PBFlowcell/m84060_230829_203038_s1/reads/ccs/aligned/m84060_230829_203038_s1.bam',\n",
    "#     'gs://fc-8c3900db-633f-477f-96b3-fb31ae265c44/results/PBFlowcell/m84056_230829_213238_s3/reads/ccs/aligned/m84056_230829_213238_s3.bam',\n",
    "#     'gs://fc-8c3900db-633f-477f-96b3-fb31ae265c44/results/PBFlowcell/m84060_230828_205127_s2/reads/ccs/aligned/m84060_230828_205127_s2.bam',\n",
    "#     'gs://fc-8c3900db-633f-477f-96b3-fb31ae265c44/results/PBFlowcell/m84056_230909_171207_s2/reads/ccs/aligned/m84056_230909_171207_s2.bam',\n",
    "#     'gs://fc-8c3900db-633f-477f-96b3-fb31ae265c44/results/PBFlowcell/m84063_230906_201957_s4/reads/ccs/aligned/m84063_230906_201957_s4.bam',\n",
    "#     'gs://fc-8c3900db-633f-477f-96b3-fb31ae265c44/results/PBFlowcell/m84060_230828_212233_s3/reads/ccs/aligned/m84060_230828_212233_s3.bam',\n",
    "#     'gs://fc-8c3900db-633f-477f-96b3-fb31ae265c44/results/PBFlowcell/m84060_230829_213250_s3/reads/ccs/aligned/m84060_230829_213250_s3.bam',\n",
    "#     'gs://fc-8c3900db-633f-477f-96b3-fb31ae265c44/results/PBFlowcell/m84056_230909_181419_s4/reads/ccs/aligned/m84056_230909_181419_s4.bam',\n",
    "#     'gs://fc-8c3900db-633f-477f-96b3-fb31ae265c44/results/PBFlowcell/m84043_230901_222159_s3/reads/ccs/aligned/m84043_230901_222159_s3.bam',\n",
    "#     'gs://fc-8c3900db-633f-477f-96b3-fb31ae265c44/results/PBFlowcell/m84056_230911_201252_s4/reads/ccs/aligned/m84056_230911_201252_s4.bam',\n",
    "#     'gs://fc-8c3900db-633f-477f-96b3-fb31ae265c44/results/PBFlowcell/m84060_230911_191151_s2/reads/ccs/aligned/m84060_230911_191151_s2.bam',\n",
    "#     'gs://fc-8c3900db-633f-477f-96b3-fb31ae265c44/results/PBFlowcell/m84043_230901_225305_s4/reads/ccs/aligned/m84043_230901_225305_s4.bam',\n",
    "#     'gs://fc-8c3900db-633f-477f-96b3-fb31ae265c44/results/PBFlowcell/m84063_230911_203449_s3/reads/ccs/aligned/m84063_230911_203449_s3.bam',\n",
    "#     'gs://fc-8c3900db-633f-477f-96b3-fb31ae265c44/results/PBFlowcell/m84063_230907_213201_s2/reads/ccs/aligned/m84063_230907_213201_s2.bam',\n",
    "#     'gs://fc-8c3900db-633f-477f-96b3-fb31ae265c44/results/PBFlowcell/m84056_230907_205931_s2/reads/ccs/aligned/m84056_230907_205931_s2.bam',\n",
    "#     'gs://fc-8c3900db-633f-477f-96b3-fb31ae265c44/results/PBFlowcell/m84060_230828_215339_s4/reads/ccs/aligned/m84060_230828_215339_s4.bam',\n",
    "#     'gs://fc-8c3900db-633f-477f-96b3-fb31ae265c44/results/PBFlowcell/m84043_230911_184014_s1/reads/ccs/aligned/m84043_230911_184014_s1.bam',\n",
    "#     'gs://fc-8c3900db-633f-477f-96b3-fb31ae265c44/results/PBFlowcell/m84056_230828_212205_s3/reads/ccs/aligned/m84056_230828_212205_s3.bam',\n",
    "#     'gs://fc-8c3900db-633f-477f-96b3-fb31ae265c44/results/PBFlowcell/m84043_230907_205747_s2/reads/ccs/aligned/m84043_230907_205747_s2.bam',\n",
    "#     'gs://fc-8c3900db-633f-477f-96b3-fb31ae265c44/results/PBFlowcell/m84043_230906_214929_s4/reads/ccs/aligned/m84043_230906_214929_s4.bam',\n",
    "#     'gs://fc-8c3900db-633f-477f-96b3-fb31ae265c44/results/PBFlowcell/m84060_230906_204947_s2/reads/ccs/aligned/m84060_230906_204947_s2.bam',\n",
    "#     'gs://fc-8c3900db-633f-477f-96b3-fb31ae265c44/results/PBFlowcell/m84043_230911_194143_s3/reads/ccs/aligned/m84043_230911_194143_s3.bam',\n",
    "#     'gs://fc-8c3900db-633f-477f-96b3-fb31ae265c44/results/PBFlowcell/m84060_230909_181425_s4/reads/ccs/aligned/m84060_230909_181425_s4.bam',\n",
    "# ])"
   ]
  },
  {
   "cell_type": "code",
   "execution_count": 5,
   "metadata": {},
   "outputs": [],
   "source": [
    "s.attach_loci([\n",
    "    'chr15:23,960,193-23,963,918',\n",
    "])"
   ]
  },
  {
   "cell_type": "code",
   "execution_count": 6,
   "metadata": {},
   "outputs": [
    {
     "name": "stdout",
     "output_type": "stream",
     "text": [
      "Execution time: 6.281147241592407 seconds\n"
     ]
    }
   ],
   "source": [
    "import time\n",
    "start_time = time.time()\n",
    "\n",
    "s.stage()\n",
    "\n",
    "print(\"Execution time: %s seconds\" % (time.time() - start_time))"
   ]
  },
  {
   "cell_type": "code",
   "execution_count": 7,
   "metadata": {},
   "outputs": [
    {
     "name": "stdout",
     "output_type": "stream",
     "text": [
      "BAMs:\n",
      " - gs://fc-8c3900db-633f-477f-96b3-fb31ae265c44/results/PBFlowcell/m84175_231021_212604_s2/reads/ccs/aligned/m84175_231021_212604_s2.bam\n",
      " - gs://fc-8c3900db-633f-477f-96b3-fb31ae265c44/results/PBFlowcell/m84175_231021_215710_s3/reads/ccs/aligned/m84175_231021_215710_s3.bam\n",
      " - gs://fc-8c3900db-633f-477f-96b3-fb31ae265c44/results/PBFlowcell/m84175_231021_222816_s4/reads/ccs/aligned/m84175_231021_222816_s4.bam\n",
      "Loci:\n",
      " - (\"chr15\", 23960193, 23963918)\n",
      "Staging:\n",
      " - chr15:23960193-23963918 : \"/var/folders/jp/l0z21gnj4f531jw12fvm0bx80000gq/T/chr15_23960193_23963918.parquet\"\n"
     ]
    }
   ],
   "source": [
    "s.print()"
   ]
  },
  {
   "cell_type": "code",
   "execution_count": 8,
   "metadata": {},
   "outputs": [
    {
     "data": {
      "text/html": [
       "<div><style>\n",
       ".dataframe > thead > tr > th,\n",
       ".dataframe > tbody > tr > td {\n",
       "  text-align: right;\n",
       "}\n",
       "</style>\n",
       "<small>shape: (1_093, 10)</small><table border=\"1\" class=\"dataframe\"><thead><tr><th>reference_contig</th><th>reference_start</th><th>reference_end</th><th>is_forward</th><th>query_name</th><th>read_group</th><th>sample_name</th><th>element_type</th><th>sequence</th><th>column_width</th></tr><tr><td>str</td><td>u32</td><td>u32</td><td>bool</td><td>str</td><td>str</td><td>str</td><td>u8</td><td>str</td><td>u32</td></tr></thead><tbody><tr><td>&quot;chr15&quot;</td><td>23945231</td><td>23961433</td><td>false</td><td>&quot;m84175_231021_…</td><td>&quot;d89a85f2/13--1…</td><td>&quot;CP-10202023-84…</td><td>0</td><td>&quot;&quot;</td><td>1</td></tr><tr><td>&quot;chr15&quot;</td><td>23945835</td><td>23945836</td><td>false</td><td>&quot;m84175_231021_…</td><td>&quot;d89a85f2/13--1…</td><td>&quot;CP-10202023-84…</td><td>2</td><td>&quot;T&quot;</td><td>1</td></tr><tr><td>&quot;chr15&quot;</td><td>23945852</td><td>23945853</td><td>false</td><td>&quot;m84175_231021_…</td><td>&quot;d89a85f2/13--1…</td><td>&quot;CP-10202023-84…</td><td>3</td><td>&quot;&quot;</td><td>1</td></tr><tr><td>&quot;chr15&quot;</td><td>23946099</td><td>23946100</td><td>false</td><td>&quot;m84175_231021_…</td><td>&quot;d89a85f2/13--1…</td><td>&quot;CP-10202023-84…</td><td>1</td><td>&quot;G&quot;</td><td>1</td></tr><tr><td>&quot;chr15&quot;</td><td>23946133</td><td>23946134</td><td>false</td><td>&quot;m84175_231021_…</td><td>&quot;d89a85f2/13--1…</td><td>&quot;CP-10202023-84…</td><td>1</td><td>&quot;C&quot;</td><td>1</td></tr><tr><td>&quot;chr15&quot;</td><td>23946149</td><td>23946150</td><td>false</td><td>&quot;m84175_231021_…</td><td>&quot;d89a85f2/13--1…</td><td>&quot;CP-10202023-84…</td><td>1</td><td>&quot;A&quot;</td><td>1</td></tr><tr><td>&quot;chr15&quot;</td><td>23946242</td><td>23946243</td><td>false</td><td>&quot;m84175_231021_…</td><td>&quot;d89a85f2/13--1…</td><td>&quot;CP-10202023-84…</td><td>1</td><td>&quot;C&quot;</td><td>1</td></tr><tr><td>&quot;chr15&quot;</td><td>23946537</td><td>23946538</td><td>false</td><td>&quot;m84175_231021_…</td><td>&quot;d89a85f2/13--1…</td><td>&quot;CP-10202023-84…</td><td>1</td><td>&quot;C&quot;</td><td>1</td></tr><tr><td>&quot;chr15&quot;</td><td>23947202</td><td>23947203</td><td>false</td><td>&quot;m84175_231021_…</td><td>&quot;d89a85f2/13--1…</td><td>&quot;CP-10202023-84…</td><td>2</td><td>&quot;TTTTTTTTTT&quot;</td><td>10</td></tr><tr><td>&quot;chr15&quot;</td><td>23947337</td><td>23947338</td><td>false</td><td>&quot;m84175_231021_…</td><td>&quot;d89a85f2/13--1…</td><td>&quot;CP-10202023-84…</td><td>2</td><td>&quot;G&quot;</td><td>1</td></tr><tr><td>&quot;chr15&quot;</td><td>23947707</td><td>23947708</td><td>false</td><td>&quot;m84175_231021_…</td><td>&quot;d89a85f2/13--1…</td><td>&quot;CP-10202023-84…</td><td>1</td><td>&quot;G&quot;</td><td>1</td></tr><tr><td>&quot;chr15&quot;</td><td>23947835</td><td>23947836</td><td>false</td><td>&quot;m84175_231021_…</td><td>&quot;d89a85f2/13--1…</td><td>&quot;CP-10202023-84…</td><td>1</td><td>&quot;A&quot;</td><td>1</td></tr><tr><td>&hellip;</td><td>&hellip;</td><td>&hellip;</td><td>&hellip;</td><td>&hellip;</td><td>&hellip;</td><td>&hellip;</td><td>&hellip;</td><td>&hellip;</td><td>&hellip;</td></tr><tr><td>&quot;chr15&quot;</td><td>23965332</td><td>23965333</td><td>true</td><td>&quot;m84175_231021_…</td><td>&quot;3d130404/11--1…</td><td>&quot;CP-102020-03&quot;</td><td>3</td><td>&quot;&quot;</td><td>1</td></tr><tr><td>&quot;chr15&quot;</td><td>23965414</td><td>23965415</td><td>true</td><td>&quot;m84175_231021_…</td><td>&quot;3d130404/11--1…</td><td>&quot;CP-102020-03&quot;</td><td>1</td><td>&quot;G&quot;</td><td>1</td></tr><tr><td>&quot;chr15&quot;</td><td>23965985</td><td>23965986</td><td>true</td><td>&quot;m84175_231021_…</td><td>&quot;3d130404/11--1…</td><td>&quot;CP-102020-03&quot;</td><td>1</td><td>&quot;A&quot;</td><td>1</td></tr><tr><td>&quot;chr15&quot;</td><td>23966207</td><td>23966208</td><td>true</td><td>&quot;m84175_231021_…</td><td>&quot;3d130404/11--1…</td><td>&quot;CP-102020-03&quot;</td><td>1</td><td>&quot;G&quot;</td><td>1</td></tr><tr><td>&quot;chr15&quot;</td><td>23966370</td><td>23966371</td><td>true</td><td>&quot;m84175_231021_…</td><td>&quot;3d130404/11--1…</td><td>&quot;CP-102020-03&quot;</td><td>1</td><td>&quot;G&quot;</td><td>1</td></tr><tr><td>&quot;chr15&quot;</td><td>23967266</td><td>23967267</td><td>true</td><td>&quot;m84175_231021_…</td><td>&quot;3d130404/11--1…</td><td>&quot;CP-102020-03&quot;</td><td>1</td><td>&quot;C&quot;</td><td>1</td></tr><tr><td>&quot;chr15&quot;</td><td>23967462</td><td>23967463</td><td>true</td><td>&quot;m84175_231021_…</td><td>&quot;3d130404/11--1…</td><td>&quot;CP-102020-03&quot;</td><td>1</td><td>&quot;C&quot;</td><td>1</td></tr><tr><td>&quot;chr15&quot;</td><td>23967901</td><td>23967902</td><td>true</td><td>&quot;m84175_231021_…</td><td>&quot;3d130404/11--1…</td><td>&quot;CP-102020-03&quot;</td><td>1</td><td>&quot;G&quot;</td><td>1</td></tr><tr><td>&quot;chr15&quot;</td><td>23968286</td><td>23968287</td><td>true</td><td>&quot;m84175_231021_…</td><td>&quot;3d130404/11--1…</td><td>&quot;CP-102020-03&quot;</td><td>1</td><td>&quot;G&quot;</td><td>1</td></tr><tr><td>&quot;chr15&quot;</td><td>23968640</td><td>23968641</td><td>true</td><td>&quot;m84175_231021_…</td><td>&quot;3d130404/11--1…</td><td>&quot;CP-102020-03&quot;</td><td>2</td><td>&quot;T&quot;</td><td>1</td></tr><tr><td>&quot;chr15&quot;</td><td>23968801</td><td>23968802</td><td>true</td><td>&quot;m84175_231021_…</td><td>&quot;3d130404/11--1…</td><td>&quot;CP-102020-03&quot;</td><td>1</td><td>&quot;A&quot;</td><td>1</td></tr><tr><td>&quot;chr15&quot;</td><td>23968872</td><td>23968873</td><td>true</td><td>&quot;m84175_231021_…</td><td>&quot;3d130404/11--1…</td><td>&quot;CP-102020-03&quot;</td><td>1</td><td>&quot;G&quot;</td><td>1</td></tr></tbody></table></div>"
      ],
      "text/plain": [
       "shape: (1_093, 10)\n",
       "┌────────────┬────────────┬────────────┬──────────┬───┬───────────┬────────────┬──────────┬────────────┐\n",
       "│ reference_ ┆ reference_ ┆ reference_ ┆ is_forwa ┆ … ┆ sample_na ┆ element_ty ┆ sequence ┆ column_wid │\n",
       "│ contig     ┆ start      ┆ end        ┆ rd       ┆   ┆ me        ┆ pe         ┆ ---      ┆ th         │\n",
       "│ ---        ┆ ---        ┆ ---        ┆ ---      ┆   ┆ ---       ┆ ---        ┆ str      ┆ ---        │\n",
       "│ str        ┆ u32        ┆ u32        ┆ bool     ┆   ┆ str       ┆ u8         ┆          ┆ u32        │\n",
       "╞════════════╪════════════╪════════════╪══════════╪═══╪═══════════╪════════════╪══════════╪════════════╡\n",
       "│ chr15      ┆ 23945231   ┆ 23961433   ┆ false    ┆ … ┆ CP-102020 ┆ 0          ┆          ┆ 1          │\n",
       "│            ┆            ┆            ┆          ┆   ┆ 23-84     ┆            ┆          ┆            │\n",
       "│ chr15      ┆ 23945835   ┆ 23945836   ┆ false    ┆ … ┆ CP-102020 ┆ 2          ┆ T        ┆ 1          │\n",
       "│            ┆            ┆            ┆          ┆   ┆ 23-84     ┆            ┆          ┆            │\n",
       "│ chr15      ┆ 23945852   ┆ 23945853   ┆ false    ┆ … ┆ CP-102020 ┆ 3          ┆          ┆ 1          │\n",
       "│            ┆            ┆            ┆          ┆   ┆ 23-84     ┆            ┆          ┆            │\n",
       "│ chr15      ┆ 23946099   ┆ 23946100   ┆ false    ┆ … ┆ CP-102020 ┆ 1          ┆ G        ┆ 1          │\n",
       "│            ┆            ┆            ┆          ┆   ┆ 23-84     ┆            ┆          ┆            │\n",
       "│ …          ┆ …          ┆ …          ┆ …        ┆ … ┆ …         ┆ …          ┆ …        ┆ …          │\n",
       "│ chr15      ┆ 23968286   ┆ 23968287   ┆ true     ┆ … ┆ CP-102020 ┆ 1          ┆ G        ┆ 1          │\n",
       "│            ┆            ┆            ┆          ┆   ┆ -03       ┆            ┆          ┆            │\n",
       "│ chr15      ┆ 23968640   ┆ 23968641   ┆ true     ┆ … ┆ CP-102020 ┆ 2          ┆ T        ┆ 1          │\n",
       "│            ┆            ┆            ┆          ┆   ┆ -03       ┆            ┆          ┆            │\n",
       "│ chr15      ┆ 23968801   ┆ 23968802   ┆ true     ┆ … ┆ CP-102020 ┆ 1          ┆ A        ┆ 1          │\n",
       "│            ┆            ┆            ┆          ┆   ┆ -03       ┆            ┆          ┆            │\n",
       "│ chr15      ┆ 23968872   ┆ 23968873   ┆ true     ┆ … ┆ CP-102020 ┆ 1          ┆ G        ┆ 1          │\n",
       "│            ┆            ┆            ┆          ┆   ┆ -03       ┆            ┆          ┆            │\n",
       "└────────────┴────────────┴────────────┴──────────┴───┴───────────┴────────────┴──────────┴────────────┘"
      ]
     },
     "execution_count": 8,
     "metadata": {},
     "output_type": "execute_result"
    }
   ],
   "source": [
    "df = s.get_staged_locus('chr15:23,960,193-23,963,918')\n",
    "df"
   ]
  },
  {
   "cell_type": "code",
   "execution_count": 9,
   "metadata": {},
   "outputs": [
    {
     "data": {
      "text/html": [
       "<div><style>\n",
       ".dataframe > thead > tr > th,\n",
       ".dataframe > tbody > tr > td {\n",
       "  text-align: right;\n",
       "}\n",
       "</style>\n",
       "<small>shape: (6, 10)</small><table border=\"1\" class=\"dataframe\"><thead><tr><th>reference_contig</th><th>reference_start</th><th>reference_end</th><th>is_forward</th><th>query_name</th><th>read_group</th><th>sample_name</th><th>element_type</th><th>sequence</th><th>column_width</th></tr><tr><td>str</td><td>u32</td><td>u32</td><td>bool</td><td>str</td><td>str</td><td>str</td><td>u8</td><td>str</td><td>u32</td></tr></thead><tbody><tr><td>&quot;chr15&quot;</td><td>23965041</td><td>23965042</td><td>false</td><td>&quot;m84175_231021_…</td><td>&quot;d89a85f2/13--1…</td><td>&quot;CP-10202023-84…</td><td>2</td><td>&quot;TTG&quot;</td><td>3</td></tr><tr><td>&quot;chr15&quot;</td><td>23965041</td><td>23965042</td><td>true</td><td>&quot;m84175_231021_…</td><td>&quot;d89a85f2/13--1…</td><td>&quot;CP-10202023-84…</td><td>2</td><td>&quot;TTG&quot;</td><td>3</td></tr><tr><td>&quot;chr15&quot;</td><td>23965041</td><td>23965042</td><td>true</td><td>&quot;m84175_231021_…</td><td>&quot;0a758968/17--1…</td><td>&quot;CP-102020-50&quot;</td><td>2</td><td>&quot;TG&quot;</td><td>4</td></tr><tr><td>&quot;chr15&quot;</td><td>23965041</td><td>23965042</td><td>true</td><td>&quot;m84175_231021_…</td><td>&quot;0a758968/17--1…</td><td>&quot;CP-102020-50&quot;</td><td>2</td><td>&quot;TTTG&quot;</td><td>4</td></tr><tr><td>&quot;chr15&quot;</td><td>23965041</td><td>23965042</td><td>true</td><td>&quot;m84175_231021_…</td><td>&quot;3d130404/11--1…</td><td>&quot;CP-102020-03&quot;</td><td>2</td><td>&quot;TTTG&quot;</td><td>4</td></tr><tr><td>&quot;chr15&quot;</td><td>23965041</td><td>23965042</td><td>true</td><td>&quot;m84175_231021_…</td><td>&quot;3d130404/11--1…</td><td>&quot;CP-102020-03&quot;</td><td>2</td><td>&quot;TTG&quot;</td><td>4</td></tr></tbody></table></div>"
      ],
      "text/plain": [
       "shape: (6, 10)\n",
       "┌────────────┬────────────┬────────────┬──────────┬───┬───────────┬────────────┬──────────┬────────────┐\n",
       "│ reference_ ┆ reference_ ┆ reference_ ┆ is_forwa ┆ … ┆ sample_na ┆ element_ty ┆ sequence ┆ column_wid │\n",
       "│ contig     ┆ start      ┆ end        ┆ rd       ┆   ┆ me        ┆ pe         ┆ ---      ┆ th         │\n",
       "│ ---        ┆ ---        ┆ ---        ┆ ---      ┆   ┆ ---       ┆ ---        ┆ str      ┆ ---        │\n",
       "│ str        ┆ u32        ┆ u32        ┆ bool     ┆   ┆ str       ┆ u8         ┆          ┆ u32        │\n",
       "╞════════════╪════════════╪════════════╪══════════╪═══╪═══════════╪════════════╪══════════╪════════════╡\n",
       "│ chr15      ┆ 23965041   ┆ 23965042   ┆ false    ┆ … ┆ CP-102020 ┆ 2          ┆ TTG      ┆ 3          │\n",
       "│            ┆            ┆            ┆          ┆   ┆ 23-84     ┆            ┆          ┆            │\n",
       "│ chr15      ┆ 23965041   ┆ 23965042   ┆ true     ┆ … ┆ CP-102020 ┆ 2          ┆ TTG      ┆ 3          │\n",
       "│            ┆            ┆            ┆          ┆   ┆ 23-84     ┆            ┆          ┆            │\n",
       "│ chr15      ┆ 23965041   ┆ 23965042   ┆ true     ┆ … ┆ CP-102020 ┆ 2          ┆ TG       ┆ 4          │\n",
       "│            ┆            ┆            ┆          ┆   ┆ -50       ┆            ┆          ┆            │\n",
       "│ chr15      ┆ 23965041   ┆ 23965042   ┆ true     ┆ … ┆ CP-102020 ┆ 2          ┆ TTTG     ┆ 4          │\n",
       "│            ┆            ┆            ┆          ┆   ┆ -50       ┆            ┆          ┆            │\n",
       "│ chr15      ┆ 23965041   ┆ 23965042   ┆ true     ┆ … ┆ CP-102020 ┆ 2          ┆ TTTG     ┆ 4          │\n",
       "│            ┆            ┆            ┆          ┆   ┆ -03       ┆            ┆          ┆            │\n",
       "│ chr15      ┆ 23965041   ┆ 23965042   ┆ true     ┆ … ┆ CP-102020 ┆ 2          ┆ TTG      ┆ 4          │\n",
       "│            ┆            ┆            ┆          ┆   ┆ -03       ┆            ┆          ┆            │\n",
       "└────────────┴────────────┴────────────┴──────────┴───┴───────────┴────────────┴──────────┴────────────┘"
      ]
     },
     "execution_count": 9,
     "metadata": {},
     "output_type": "execute_result"
    }
   ],
   "source": [
    "df.filter(df[\"reference_start\"] == 23965041)"
   ]
  },
  {
   "cell_type": "code",
   "execution_count": 10,
   "metadata": {},
   "outputs": [],
   "source": [
    "# import platform, multiprocessing as mp\n",
    "\n",
    "# if platform.system() == \"Darwin\":\n",
    "#     mp.set_start_method('spawn')\n",
    "\n",
    "# #thread = mp.Process(target=gs.create_window).start()\n",
    "# thread = mp.Process(target=s.display(df)).start()"
   ]
  },
  {
   "cell_type": "code",
   "execution_count": 11,
   "metadata": {},
   "outputs": [
    {
     "ename": "",
     "evalue": "",
     "output_type": "error",
     "traceback": [
      "\u001b[1;31mThe Kernel crashed while executing code in the the current cell or a previous cell. Please review the code in the cell(s) to identify a possible cause of the failure. Click <a href='https://aka.ms/vscodeJupyterKernelCrash'>here</a> for more info. View Jupyter <a href='command:jupyter.viewOutput'>log</a> for further details."
     ]
    }
   ],
   "source": [
    "s.display(df)"
   ]
  },
  {
   "cell_type": "code",
   "execution_count": null,
   "metadata": {},
   "outputs": [],
   "source": []
  }
 ],
 "metadata": {
  "kernelspec": {
   "display_name": "Python 3 (ipykernel)",
   "language": "python",
   "name": "python3"
  },
  "language_info": {
   "codemirror_mode": {
    "name": "ipython",
    "version": 3
   },
   "file_extension": ".py",
   "mimetype": "text/x-python",
   "name": "python",
   "nbconvert_exporter": "python",
   "pygments_lexer": "ipython3",
   "version": "3.7.9"
  }
 },
 "nbformat": 4,
 "nbformat_minor": 2
}
